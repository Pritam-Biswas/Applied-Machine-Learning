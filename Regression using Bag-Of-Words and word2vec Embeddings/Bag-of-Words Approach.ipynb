{
 "cells": [
  {
   "cell_type": "markdown",
   "metadata": {},
   "source": [
    "## Pritam Biswas (pb2796)"
   ]
  },
  {
   "cell_type": "code",
   "execution_count": 237,
   "metadata": {},
   "outputs": [],
   "source": [
    "import numpy as np\n",
    "import pandas as pd\n",
    "from sklearn.model_selection import train_test_split, cross_val_score\n",
    "from sklearn.preprocessing import OneHotEncoder, StandardScaler, MinMaxScaler\n",
    "from category_encoders import TargetEncoder\n",
    "from category_encoders import OrdinalEncoder\n",
    "from sklearn.impute import SimpleImputer\n",
    "from sklearn.compose import make_column_transformer\n",
    "from sklearn.pipeline import make_pipeline\n",
    "from sklearn.model_selection import GridSearchCV\n",
    "from sklearn.linear_model import Lasso\n",
    "from sklearn.linear_model import Ridge\n",
    "import re\n",
    "import string\n",
    "from nltk.stem import WordNetLemmatizer\n",
    "from nltk import word_tokenize\n",
    "from sklearn.feature_extraction.text import TfidfVectorizer\n",
    "from sklearn.feature_extraction.text import CountVectorizer"
   ]
  },
  {
   "cell_type": "markdown",
   "metadata": {},
   "source": [
    "## Task 1"
   ]
  },
  {
   "cell_type": "markdown",
   "metadata": {},
   "source": [
    "### 1.1"
   ]
  },
  {
   "cell_type": "code",
   "execution_count": 41,
   "metadata": {},
   "outputs": [],
   "source": [
    "data = pd.read_csv('winemag-data-130k-v2.csv')"
   ]
  },
  {
   "cell_type": "code",
   "execution_count": 42,
   "metadata": {},
   "outputs": [
    {
     "data": {
      "text/html": [
       "<div>\n",
       "<style scoped>\n",
       "    .dataframe tbody tr th:only-of-type {\n",
       "        vertical-align: middle;\n",
       "    }\n",
       "\n",
       "    .dataframe tbody tr th {\n",
       "        vertical-align: top;\n",
       "    }\n",
       "\n",
       "    .dataframe thead th {\n",
       "        text-align: right;\n",
       "    }\n",
       "</style>\n",
       "<table border=\"1\" class=\"dataframe\">\n",
       "  <thead>\n",
       "    <tr style=\"text-align: right;\">\n",
       "      <th></th>\n",
       "      <th>Unnamed: 0</th>\n",
       "      <th>country</th>\n",
       "      <th>description</th>\n",
       "      <th>designation</th>\n",
       "      <th>points</th>\n",
       "      <th>price</th>\n",
       "      <th>province</th>\n",
       "      <th>region_1</th>\n",
       "      <th>region_2</th>\n",
       "      <th>taster_name</th>\n",
       "      <th>taster_twitter_handle</th>\n",
       "      <th>title</th>\n",
       "      <th>variety</th>\n",
       "      <th>winery</th>\n",
       "    </tr>\n",
       "  </thead>\n",
       "  <tbody>\n",
       "    <tr>\n",
       "      <th>0</th>\n",
       "      <td>0</td>\n",
       "      <td>Italy</td>\n",
       "      <td>Aromas include tropical fruit, broom, brimston...</td>\n",
       "      <td>Vulkà Bianco</td>\n",
       "      <td>87</td>\n",
       "      <td>NaN</td>\n",
       "      <td>Sicily &amp; Sardinia</td>\n",
       "      <td>Etna</td>\n",
       "      <td>NaN</td>\n",
       "      <td>Kerin O’Keefe</td>\n",
       "      <td>@kerinokeefe</td>\n",
       "      <td>Nicosia 2013 Vulkà Bianco  (Etna)</td>\n",
       "      <td>White Blend</td>\n",
       "      <td>Nicosia</td>\n",
       "    </tr>\n",
       "    <tr>\n",
       "      <th>1</th>\n",
       "      <td>1</td>\n",
       "      <td>Portugal</td>\n",
       "      <td>This is ripe and fruity, a wine that is smooth...</td>\n",
       "      <td>Avidagos</td>\n",
       "      <td>87</td>\n",
       "      <td>15.0</td>\n",
       "      <td>Douro</td>\n",
       "      <td>NaN</td>\n",
       "      <td>NaN</td>\n",
       "      <td>Roger Voss</td>\n",
       "      <td>@vossroger</td>\n",
       "      <td>Quinta dos Avidagos 2011 Avidagos Red (Douro)</td>\n",
       "      <td>Portuguese Red</td>\n",
       "      <td>Quinta dos Avidagos</td>\n",
       "    </tr>\n",
       "    <tr>\n",
       "      <th>2</th>\n",
       "      <td>2</td>\n",
       "      <td>US</td>\n",
       "      <td>Tart and snappy, the flavors of lime flesh and...</td>\n",
       "      <td>NaN</td>\n",
       "      <td>87</td>\n",
       "      <td>14.0</td>\n",
       "      <td>Oregon</td>\n",
       "      <td>Willamette Valley</td>\n",
       "      <td>Willamette Valley</td>\n",
       "      <td>Paul Gregutt</td>\n",
       "      <td>@paulgwine</td>\n",
       "      <td>Rainstorm 2013 Pinot Gris (Willamette Valley)</td>\n",
       "      <td>Pinot Gris</td>\n",
       "      <td>Rainstorm</td>\n",
       "    </tr>\n",
       "    <tr>\n",
       "      <th>3</th>\n",
       "      <td>3</td>\n",
       "      <td>US</td>\n",
       "      <td>Pineapple rind, lemon pith and orange blossom ...</td>\n",
       "      <td>Reserve Late Harvest</td>\n",
       "      <td>87</td>\n",
       "      <td>13.0</td>\n",
       "      <td>Michigan</td>\n",
       "      <td>Lake Michigan Shore</td>\n",
       "      <td>NaN</td>\n",
       "      <td>Alexander Peartree</td>\n",
       "      <td>NaN</td>\n",
       "      <td>St. Julian 2013 Reserve Late Harvest Riesling ...</td>\n",
       "      <td>Riesling</td>\n",
       "      <td>St. Julian</td>\n",
       "    </tr>\n",
       "    <tr>\n",
       "      <th>4</th>\n",
       "      <td>4</td>\n",
       "      <td>US</td>\n",
       "      <td>Much like the regular bottling from 2012, this...</td>\n",
       "      <td>Vintner's Reserve Wild Child Block</td>\n",
       "      <td>87</td>\n",
       "      <td>65.0</td>\n",
       "      <td>Oregon</td>\n",
       "      <td>Willamette Valley</td>\n",
       "      <td>Willamette Valley</td>\n",
       "      <td>Paul Gregutt</td>\n",
       "      <td>@paulgwine</td>\n",
       "      <td>Sweet Cheeks 2012 Vintner's Reserve Wild Child...</td>\n",
       "      <td>Pinot Noir</td>\n",
       "      <td>Sweet Cheeks</td>\n",
       "    </tr>\n",
       "  </tbody>\n",
       "</table>\n",
       "</div>"
      ],
      "text/plain": [
       "   Unnamed: 0   country                                        description  \\\n",
       "0           0     Italy  Aromas include tropical fruit, broom, brimston...   \n",
       "1           1  Portugal  This is ripe and fruity, a wine that is smooth...   \n",
       "2           2        US  Tart and snappy, the flavors of lime flesh and...   \n",
       "3           3        US  Pineapple rind, lemon pith and orange blossom ...   \n",
       "4           4        US  Much like the regular bottling from 2012, this...   \n",
       "\n",
       "                          designation  points  price           province  \\\n",
       "0                        Vulkà Bianco      87    NaN  Sicily & Sardinia   \n",
       "1                            Avidagos      87   15.0              Douro   \n",
       "2                                 NaN      87   14.0             Oregon   \n",
       "3                Reserve Late Harvest      87   13.0           Michigan   \n",
       "4  Vintner's Reserve Wild Child Block      87   65.0             Oregon   \n",
       "\n",
       "              region_1           region_2         taster_name  \\\n",
       "0                 Etna                NaN       Kerin O’Keefe   \n",
       "1                  NaN                NaN          Roger Voss   \n",
       "2    Willamette Valley  Willamette Valley        Paul Gregutt   \n",
       "3  Lake Michigan Shore                NaN  Alexander Peartree   \n",
       "4    Willamette Valley  Willamette Valley        Paul Gregutt   \n",
       "\n",
       "  taster_twitter_handle                                              title  \\\n",
       "0          @kerinokeefe                  Nicosia 2013 Vulkà Bianco  (Etna)   \n",
       "1            @vossroger      Quinta dos Avidagos 2011 Avidagos Red (Douro)   \n",
       "2           @paulgwine       Rainstorm 2013 Pinot Gris (Willamette Valley)   \n",
       "3                   NaN  St. Julian 2013 Reserve Late Harvest Riesling ...   \n",
       "4           @paulgwine   Sweet Cheeks 2012 Vintner's Reserve Wild Child...   \n",
       "\n",
       "          variety               winery  \n",
       "0     White Blend              Nicosia  \n",
       "1  Portuguese Red  Quinta dos Avidagos  \n",
       "2      Pinot Gris            Rainstorm  \n",
       "3        Riesling           St. Julian  \n",
       "4      Pinot Noir         Sweet Cheeks  "
      ]
     },
     "execution_count": 42,
     "metadata": {},
     "output_type": "execute_result"
    }
   ],
   "source": [
    "data.head()"
   ]
  },
  {
   "cell_type": "code",
   "execution_count": 43,
   "metadata": {},
   "outputs": [],
   "source": [
    "# filtering USA rows\n",
    "data=data.loc[data.country=='US']"
   ]
  },
  {
   "cell_type": "code",
   "execution_count": 44,
   "metadata": {},
   "outputs": [
    {
     "data": {
      "text/plain": [
       "54504"
      ]
     },
     "execution_count": 44,
     "metadata": {},
     "output_type": "execute_result"
    }
   ],
   "source": [
    "len(data)"
   ]
  },
  {
   "cell_type": "code",
   "execution_count": 45,
   "metadata": {},
   "outputs": [],
   "source": [
    "data=data.drop(['Unnamed: 0', 'taster_twitter_handle', 'country'], axis=1)"
   ]
  },
  {
   "cell_type": "code",
   "execution_count": 46,
   "metadata": {},
   "outputs": [
    {
     "data": {
      "text/html": [
       "<div>\n",
       "<style scoped>\n",
       "    .dataframe tbody tr th:only-of-type {\n",
       "        vertical-align: middle;\n",
       "    }\n",
       "\n",
       "    .dataframe tbody tr th {\n",
       "        vertical-align: top;\n",
       "    }\n",
       "\n",
       "    .dataframe thead th {\n",
       "        text-align: right;\n",
       "    }\n",
       "</style>\n",
       "<table border=\"1\" class=\"dataframe\">\n",
       "  <thead>\n",
       "    <tr style=\"text-align: right;\">\n",
       "      <th></th>\n",
       "      <th>description</th>\n",
       "      <th>designation</th>\n",
       "      <th>points</th>\n",
       "      <th>price</th>\n",
       "      <th>province</th>\n",
       "      <th>region_1</th>\n",
       "      <th>region_2</th>\n",
       "      <th>taster_name</th>\n",
       "      <th>title</th>\n",
       "      <th>variety</th>\n",
       "      <th>winery</th>\n",
       "    </tr>\n",
       "  </thead>\n",
       "  <tbody>\n",
       "    <tr>\n",
       "      <th>2</th>\n",
       "      <td>Tart and snappy, the flavors of lime flesh and...</td>\n",
       "      <td>NaN</td>\n",
       "      <td>87</td>\n",
       "      <td>14.0</td>\n",
       "      <td>Oregon</td>\n",
       "      <td>Willamette Valley</td>\n",
       "      <td>Willamette Valley</td>\n",
       "      <td>Paul Gregutt</td>\n",
       "      <td>Rainstorm 2013 Pinot Gris (Willamette Valley)</td>\n",
       "      <td>Pinot Gris</td>\n",
       "      <td>Rainstorm</td>\n",
       "    </tr>\n",
       "    <tr>\n",
       "      <th>3</th>\n",
       "      <td>Pineapple rind, lemon pith and orange blossom ...</td>\n",
       "      <td>Reserve Late Harvest</td>\n",
       "      <td>87</td>\n",
       "      <td>13.0</td>\n",
       "      <td>Michigan</td>\n",
       "      <td>Lake Michigan Shore</td>\n",
       "      <td>NaN</td>\n",
       "      <td>Alexander Peartree</td>\n",
       "      <td>St. Julian 2013 Reserve Late Harvest Riesling ...</td>\n",
       "      <td>Riesling</td>\n",
       "      <td>St. Julian</td>\n",
       "    </tr>\n",
       "    <tr>\n",
       "      <th>4</th>\n",
       "      <td>Much like the regular bottling from 2012, this...</td>\n",
       "      <td>Vintner's Reserve Wild Child Block</td>\n",
       "      <td>87</td>\n",
       "      <td>65.0</td>\n",
       "      <td>Oregon</td>\n",
       "      <td>Willamette Valley</td>\n",
       "      <td>Willamette Valley</td>\n",
       "      <td>Paul Gregutt</td>\n",
       "      <td>Sweet Cheeks 2012 Vintner's Reserve Wild Child...</td>\n",
       "      <td>Pinot Noir</td>\n",
       "      <td>Sweet Cheeks</td>\n",
       "    </tr>\n",
       "    <tr>\n",
       "      <th>10</th>\n",
       "      <td>Soft, supple plum envelopes an oaky structure ...</td>\n",
       "      <td>Mountain Cuvée</td>\n",
       "      <td>87</td>\n",
       "      <td>19.0</td>\n",
       "      <td>California</td>\n",
       "      <td>Napa Valley</td>\n",
       "      <td>Napa</td>\n",
       "      <td>Virginie Boone</td>\n",
       "      <td>Kirkland Signature 2011 Mountain Cuvée Caberne...</td>\n",
       "      <td>Cabernet Sauvignon</td>\n",
       "      <td>Kirkland Signature</td>\n",
       "    </tr>\n",
       "    <tr>\n",
       "      <th>12</th>\n",
       "      <td>Slightly reduced, this wine offers a chalky, t...</td>\n",
       "      <td>NaN</td>\n",
       "      <td>87</td>\n",
       "      <td>34.0</td>\n",
       "      <td>California</td>\n",
       "      <td>Alexander Valley</td>\n",
       "      <td>Sonoma</td>\n",
       "      <td>Virginie Boone</td>\n",
       "      <td>Louis M. Martini 2012 Cabernet Sauvignon (Alex...</td>\n",
       "      <td>Cabernet Sauvignon</td>\n",
       "      <td>Louis M. Martini</td>\n",
       "    </tr>\n",
       "  </tbody>\n",
       "</table>\n",
       "</div>"
      ],
      "text/plain": [
       "                                          description  \\\n",
       "2   Tart and snappy, the flavors of lime flesh and...   \n",
       "3   Pineapple rind, lemon pith and orange blossom ...   \n",
       "4   Much like the regular bottling from 2012, this...   \n",
       "10  Soft, supple plum envelopes an oaky structure ...   \n",
       "12  Slightly reduced, this wine offers a chalky, t...   \n",
       "\n",
       "                           designation  points  price    province  \\\n",
       "2                                  NaN      87   14.0      Oregon   \n",
       "3                 Reserve Late Harvest      87   13.0    Michigan   \n",
       "4   Vintner's Reserve Wild Child Block      87   65.0      Oregon   \n",
       "10                      Mountain Cuvée      87   19.0  California   \n",
       "12                                 NaN      87   34.0  California   \n",
       "\n",
       "               region_1           region_2         taster_name  \\\n",
       "2     Willamette Valley  Willamette Valley        Paul Gregutt   \n",
       "3   Lake Michigan Shore                NaN  Alexander Peartree   \n",
       "4     Willamette Valley  Willamette Valley        Paul Gregutt   \n",
       "10          Napa Valley               Napa      Virginie Boone   \n",
       "12     Alexander Valley             Sonoma      Virginie Boone   \n",
       "\n",
       "                                                title             variety  \\\n",
       "2       Rainstorm 2013 Pinot Gris (Willamette Valley)          Pinot Gris   \n",
       "3   St. Julian 2013 Reserve Late Harvest Riesling ...            Riesling   \n",
       "4   Sweet Cheeks 2012 Vintner's Reserve Wild Child...          Pinot Noir   \n",
       "10  Kirkland Signature 2011 Mountain Cuvée Caberne...  Cabernet Sauvignon   \n",
       "12  Louis M. Martini 2012 Cabernet Sauvignon (Alex...  Cabernet Sauvignon   \n",
       "\n",
       "                winery  \n",
       "2            Rainstorm  \n",
       "3           St. Julian  \n",
       "4         Sweet Cheeks  \n",
       "10  Kirkland Signature  \n",
       "12    Louis M. Martini  "
      ]
     },
     "execution_count": 46,
     "metadata": {},
     "output_type": "execute_result"
    }
   ],
   "source": [
    "data.head()"
   ]
  },
  {
   "cell_type": "code",
   "execution_count": 47,
   "metadata": {},
   "outputs": [
    {
     "name": "stdout",
     "output_type": "stream",
     "text": [
      "54504\n"
     ]
    }
   ],
   "source": [
    "print(len(data))\n",
    "data=data.sample(frac=0.5, random_state=1)"
   ]
  },
  {
   "cell_type": "code",
   "execution_count": 48,
   "metadata": {},
   "outputs": [
    {
     "name": "stdout",
     "output_type": "stream",
     "text": [
      "27252\n"
     ]
    }
   ],
   "source": [
    "print(len(data))"
   ]
  },
  {
   "cell_type": "code",
   "execution_count": 49,
   "metadata": {},
   "outputs": [
    {
     "data": {
      "text/html": [
       "<div>\n",
       "<style scoped>\n",
       "    .dataframe tbody tr th:only-of-type {\n",
       "        vertical-align: middle;\n",
       "    }\n",
       "\n",
       "    .dataframe tbody tr th {\n",
       "        vertical-align: top;\n",
       "    }\n",
       "\n",
       "    .dataframe thead th {\n",
       "        text-align: right;\n",
       "    }\n",
       "</style>\n",
       "<table border=\"1\" class=\"dataframe\">\n",
       "  <thead>\n",
       "    <tr style=\"text-align: right;\">\n",
       "      <th></th>\n",
       "      <th>designation</th>\n",
       "      <th>price</th>\n",
       "      <th>province</th>\n",
       "      <th>region_1</th>\n",
       "      <th>region_2</th>\n",
       "      <th>taster_name</th>\n",
       "      <th>title</th>\n",
       "      <th>variety</th>\n",
       "      <th>winery</th>\n",
       "    </tr>\n",
       "  </thead>\n",
       "  <tbody>\n",
       "    <tr>\n",
       "      <th>118731</th>\n",
       "      <td>NaN</td>\n",
       "      <td>12.0</td>\n",
       "      <td>California</td>\n",
       "      <td>California</td>\n",
       "      <td>California Other</td>\n",
       "      <td>Jim Gordon</td>\n",
       "      <td>Mirassou 2014 Moscato (California)</td>\n",
       "      <td>Moscato</td>\n",
       "      <td>Mirassou</td>\n",
       "    </tr>\n",
       "    <tr>\n",
       "      <th>12277</th>\n",
       "      <td>Estate Reserve</td>\n",
       "      <td>50.0</td>\n",
       "      <td>California</td>\n",
       "      <td>Napa Valley</td>\n",
       "      <td>Napa</td>\n",
       "      <td>Paul Gregutt</td>\n",
       "      <td>Storybook Mountain 1997 Estate Reserve Zinfand...</td>\n",
       "      <td>Zinfandel</td>\n",
       "      <td>Storybook Mountain</td>\n",
       "    </tr>\n",
       "    <tr>\n",
       "      <th>80706</th>\n",
       "      <td>Snakepit Red</td>\n",
       "      <td>60.0</td>\n",
       "      <td>California</td>\n",
       "      <td>Alexander Valley</td>\n",
       "      <td>Sonoma</td>\n",
       "      <td>Virginie Boone</td>\n",
       "      <td>Medlock Ames 2013 Snakepit Red Red (Alexander ...</td>\n",
       "      <td>Bordeaux-style Red Blend</td>\n",
       "      <td>Medlock Ames</td>\n",
       "    </tr>\n",
       "    <tr>\n",
       "      <th>1494</th>\n",
       "      <td>Vintage Port</td>\n",
       "      <td>34.0</td>\n",
       "      <td>California</td>\n",
       "      <td>Paso Robles</td>\n",
       "      <td>Central Coast</td>\n",
       "      <td>NaN</td>\n",
       "      <td>Robert Hall 2005 Vintage Port Port (Paso Robles)</td>\n",
       "      <td>Port</td>\n",
       "      <td>Robert Hall</td>\n",
       "    </tr>\n",
       "    <tr>\n",
       "      <th>43985</th>\n",
       "      <td>Les Vignes De Marcoux</td>\n",
       "      <td>15.0</td>\n",
       "      <td>Washington</td>\n",
       "      <td>Yakima Valley</td>\n",
       "      <td>Columbia Valley</td>\n",
       "      <td>Paul Gregutt</td>\n",
       "      <td>San Juan Vineyards 2009 Les Vignes De Marcoux ...</td>\n",
       "      <td>Riesling</td>\n",
       "      <td>San Juan Vineyards</td>\n",
       "    </tr>\n",
       "  </tbody>\n",
       "</table>\n",
       "</div>"
      ],
      "text/plain": [
       "                  designation  price    province          region_1  \\\n",
       "118731                    NaN   12.0  California        California   \n",
       "12277          Estate Reserve   50.0  California       Napa Valley   \n",
       "80706            Snakepit Red   60.0  California  Alexander Valley   \n",
       "1494             Vintage Port   34.0  California       Paso Robles   \n",
       "43985   Les Vignes De Marcoux   15.0  Washington     Yakima Valley   \n",
       "\n",
       "                region_2     taster_name  \\\n",
       "118731  California Other      Jim Gordon   \n",
       "12277               Napa    Paul Gregutt   \n",
       "80706             Sonoma  Virginie Boone   \n",
       "1494       Central Coast             NaN   \n",
       "43985    Columbia Valley    Paul Gregutt   \n",
       "\n",
       "                                                    title  \\\n",
       "118731                 Mirassou 2014 Moscato (California)   \n",
       "12277   Storybook Mountain 1997 Estate Reserve Zinfand...   \n",
       "80706   Medlock Ames 2013 Snakepit Red Red (Alexander ...   \n",
       "1494     Robert Hall 2005 Vintage Port Port (Paso Robles)   \n",
       "43985   San Juan Vineyards 2009 Les Vignes De Marcoux ...   \n",
       "\n",
       "                         variety              winery  \n",
       "118731                   Moscato            Mirassou  \n",
       "12277                  Zinfandel  Storybook Mountain  \n",
       "80706   Bordeaux-style Red Blend        Medlock Ames  \n",
       "1494                        Port         Robert Hall  \n",
       "43985                   Riesling  San Juan Vineyards  "
      ]
     },
     "execution_count": 49,
     "metadata": {},
     "output_type": "execute_result"
    }
   ],
   "source": [
    "## non text based features model\n",
    "y=data.points\n",
    "text_f=['description']\n",
    "data_num=data.drop(text_f,axis=1)\n",
    "data_num=data_num.drop(['points'], axis=1)\n",
    "data_num.head()"
   ]
  },
  {
   "cell_type": "code",
   "execution_count": 52,
   "metadata": {},
   "outputs": [],
   "source": [
    "def extract_date(titles):\n",
    "    res=[]\n",
    "    \n",
    "    for title in titles:\n",
    "        title=title.translate(str.maketrans('', '', string.punctuation))\n",
    "        title=title.split(' ')\n",
    "        num=''\n",
    "        for token in title:\n",
    "            if len(token)==4 and token.isdigit() and (token.startswith('1') or token.startswith('2')):\n",
    "                num=token\n",
    "        if num=='':\n",
    "            res.append(np.nan)\n",
    "        else:\n",
    "            res.append(float(num))\n",
    "    return res\n",
    "                "
   ]
  },
  {
   "cell_type": "code",
   "execution_count": 53,
   "metadata": {},
   "outputs": [],
   "source": [
    "tmp=list(data_num['title'].values)"
   ]
  },
  {
   "cell_type": "code",
   "execution_count": 54,
   "metadata": {},
   "outputs": [],
   "source": [
    "date_list=extract_date(tmp)"
   ]
  },
  {
   "cell_type": "code",
   "execution_count": 55,
   "metadata": {},
   "outputs": [],
   "source": [
    "data_num['title']=date_list"
   ]
  },
  {
   "cell_type": "code",
   "execution_count": 57,
   "metadata": {},
   "outputs": [
    {
     "data": {
      "text/plain": [
       "designation    9097\n",
       "price           148\n",
       "province         26\n",
       "region_1        238\n",
       "region_2         17\n",
       "taster_name      15\n",
       "title            55\n",
       "variety         203\n",
       "winery         4471\n",
       "dtype: int64"
      ]
     },
     "execution_count": 57,
     "metadata": {},
     "output_type": "execute_result"
    }
   ],
   "source": [
    "data_num.nunique()"
   ]
  },
  {
   "cell_type": "code",
   "execution_count": 73,
   "metadata": {},
   "outputs": [
    {
     "data": {
      "text/plain": [
       "designation     object\n",
       "price          float64\n",
       "province        object\n",
       "region_1        object\n",
       "region_2        object\n",
       "taster_name     object\n",
       "title          float64\n",
       "variety         object\n",
       "winery          object\n",
       "dtype: object"
      ]
     },
     "execution_count": 73,
     "metadata": {},
     "output_type": "execute_result"
    }
   ],
   "source": [
    "data_num.dtypes"
   ]
  },
  {
   "cell_type": "code",
   "execution_count": 74,
   "metadata": {},
   "outputs": [],
   "source": [
    "## based on the dtypes and no. of unique values we segregate the features\n",
    "num_features=['price','title']\n",
    "onehot_features=['province','region_2','taster_name']\n",
    "target_features=['designation','region_1','variety','winery']\n"
   ]
  },
  {
   "cell_type": "code",
   "execution_count": 85,
   "metadata": {},
   "outputs": [],
   "source": [
    "cont_preprocessor = make_pipeline(SimpleImputer(strategy='median'), StandardScaler())\n",
    "target_preprocessor = make_pipeline(TargetEncoder(), SimpleImputer(strategy='constant'), StandardScaler())\n",
    "onehot_preprocessor = make_pipeline(SimpleImputer(strategy='constant'), OneHotEncoder(handle_unknown='ignore'))"
   ]
  },
  {
   "cell_type": "code",
   "execution_count": 86,
   "metadata": {},
   "outputs": [],
   "source": [
    "preprocessor_1=make_column_transformer((cont_preprocessor, num_features),\n",
    "                                    (target_preprocessor, target_features),\n",
    "                                    (onehot_preprocessor, onehot_features))"
   ]
  },
  {
   "cell_type": "code",
   "execution_count": 87,
   "metadata": {},
   "outputs": [],
   "source": [
    "X_train, X_test, y_train, y_test = train_test_split(data_num, y, random_state=1)"
   ]
  },
  {
   "cell_type": "code",
   "execution_count": 89,
   "metadata": {},
   "outputs": [
    {
     "name": "stdout",
     "output_type": "stream",
     "text": [
      "0.2495570679983114\n"
     ]
    }
   ],
   "source": [
    "lasso_pipe=make_pipeline(preprocessor_1, Lasso())\n",
    "# lasso_pipe.fit(X_train,y_train)\n",
    "cv_score=np.mean(cross_val_score(lasso_pipe, X_train, y_train))\n",
    "print(cv_score)"
   ]
  },
  {
   "cell_type": "code",
   "execution_count": 90,
   "metadata": {},
   "outputs": [
    {
     "name": "stdout",
     "output_type": "stream",
     "text": [
      "0.41250709520915996\n"
     ]
    }
   ],
   "source": [
    "ridge_pipe=make_pipeline(preprocessor_1, Ridge())\n",
    "# lasso_pipe.fit(X_train,y_train)\n",
    "cv_score=np.mean(cross_val_score(ridge_pipe, X_train, y_train))\n",
    "print(cv_score)"
   ]
  },
  {
   "cell_type": "code",
   "execution_count": 217,
   "metadata": {},
   "outputs": [
    {
     "name": "stdout",
     "output_type": "stream",
     "text": [
      "0.42797230661150787\n"
     ]
    }
   ],
   "source": [
    "ridge_pipe.fit(X_train, y_train)\n",
    "print(ridge_pipe.score(X_test, y_test))"
   ]
  },
  {
   "cell_type": "markdown",
   "metadata": {},
   "source": [
    "#### We  notice that Ridge regression performs better than Lasso, So we can use this as baseline model with no text features. "
   ]
  },
  {
   "cell_type": "markdown",
   "metadata": {},
   "source": [
    "### 1.2"
   ]
  },
  {
   "cell_type": "code",
   "execution_count": 165,
   "metadata": {},
   "outputs": [],
   "source": [
    "data_text=data.description"
   ]
  },
  {
   "cell_type": "code",
   "execution_count": 166,
   "metadata": {},
   "outputs": [],
   "source": [
    "tmp=list(data_text.values)"
   ]
  },
  {
   "cell_type": "code",
   "execution_count": 218,
   "metadata": {},
   "outputs": [],
   "source": [
    "def preprocess_text(text_list): # tokenizing , removing punctuations, digits, lemmatizing\n",
    "    res=[]\n",
    "    lemm=WordNetLemmatizer()\n",
    "    for text in text_list:\n",
    "        if len(text)==0:\n",
    "            res.append('')\n",
    "            continue\n",
    "        \n",
    "        text=text.lower()\n",
    "        text=text.translate(str.maketrans('', '', string.punctuation))\n",
    "        pattern = '[0-9]'\n",
    "        text=re.sub(pattern, '', text)\n",
    "        items=word_tokenize(text)\n",
    "        items = [lemm.lemmatize(i) for i in items]\n",
    "        items = (' ').join(items)\n",
    "        \n",
    "        res.append(items)\n",
    "    return res"
   ]
  },
  {
   "cell_type": "code",
   "execution_count": 168,
   "metadata": {},
   "outputs": [],
   "source": [
    "text_list=np.array(preprocess_text(tmp))"
   ]
  },
  {
   "cell_type": "code",
   "execution_count": 220,
   "metadata": {},
   "outputs": [],
   "source": [
    "X_train_t, X_test_t, y_train_t, y_test_t = train_test_split(text_list, y, random_state=1)"
   ]
  },
  {
   "cell_type": "code",
   "execution_count": 221,
   "metadata": {},
   "outputs": [],
   "source": [
    "cv=CountVectorizer(stop_words='english')"
   ]
  },
  {
   "cell_type": "code",
   "execution_count": 222,
   "metadata": {},
   "outputs": [
    {
     "data": {
      "text/plain": [
       "<20439x15792 sparse matrix of type '<class 'numpy.int64'>'\n",
       "\twith 472816 stored elements in Compressed Sparse Row format>"
      ]
     },
     "execution_count": 222,
     "metadata": {},
     "output_type": "execute_result"
    }
   ],
   "source": [
    "tmp=CountVectorizer(stop_words='english').fit(X_train_t)\n",
    "tmp.transform(X_train_t)"
   ]
  },
  {
   "cell_type": "code",
   "execution_count": 223,
   "metadata": {},
   "outputs": [
    {
     "name": "stdout",
     "output_type": "stream",
     "text": [
      "15792\n",
      "['aand', 'bay', 'cancer', 'concerned', 'disgorgement', 'faux', 'grandpa', 'integrating', 'locke', 'mumm', 'pearflavored', 'ramazzotti', 'scored', 'stanly', 'thanks', 'ventosas']\n"
     ]
    }
   ],
   "source": [
    "f=tmp.get_feature_names()\n",
    "print(len(f))\n",
    "print(f[::1000]) ## some example features"
   ]
  },
  {
   "cell_type": "code",
   "execution_count": 224,
   "metadata": {},
   "outputs": [
    {
     "name": "stdout",
     "output_type": "stream",
     "text": [
      "0.6094347106328996\n"
     ]
    }
   ],
   "source": [
    "ridge_pipe2=make_pipeline(CountVectorizer(stop_words='english'), Ridge())\n",
    "score=np.mean(cross_val_score(ridge_pipe2, X_train_t, y_train_t))\n",
    "print(score)"
   ]
  },
  {
   "cell_type": "code",
   "execution_count": 225,
   "metadata": {},
   "outputs": [
    {
     "name": "stdout",
     "output_type": "stream",
     "text": [
      "0.6299945607136033\n"
     ]
    }
   ],
   "source": [
    "ridge_pipe2.fit(X_train_t, y_train_t)\n",
    "print(ridge_pipe2.score(X_test_t, y_test_t))"
   ]
  },
  {
   "cell_type": "markdown",
   "metadata": {},
   "source": [
    "#### simple BOW model improves upon the result of non-text features model"
   ]
  },
  {
   "cell_type": "markdown",
   "metadata": {},
   "source": [
    "### 1.3"
   ]
  },
  {
   "cell_type": "code",
   "execution_count": 187,
   "metadata": {},
   "outputs": [
    {
     "name": "stdout",
     "output_type": "stream",
     "text": [
      "0.6486964820874511\n"
     ]
    }
   ],
   "source": [
    "tf_pipe2=make_pipeline(TfidfVectorizer(stop_words='english'), Ridge())\n",
    "score=np.mean(cross_val_score(tf_pipe2, X_train_t, y_train_t))\n",
    "print(score)"
   ]
  },
  {
   "cell_type": "code",
   "execution_count": 191,
   "metadata": {},
   "outputs": [
    {
     "name": "stdout",
     "output_type": "stream",
     "text": [
      "0.662069561357225\n"
     ]
    }
   ],
   "source": [
    "preprocess = make_pipeline(CountVectorizer(ngram_range = (1,2),stop_words = 'english'))\n",
    "ngram_pipe2=make_pipeline(CountVectorizer(ngram_range = (1,2),stop_words = 'english'), Ridge())\n",
    "score=np.mean(cross_val_score(ngram_pipe2, X_train_t, y_train_t))\n",
    "print(score)"
   ]
  },
  {
   "cell_type": "code",
   "execution_count": 227,
   "metadata": {},
   "outputs": [
    {
     "data": {
      "text/plain": [
       "GridSearchCV(cv=None, error_score=nan,\n",
       "             estimator=Pipeline(memory=None,\n",
       "                                steps=[('countvectorizer',\n",
       "                                        CountVectorizer(analyzer='word',\n",
       "                                                        binary=False,\n",
       "                                                        decode_error='strict',\n",
       "                                                        dtype=<class 'numpy.int64'>,\n",
       "                                                        encoding='utf-8',\n",
       "                                                        input='content',\n",
       "                                                        lowercase=True,\n",
       "                                                        max_df=1.0,\n",
       "                                                        max_features=None,\n",
       "                                                        min_df=1,\n",
       "                                                        ngram_range=(1, 1),\n",
       "                                                        preprocessor=None,\n",
       "                                                        stop_words='english',\n",
       "                                                        strip_accents=None,...\n",
       "                                        Ridge(alpha=1.0, copy_X=True,\n",
       "                                              fit_intercept=True, max_iter=None,\n",
       "                                              normalize=False,\n",
       "                                              random_state=None, solver='auto',\n",
       "                                              tol=0.001))],\n",
       "                                verbose=False),\n",
       "             iid='deprecated', n_jobs=None,\n",
       "             param_grid={'countvectorizer__ngram_range': [(1, 1), (1, 2),\n",
       "                                                          (1, 3)],\n",
       "                         'ridge__alpha': [0.01, 0.03, 0.1, 0.3, 1, 3, 10]},\n",
       "             pre_dispatch='2*n_jobs', refit=True, return_train_score=False,\n",
       "             scoring=None, verbose=0)"
      ]
     },
     "execution_count": 227,
     "metadata": {},
     "output_type": "execute_result"
    }
   ],
   "source": [
    "grid={\"countvectorizer__ngram_range\":[(1,1),(1,2),(1,3)], \"ridge__alpha\":[0.01, 0.03,0.1,0.3,1,3,10] }\n",
    "model=GridSearchCV(make_pipeline(CountVectorizer(stop_words='english'), Ridge()), param_grid=grid)\n",
    "model.fit(X_train_t, y_train_t)\n"
   ]
  },
  {
   "cell_type": "code",
   "execution_count": 228,
   "metadata": {},
   "outputs": [
    {
     "name": "stdout",
     "output_type": "stream",
     "text": [
      "{'countvectorizer__ngram_range': (1, 2), 'ridge__alpha': 10}\n",
      "0.6748458256004974\n"
     ]
    }
   ],
   "source": [
    "print(model.best_params_)\n",
    "print(model.best_score_)"
   ]
  },
  {
   "cell_type": "code",
   "execution_count": 229,
   "metadata": {},
   "outputs": [
    {
     "name": "stdout",
     "output_type": "stream",
     "text": [
      "0.6911454329111661\n"
     ]
    }
   ],
   "source": [
    "print(model.score(X_test_t,y_test_t))"
   ]
  },
  {
   "cell_type": "markdown",
   "metadata": {},
   "source": [
    "#### We notice that n-gram based model performs better on cross-validation score than the tf-idf based model. So perform a grid search on it find the best parameters. The model with best params further improves the score on the test set"
   ]
  },
  {
   "cell_type": "markdown",
   "metadata": {},
   "source": [
    "### 1.4"
   ]
  },
  {
   "cell_type": "code",
   "execution_count": 230,
   "metadata": {},
   "outputs": [],
   "source": [
    "data_num['descript']=list(text_list)"
   ]
  },
  {
   "cell_type": "code",
   "execution_count": 231,
   "metadata": {},
   "outputs": [
    {
     "data": {
      "text/html": [
       "<div>\n",
       "<style scoped>\n",
       "    .dataframe tbody tr th:only-of-type {\n",
       "        vertical-align: middle;\n",
       "    }\n",
       "\n",
       "    .dataframe tbody tr th {\n",
       "        vertical-align: top;\n",
       "    }\n",
       "\n",
       "    .dataframe thead th {\n",
       "        text-align: right;\n",
       "    }\n",
       "</style>\n",
       "<table border=\"1\" class=\"dataframe\">\n",
       "  <thead>\n",
       "    <tr style=\"text-align: right;\">\n",
       "      <th></th>\n",
       "      <th>designation</th>\n",
       "      <th>price</th>\n",
       "      <th>province</th>\n",
       "      <th>region_1</th>\n",
       "      <th>region_2</th>\n",
       "      <th>taster_name</th>\n",
       "      <th>title</th>\n",
       "      <th>variety</th>\n",
       "      <th>winery</th>\n",
       "      <th>descript</th>\n",
       "    </tr>\n",
       "  </thead>\n",
       "  <tbody>\n",
       "    <tr>\n",
       "      <th>118731</th>\n",
       "      <td>NaN</td>\n",
       "      <td>12.0</td>\n",
       "      <td>California</td>\n",
       "      <td>California</td>\n",
       "      <td>California Other</td>\n",
       "      <td>Jim Gordon</td>\n",
       "      <td>2014.0</td>\n",
       "      <td>Moscato</td>\n",
       "      <td>Mirassou</td>\n",
       "      <td>this is a great find in this category gentle f...</td>\n",
       "    </tr>\n",
       "    <tr>\n",
       "      <th>12277</th>\n",
       "      <td>Estate Reserve</td>\n",
       "      <td>50.0</td>\n",
       "      <td>California</td>\n",
       "      <td>Napa Valley</td>\n",
       "      <td>Napa</td>\n",
       "      <td>Paul Gregutt</td>\n",
       "      <td>1997.0</td>\n",
       "      <td>Zinfandel</td>\n",
       "      <td>Storybook Mountain</td>\n",
       "      <td>blackberry are the story here boatload of rich...</td>\n",
       "    </tr>\n",
       "    <tr>\n",
       "      <th>80706</th>\n",
       "      <td>Snakepit Red</td>\n",
       "      <td>60.0</td>\n",
       "      <td>California</td>\n",
       "      <td>Alexander Valley</td>\n",
       "      <td>Sonoma</td>\n",
       "      <td>Virginie Boone</td>\n",
       "      <td>2013.0</td>\n",
       "      <td>Bordeaux-style Red Blend</td>\n",
       "      <td>Medlock Ames</td>\n",
       "      <td>a majority of merlot speaks in this nicely app...</td>\n",
       "    </tr>\n",
       "    <tr>\n",
       "      <th>1494</th>\n",
       "      <td>Vintage Port</td>\n",
       "      <td>34.0</td>\n",
       "      <td>California</td>\n",
       "      <td>Paso Robles</td>\n",
       "      <td>Central Coast</td>\n",
       "      <td>NaN</td>\n",
       "      <td>2005.0</td>\n",
       "      <td>Port</td>\n",
       "      <td>Robert Hall</td>\n",
       "      <td>made from authentic port variety this dessert ...</td>\n",
       "    </tr>\n",
       "    <tr>\n",
       "      <th>43985</th>\n",
       "      <td>Les Vignes De Marcoux</td>\n",
       "      <td>15.0</td>\n",
       "      <td>Washington</td>\n",
       "      <td>Yakima Valley</td>\n",
       "      <td>Columbia Valley</td>\n",
       "      <td>Paul Gregutt</td>\n",
       "      <td>2009.0</td>\n",
       "      <td>Riesling</td>\n",
       "      <td>San Juan Vineyards</td>\n",
       "      <td>offdry and stainless steel fermented it carry ...</td>\n",
       "    </tr>\n",
       "  </tbody>\n",
       "</table>\n",
       "</div>"
      ],
      "text/plain": [
       "                  designation  price    province          region_1  \\\n",
       "118731                    NaN   12.0  California        California   \n",
       "12277          Estate Reserve   50.0  California       Napa Valley   \n",
       "80706            Snakepit Red   60.0  California  Alexander Valley   \n",
       "1494             Vintage Port   34.0  California       Paso Robles   \n",
       "43985   Les Vignes De Marcoux   15.0  Washington     Yakima Valley   \n",
       "\n",
       "                region_2     taster_name   title                   variety  \\\n",
       "118731  California Other      Jim Gordon  2014.0                   Moscato   \n",
       "12277               Napa    Paul Gregutt  1997.0                 Zinfandel   \n",
       "80706             Sonoma  Virginie Boone  2013.0  Bordeaux-style Red Blend   \n",
       "1494       Central Coast             NaN  2005.0                      Port   \n",
       "43985    Columbia Valley    Paul Gregutt  2009.0                  Riesling   \n",
       "\n",
       "                    winery                                           descript  \n",
       "118731            Mirassou  this is a great find in this category gentle f...  \n",
       "12277   Storybook Mountain  blackberry are the story here boatload of rich...  \n",
       "80706         Medlock Ames  a majority of merlot speaks in this nicely app...  \n",
       "1494           Robert Hall  made from authentic port variety this dessert ...  \n",
       "43985   San Juan Vineyards  offdry and stainless steel fermented it carry ...  "
      ]
     },
     "execution_count": 231,
     "metadata": {},
     "output_type": "execute_result"
    }
   ],
   "source": [
    "data_num.head()"
   ]
  },
  {
   "cell_type": "code",
   "execution_count": 232,
   "metadata": {},
   "outputs": [],
   "source": [
    "ngram_preprocessor=make_pipeline(CountVectorizer(ngram_range = (1,3),stop_words = 'english'))\n",
    "ngram_feature=['descript']\n",
    "preprocessor_2=make_column_transformer((cont_preprocessor, num_features),\n",
    "                                    (target_preprocessor, target_features),\n",
    "                                    (onehot_preprocessor, onehot_features),\n",
    "                                      (ngram_preprocessor,'descript'))"
   ]
  },
  {
   "cell_type": "code",
   "execution_count": 233,
   "metadata": {},
   "outputs": [],
   "source": [
    "X_train_f, X_test_f, y_train_f, y_test_f = train_test_split(data_num, y, random_state=1)"
   ]
  },
  {
   "cell_type": "code",
   "execution_count": 234,
   "metadata": {},
   "outputs": [
    {
     "name": "stdout",
     "output_type": "stream",
     "text": [
      "0.7341897140128684\n"
     ]
    }
   ],
   "source": [
    "f_pipe2=make_pipeline(preprocessor_2, Ridge(alpha=10))\n",
    "score=np.mean(cross_val_score(f_pipe2, X_train_f, y_train_f))\n",
    "print(score)"
   ]
  },
  {
   "cell_type": "code",
   "execution_count": 235,
   "metadata": {},
   "outputs": [
    {
     "data": {
      "text/plain": [
       "Pipeline(memory=None,\n",
       "         steps=[('columntransformer',\n",
       "                 ColumnTransformer(n_jobs=None, remainder='drop',\n",
       "                                   sparse_threshold=0.3,\n",
       "                                   transformer_weights=None,\n",
       "                                   transformers=[('pipeline-1',\n",
       "                                                  Pipeline(memory=None,\n",
       "                                                           steps=[('simpleimputer',\n",
       "                                                                   SimpleImputer(add_indicator=False,\n",
       "                                                                                 copy=True,\n",
       "                                                                                 fill_value=None,\n",
       "                                                                                 missing_values=nan,\n",
       "                                                                                 strategy='median',\n",
       "                                                                                 verbose=0)),\n",
       "                                                                  ('standardscaler',\n",
       "                                                                   Standard...\n",
       "                                                                                   max_features=None,\n",
       "                                                                                   min_df=1,\n",
       "                                                                                   ngram_range=(1,\n",
       "                                                                                                3),\n",
       "                                                                                   preprocessor=None,\n",
       "                                                                                   stop_words='english',\n",
       "                                                                                   strip_accents=None,\n",
       "                                                                                   token_pattern='(?u)\\\\b\\\\w\\\\w+\\\\b',\n",
       "                                                                                   tokenizer=None,\n",
       "                                                                                   vocabulary=None))],\n",
       "                                                           verbose=False),\n",
       "                                                  'descript')],\n",
       "                                   verbose=False)),\n",
       "                ('ridge',\n",
       "                 Ridge(alpha=10, copy_X=True, fit_intercept=True, max_iter=None,\n",
       "                       normalize=False, random_state=None, solver='auto',\n",
       "                       tol=0.001))],\n",
       "         verbose=False)"
      ]
     },
     "execution_count": 235,
     "metadata": {},
     "output_type": "execute_result"
    }
   ],
   "source": [
    "f_pipe2.fit(X_train_f, y_train_f)"
   ]
  },
  {
   "cell_type": "code",
   "execution_count": 236,
   "metadata": {},
   "outputs": [
    {
     "name": "stdout",
     "output_type": "stream",
     "text": [
      "0.7578737116351038\n"
     ]
    }
   ],
   "source": [
    "print(f_pipe2.score(X_test_f,y_test_f))"
   ]
  },
  {
   "cell_type": "markdown",
   "metadata": {},
   "source": [
    "#### Combining the non-text features with the n-gram based BOW model, we see that the score on the test goes upto ~0.76 , which shows that the wine quality is dependent on categorical, numeric features as well as keyword based features from the text description."
   ]
  }
 ],
 "metadata": {
  "kernelspec": {
   "display_name": "Python 3",
   "language": "python",
   "name": "python3"
  },
  "language_info": {
   "codemirror_mode": {
    "name": "ipython",
    "version": 3
   },
   "file_extension": ".py",
   "mimetype": "text/x-python",
   "name": "python",
   "nbconvert_exporter": "python",
   "pygments_lexer": "ipython3",
   "version": "3.7.4"
  }
 },
 "nbformat": 4,
 "nbformat_minor": 2
}
