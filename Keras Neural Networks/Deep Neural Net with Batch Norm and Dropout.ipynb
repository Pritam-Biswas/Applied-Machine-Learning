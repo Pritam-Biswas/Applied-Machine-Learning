{
  "nbformat": 4,
  "nbformat_minor": 0,
  "metadata": {
    "colab": {
      "name": "AML_5_2.ipynb",
      "provenance": [],
      "collapsed_sections": []
    },
    "kernelspec": {
      "name": "python3",
      "display_name": "Python 3"
    },
    "accelerator": "GPU"
  },
  "cells": [
    {
      "cell_type": "code",
      "metadata": {
        "id": "Y9LyDe0e9n-r",
        "colab_type": "code",
        "outputId": "94854b84-8fdf-454b-a5b6-2e69f1b2564e",
        "colab": {
          "base_uri": "https://localhost:8080/",
          "height": 373
        }
      },
      "source": [
        "%matplotlib inline\n",
        "!pip install category_encoders\n",
        "from google.colab import drive\n",
        "import os\n",
        "import time\n",
        "import pandas as pd\n",
        "import numpy as np\n",
        "from matplotlib import pyplot as plt\n",
        "import pickle\n",
        "drive.mount('/content/drive')\n",
        "os.chdir(\"/content/drive/My Drive/Colab Notebooks/AML\")\n",
        "pd.set_option('display.max_rows', 20)\n"
      ],
      "execution_count": 0,
      "outputs": [
        {
          "output_type": "stream",
          "text": [
            "Collecting category_encoders\n",
            "\u001b[?25l  Downloading https://files.pythonhosted.org/packages/a0/52/c54191ad3782de633ea3d6ee3bb2837bda0cf3bc97644bb6375cf14150a0/category_encoders-2.1.0-py2.py3-none-any.whl (100kB)\n",
            "\r\u001b[K     |███▎                            | 10kB 21.7MB/s eta 0:00:01\r\u001b[K     |██████▌                         | 20kB 26.5MB/s eta 0:00:01\r\u001b[K     |█████████▉                      | 30kB 31.4MB/s eta 0:00:01\r\u001b[K     |█████████████                   | 40kB 34.5MB/s eta 0:00:01\r\u001b[K     |████████████████▍               | 51kB 19.0MB/s eta 0:00:01\r\u001b[K     |███████████████████▋            | 61kB 19.4MB/s eta 0:00:01\r\u001b[K     |██████████████████████▉         | 71kB 19.1MB/s eta 0:00:01\r\u001b[K     |██████████████████████████▏     | 81kB 16.7MB/s eta 0:00:01\r\u001b[K     |█████████████████████████████▍  | 92kB 16.3MB/s eta 0:00:01\r\u001b[K     |████████████████████████████████| 102kB 9.1MB/s \n",
            "\u001b[?25hRequirement already satisfied: scipy>=0.19.0 in /usr/local/lib/python3.6/dist-packages (from category_encoders) (1.4.1)\n",
            "Requirement already satisfied: patsy>=0.4.1 in /usr/local/lib/python3.6/dist-packages (from category_encoders) (0.5.1)\n",
            "Requirement already satisfied: pandas>=0.21.1 in /usr/local/lib/python3.6/dist-packages (from category_encoders) (1.0.3)\n",
            "Requirement already satisfied: scikit-learn>=0.20.0 in /usr/local/lib/python3.6/dist-packages (from category_encoders) (0.22.2.post1)\n",
            "Requirement already satisfied: statsmodels>=0.6.1 in /usr/local/lib/python3.6/dist-packages (from category_encoders) (0.10.2)\n",
            "Requirement already satisfied: numpy>=1.11.3 in /usr/local/lib/python3.6/dist-packages (from category_encoders) (1.18.3)\n",
            "Requirement already satisfied: six in /usr/local/lib/python3.6/dist-packages (from patsy>=0.4.1->category_encoders) (1.12.0)\n",
            "Requirement already satisfied: pytz>=2017.2 in /usr/local/lib/python3.6/dist-packages (from pandas>=0.21.1->category_encoders) (2018.9)\n",
            "Requirement already satisfied: python-dateutil>=2.6.1 in /usr/local/lib/python3.6/dist-packages (from pandas>=0.21.1->category_encoders) (2.8.1)\n",
            "Requirement already satisfied: joblib>=0.11 in /usr/local/lib/python3.6/dist-packages (from scikit-learn>=0.20.0->category_encoders) (0.14.1)\n",
            "Installing collected packages: category-encoders\n",
            "Successfully installed category-encoders-2.1.0\n",
            "Go to this URL in a browser: https://accounts.google.com/o/oauth2/auth?client_id=947318989803-6bn6qk8qdgf4n4g3pfee6491hc0brc4i.apps.googleusercontent.com&redirect_uri=urn%3aietf%3awg%3aoauth%3a2.0%3aoob&response_type=code&scope=email%20https%3a%2f%2fwww.googleapis.com%2fauth%2fdocs.test%20https%3a%2f%2fwww.googleapis.com%2fauth%2fdrive%20https%3a%2f%2fwww.googleapis.com%2fauth%2fdrive.photos.readonly%20https%3a%2f%2fwww.googleapis.com%2fauth%2fpeopleapi.readonly\n",
            "\n",
            "Enter your authorization code:\n",
            "··········\n",
            "Mounted at /content/drive\n"
          ],
          "name": "stdout"
        }
      ]
    },
    {
      "cell_type": "code",
      "metadata": {
        "id": "sWBKK_WT9ucL",
        "colab_type": "code",
        "colab": {}
      },
      "source": [
        "import tensorflow as tf\n",
        "from sklearn.datasets import load_digits\n",
        "from sklearn.model_selection import train_test_split, StratifiedShuffleSplit\n",
        "from sklearn.model_selection import GridSearchCV\n",
        "from keras.wrappers.scikit_learn import KerasClassifier\n",
        "from keras.regularizers import l2\n",
        "from keras.utils import to_categorical\n",
        "from keras.layers import Dense, BatchNormalization, Dropout, Activation\n",
        "from keras.models import Sequential\n",
        "from keras.datasets import fashion_mnist"
      ],
      "execution_count": 0,
      "outputs": []
    },
    {
      "cell_type": "code",
      "metadata": {
        "id": "FwLO9DRb9w75",
        "colab_type": "code",
        "outputId": "c398285c-f15a-4f83-daa1-b021d017b6fe",
        "colab": {
          "base_uri": "https://localhost:8080/",
          "height": 151
        }
      },
      "source": [
        "tmp=fashion_mnist.load_data()"
      ],
      "execution_count": 0,
      "outputs": [
        {
          "output_type": "stream",
          "text": [
            "Downloading data from http://fashion-mnist.s3-website.eu-central-1.amazonaws.com/train-labels-idx1-ubyte.gz\n",
            "32768/29515 [=================================] - 0s 4us/step\n",
            "Downloading data from http://fashion-mnist.s3-website.eu-central-1.amazonaws.com/train-images-idx3-ubyte.gz\n",
            "26427392/26421880 [==============================] - 2s 0us/step\n",
            "Downloading data from http://fashion-mnist.s3-website.eu-central-1.amazonaws.com/t10k-labels-idx1-ubyte.gz\n",
            "8192/5148 [===============================================] - 0s 0us/step\n",
            "Downloading data from http://fashion-mnist.s3-website.eu-central-1.amazonaws.com/t10k-images-idx3-ubyte.gz\n",
            "4423680/4422102 [==============================] - 1s 0us/step\n"
          ],
          "name": "stdout"
        }
      ]
    },
    {
      "cell_type": "code",
      "metadata": {
        "id": "o3p5Xp_tXMab",
        "colab_type": "code",
        "colab": {}
      },
      "source": [
        "(X_train, y_train) = tmp[0]"
      ],
      "execution_count": 0,
      "outputs": []
    },
    {
      "cell_type": "code",
      "metadata": {
        "id": "63PspHJ_Xk7q",
        "colab_type": "code",
        "colab": {}
      },
      "source": [
        "(X_test, y_test) = tmp[1]"
      ],
      "execution_count": 0,
      "outputs": []
    },
    {
      "cell_type": "code",
      "metadata": {
        "id": "gsGsg2rPXonW",
        "colab_type": "code",
        "outputId": "9a8114b1-09b4-4f99-c605-148bcf7f32f5",
        "colab": {
          "base_uri": "https://localhost:8080/",
          "height": 34
        }
      },
      "source": [
        "y_train.shape"
      ],
      "execution_count": 0,
      "outputs": [
        {
          "output_type": "execute_result",
          "data": {
            "text/plain": [
              "(60000,)"
            ]
          },
          "metadata": {
            "tags": []
          },
          "execution_count": 21
        }
      ]
    },
    {
      "cell_type": "code",
      "metadata": {
        "id": "fk9ZdlzeYE2P",
        "colab_type": "code",
        "colab": {}
      },
      "source": [
        "y_test_n=to_categorical(y_test, cls)\n",
        "y_train_n=to_categorical(y_train, cls)"
      ],
      "execution_count": 0,
      "outputs": []
    },
    {
      "cell_type": "code",
      "metadata": {
        "id": "b4zNto1jaeeh",
        "colab_type": "code",
        "colab": {}
      },
      "source": [
        "X_train=X_train.reshape(X_train.shape[0], X_train.shape[1]*X_train.shape[2])\n",
        "X_train=X_train.astype('float64')\n",
        "X_train=X_train/255"
      ],
      "execution_count": 0,
      "outputs": []
    },
    {
      "cell_type": "code",
      "metadata": {
        "id": "6lKrw7KmamkS",
        "colab_type": "code",
        "colab": {}
      },
      "source": [
        "X_test=X_test.reshape(X_test.shape[0], X_test.shape[1]*X_test.shape[2])\n",
        "X_test=X_test.astype('float64')\n",
        "X_test=X_test/255"
      ],
      "execution_count": 0,
      "outputs": []
    },
    {
      "cell_type": "code",
      "metadata": {
        "id": "UP29cIGkapJw",
        "colab_type": "code",
        "outputId": "afc36b76-d4e0-47bb-f56d-034ee989474e",
        "colab": {
          "base_uri": "https://localhost:8080/",
          "height": 34
        }
      },
      "source": [
        "cls=len(np.unique(y_train))\n",
        "print(cls)"
      ],
      "execution_count": 0,
      "outputs": [
        {
          "output_type": "stream",
          "text": [
            "10\n"
          ],
          "name": "stdout"
        }
      ]
    },
    {
      "cell_type": "code",
      "metadata": {
        "id": "A1zWPZ5XaxRJ",
        "colab_type": "code",
        "outputId": "ebf365ae-2307-4c9d-a97e-cbc4ce656705",
        "colab": {
          "base_uri": "https://localhost:8080/",
          "height": 34
        }
      },
      "source": [
        "sss = StratifiedShuffleSplit(n_splits=1, test_size=10000, random_state=1)\n",
        "sss.get_n_splits(X_train, y_train_n)"
      ],
      "execution_count": 0,
      "outputs": [
        {
          "output_type": "execute_result",
          "data": {
            "text/plain": [
              "1"
            ]
          },
          "metadata": {
            "tags": []
          },
          "execution_count": 28
        }
      ]
    },
    {
      "cell_type": "code",
      "metadata": {
        "id": "6gVn0tGtbSTL",
        "colab_type": "code",
        "colab": {}
      },
      "source": [
        "for train_index, test_index in sss.split(X_train, y_train_n):\n",
        "  X_train_new, X_val_new = X_train[train_index], X_train[test_index]\n",
        "  y_train_new_n, y_val_new_n = y_train_n[train_index], y_train_n[test_index]\n"
      ],
      "execution_count": 0,
      "outputs": []
    },
    {
      "cell_type": "code",
      "metadata": {
        "id": "iD9csQivch3Q",
        "colab_type": "code",
        "colab": {}
      },
      "source": [
        "inp=X_train_new[0].shape"
      ],
      "execution_count": 0,
      "outputs": []
    },
    {
      "cell_type": "markdown",
      "metadata": {
        "id": "z_RJ16O_FXv0",
        "colab_type": "text"
      },
      "source": [
        "Baseline dense model"
      ]
    },
    {
      "cell_type": "code",
      "metadata": {
        "id": "RxGOFiGdcUlP",
        "colab_type": "code",
        "colab": {}
      },
      "source": [
        "def build_model(neurons=32, l2_val=0.1):\n",
        "  inp=X_train[0].shape\n",
        "  model=Sequential([Dense(neurons,activation='relu',kernel_regularizer=l2(l=l2_val), input_shape=inp),Dense(neurons,activation='relu',kernel_regularizer=l2(l=l2_val)), Dense(cls,activation='softmax',kernel_regularizer=l2(l=l2_val)) ])\n",
        "  model.compile(optimizer='adam',loss='categorical_crossentropy', metrics=['accuracy'])\n",
        "  return model"
      ],
      "execution_count": 0,
      "outputs": []
    },
    {
      "cell_type": "code",
      "metadata": {
        "id": "dNaQMEy6ccoD",
        "colab_type": "code",
        "colab": {}
      },
      "source": [
        "model_mlp1=build_model(neurons=64,l2_val= 0.001)"
      ],
      "execution_count": 0,
      "outputs": []
    },
    {
      "cell_type": "code",
      "metadata": {
        "id": "dAHMfdATfb0l",
        "colab_type": "code",
        "outputId": "2069fd12-106a-4bc0-d8b5-c511f9b10e2e",
        "colab": {
          "base_uri": "https://localhost:8080/",
          "height": 1000
        }
      },
      "source": [
        "l_curve=model_mlp1.fit(X_train_new, y_train_new_n, epochs=50, validation_data=(X_val_new, y_val_new_n))"
      ],
      "execution_count": 0,
      "outputs": [
        {
          "output_type": "stream",
          "text": [
            "Train on 50000 samples, validate on 10000 samples\n",
            "Epoch 1/50\n",
            "50000/50000 [==============================] - 7s 134us/step - loss: 0.6896 - accuracy: 0.8084 - val_loss: 0.5630 - val_accuracy: 0.8475\n",
            "Epoch 2/50\n",
            "50000/50000 [==============================] - 5s 99us/step - loss: 0.5463 - accuracy: 0.8481 - val_loss: 0.5503 - val_accuracy: 0.8458\n",
            "Epoch 3/50\n",
            "50000/50000 [==============================] - 5s 102us/step - loss: 0.5214 - accuracy: 0.8530 - val_loss: 0.5001 - val_accuracy: 0.8615\n",
            "Epoch 4/50\n",
            "50000/50000 [==============================] - 5s 104us/step - loss: 0.5033 - accuracy: 0.8593 - val_loss: 0.4984 - val_accuracy: 0.8610\n",
            "Epoch 5/50\n",
            "50000/50000 [==============================] - 5s 102us/step - loss: 0.4932 - accuracy: 0.8612 - val_loss: 0.4923 - val_accuracy: 0.8651\n",
            "Epoch 6/50\n",
            "50000/50000 [==============================] - 5s 99us/step - loss: 0.4864 - accuracy: 0.8639 - val_loss: 0.4908 - val_accuracy: 0.8628\n",
            "Epoch 7/50\n",
            "50000/50000 [==============================] - 5s 99us/step - loss: 0.4799 - accuracy: 0.8664 - val_loss: 0.5017 - val_accuracy: 0.8584\n",
            "Epoch 8/50\n",
            "50000/50000 [==============================] - 5s 105us/step - loss: 0.4763 - accuracy: 0.8688 - val_loss: 0.4666 - val_accuracy: 0.8731\n",
            "Epoch 9/50\n",
            "50000/50000 [==============================] - 5s 101us/step - loss: 0.4748 - accuracy: 0.8694 - val_loss: 0.4675 - val_accuracy: 0.8687\n",
            "Epoch 10/50\n",
            "50000/50000 [==============================] - 5s 98us/step - loss: 0.4691 - accuracy: 0.8703 - val_loss: 0.4854 - val_accuracy: 0.8660\n",
            "Epoch 11/50\n",
            "50000/50000 [==============================] - 5s 103us/step - loss: 0.4689 - accuracy: 0.8714 - val_loss: 0.4989 - val_accuracy: 0.8551\n",
            "Epoch 12/50\n",
            "50000/50000 [==============================] - 5s 99us/step - loss: 0.4681 - accuracy: 0.8706 - val_loss: 0.4996 - val_accuracy: 0.8594\n",
            "Epoch 13/50\n",
            "50000/50000 [==============================] - 5s 96us/step - loss: 0.4662 - accuracy: 0.8719 - val_loss: 0.4690 - val_accuracy: 0.8682\n",
            "Epoch 14/50\n",
            "50000/50000 [==============================] - 5s 100us/step - loss: 0.4633 - accuracy: 0.8718 - val_loss: 0.4615 - val_accuracy: 0.8720\n",
            "Epoch 15/50\n",
            "50000/50000 [==============================] - 5s 101us/step - loss: 0.4599 - accuracy: 0.8735 - val_loss: 0.4902 - val_accuracy: 0.8669\n",
            "Epoch 16/50\n",
            "50000/50000 [==============================] - 5s 107us/step - loss: 0.4621 - accuracy: 0.8745 - val_loss: 0.4739 - val_accuracy: 0.8714\n",
            "Epoch 17/50\n",
            "50000/50000 [==============================] - 5s 97us/step - loss: 0.4588 - accuracy: 0.8744 - val_loss: 0.4751 - val_accuracy: 0.8674\n",
            "Epoch 18/50\n",
            "50000/50000 [==============================] - 5s 103us/step - loss: 0.4564 - accuracy: 0.8766 - val_loss: 0.4627 - val_accuracy: 0.8725\n",
            "Epoch 19/50\n",
            "50000/50000 [==============================] - 5s 101us/step - loss: 0.4573 - accuracy: 0.8732 - val_loss: 0.4584 - val_accuracy: 0.8743\n",
            "Epoch 20/50\n",
            "50000/50000 [==============================] - 5s 98us/step - loss: 0.4553 - accuracy: 0.8760 - val_loss: 0.4639 - val_accuracy: 0.8705\n",
            "Epoch 21/50\n",
            "50000/50000 [==============================] - 5s 97us/step - loss: 0.4519 - accuracy: 0.8772 - val_loss: 0.4607 - val_accuracy: 0.8730\n",
            "Epoch 22/50\n",
            "50000/50000 [==============================] - 5s 105us/step - loss: 0.4556 - accuracy: 0.8758 - val_loss: 0.4667 - val_accuracy: 0.8731\n",
            "Epoch 23/50\n",
            "50000/50000 [==============================] - 5s 99us/step - loss: 0.4516 - accuracy: 0.8768 - val_loss: 0.4666 - val_accuracy: 0.8678\n",
            "Epoch 24/50\n",
            "50000/50000 [==============================] - 5s 99us/step - loss: 0.4532 - accuracy: 0.8755 - val_loss: 0.4618 - val_accuracy: 0.8730\n",
            "Epoch 25/50\n",
            "50000/50000 [==============================] - 5s 106us/step - loss: 0.4518 - accuracy: 0.8768 - val_loss: 0.4665 - val_accuracy: 0.8712\n",
            "Epoch 26/50\n",
            "50000/50000 [==============================] - 5s 104us/step - loss: 0.4522 - accuracy: 0.8769 - val_loss: 0.4988 - val_accuracy: 0.8627\n",
            "Epoch 27/50\n",
            "50000/50000 [==============================] - 5s 105us/step - loss: 0.4519 - accuracy: 0.8764 - val_loss: 0.4693 - val_accuracy: 0.8670\n",
            "Epoch 28/50\n",
            "50000/50000 [==============================] - 5s 103us/step - loss: 0.4493 - accuracy: 0.8775 - val_loss: 0.4569 - val_accuracy: 0.8759\n",
            "Epoch 29/50\n",
            "50000/50000 [==============================] - 5s 101us/step - loss: 0.4509 - accuracy: 0.8785 - val_loss: 0.4893 - val_accuracy: 0.8647\n",
            "Epoch 30/50\n",
            "50000/50000 [==============================] - 5s 101us/step - loss: 0.4496 - accuracy: 0.8776 - val_loss: 0.4669 - val_accuracy: 0.8694\n",
            "Epoch 31/50\n",
            "50000/50000 [==============================] - 5s 101us/step - loss: 0.4471 - accuracy: 0.8790 - val_loss: 0.4593 - val_accuracy: 0.8724\n",
            "Epoch 32/50\n",
            "50000/50000 [==============================] - 5s 98us/step - loss: 0.4494 - accuracy: 0.8773 - val_loss: 0.4689 - val_accuracy: 0.8694\n",
            "Epoch 33/50\n",
            "50000/50000 [==============================] - 5s 99us/step - loss: 0.4474 - accuracy: 0.8800 - val_loss: 0.4657 - val_accuracy: 0.8735\n",
            "Epoch 34/50\n",
            "50000/50000 [==============================] - 5s 102us/step - loss: 0.4491 - accuracy: 0.8773 - val_loss: 0.4661 - val_accuracy: 0.8730\n",
            "Epoch 35/50\n",
            "50000/50000 [==============================] - 5s 101us/step - loss: 0.4487 - accuracy: 0.8777 - val_loss: 0.5140 - val_accuracy: 0.8536\n",
            "Epoch 36/50\n",
            "50000/50000 [==============================] - 5s 102us/step - loss: 0.4488 - accuracy: 0.8774 - val_loss: 0.4628 - val_accuracy: 0.8714\n",
            "Epoch 37/50\n",
            "50000/50000 [==============================] - 5s 104us/step - loss: 0.4482 - accuracy: 0.8782 - val_loss: 0.4612 - val_accuracy: 0.8727\n",
            "Epoch 38/50\n",
            "50000/50000 [==============================] - 5s 105us/step - loss: 0.4467 - accuracy: 0.8785 - val_loss: 0.4792 - val_accuracy: 0.8675\n",
            "Epoch 39/50\n",
            "50000/50000 [==============================] - 5s 102us/step - loss: 0.4454 - accuracy: 0.8788 - val_loss: 0.4747 - val_accuracy: 0.8646\n",
            "Epoch 40/50\n",
            "50000/50000 [==============================] - 5s 100us/step - loss: 0.4461 - accuracy: 0.8797 - val_loss: 0.4598 - val_accuracy: 0.8747\n",
            "Epoch 41/50\n",
            "50000/50000 [==============================] - 5s 105us/step - loss: 0.4467 - accuracy: 0.8784 - val_loss: 0.4709 - val_accuracy: 0.8675\n",
            "Epoch 42/50\n",
            "50000/50000 [==============================] - 5s 103us/step - loss: 0.4470 - accuracy: 0.8764 - val_loss: 0.4809 - val_accuracy: 0.8637\n",
            "Epoch 43/50\n",
            "50000/50000 [==============================] - 5s 99us/step - loss: 0.4463 - accuracy: 0.8791 - val_loss: 0.4465 - val_accuracy: 0.8794\n",
            "Epoch 44/50\n",
            "50000/50000 [==============================] - 5s 101us/step - loss: 0.4472 - accuracy: 0.8767 - val_loss: 0.4792 - val_accuracy: 0.8674\n",
            "Epoch 45/50\n",
            "50000/50000 [==============================] - 5s 104us/step - loss: 0.4453 - accuracy: 0.8774 - val_loss: 0.4855 - val_accuracy: 0.8680\n",
            "Epoch 46/50\n",
            "50000/50000 [==============================] - 5s 101us/step - loss: 0.4448 - accuracy: 0.8791 - val_loss: 0.4669 - val_accuracy: 0.8725\n",
            "Epoch 47/50\n",
            "50000/50000 [==============================] - 5s 108us/step - loss: 0.4452 - accuracy: 0.8789 - val_loss: 0.4606 - val_accuracy: 0.8717\n",
            "Epoch 48/50\n",
            "50000/50000 [==============================] - 6s 113us/step - loss: 0.4466 - accuracy: 0.8788 - val_loss: 0.4953 - val_accuracy: 0.8603\n",
            "Epoch 49/50\n",
            "50000/50000 [==============================] - 5s 101us/step - loss: 0.4454 - accuracy: 0.8792 - val_loss: 0.4712 - val_accuracy: 0.8678\n",
            "Epoch 50/50\n",
            "50000/50000 [==============================] - 5s 105us/step - loss: 0.4439 - accuracy: 0.8794 - val_loss: 0.4550 - val_accuracy: 0.8789\n"
          ],
          "name": "stdout"
        }
      ]
    },
    {
      "cell_type": "code",
      "metadata": {
        "id": "ULnhk8vLgZ5w",
        "colab_type": "code",
        "colab": {}
      },
      "source": [
        "arr=l_curve.history\n",
        "df=pd.DataFrame(arr)\n"
      ],
      "execution_count": 0,
      "outputs": []
    },
    {
      "cell_type": "code",
      "metadata": {
        "id": "EmNelahGirTB",
        "colab_type": "code",
        "outputId": "6d6dda35-703e-4948-d8cf-f37d002a0f79",
        "colab": {
          "base_uri": "https://localhost:8080/",
          "height": 195
        }
      },
      "source": [
        "df.head()"
      ],
      "execution_count": 0,
      "outputs": [
        {
          "output_type": "execute_result",
          "data": {
            "text/html": [
              "<div>\n",
              "<style scoped>\n",
              "    .dataframe tbody tr th:only-of-type {\n",
              "        vertical-align: middle;\n",
              "    }\n",
              "\n",
              "    .dataframe tbody tr th {\n",
              "        vertical-align: top;\n",
              "    }\n",
              "\n",
              "    .dataframe thead th {\n",
              "        text-align: right;\n",
              "    }\n",
              "</style>\n",
              "<table border=\"1\" class=\"dataframe\">\n",
              "  <thead>\n",
              "    <tr style=\"text-align: right;\">\n",
              "      <th></th>\n",
              "      <th>val_loss</th>\n",
              "      <th>val_accuracy</th>\n",
              "      <th>loss</th>\n",
              "      <th>accuracy</th>\n",
              "    </tr>\n",
              "  </thead>\n",
              "  <tbody>\n",
              "    <tr>\n",
              "      <th>0</th>\n",
              "      <td>0.562982</td>\n",
              "      <td>0.8475</td>\n",
              "      <td>0.689602</td>\n",
              "      <td>0.80844</td>\n",
              "    </tr>\n",
              "    <tr>\n",
              "      <th>1</th>\n",
              "      <td>0.550337</td>\n",
              "      <td>0.8458</td>\n",
              "      <td>0.546301</td>\n",
              "      <td>0.84814</td>\n",
              "    </tr>\n",
              "    <tr>\n",
              "      <th>2</th>\n",
              "      <td>0.500095</td>\n",
              "      <td>0.8615</td>\n",
              "      <td>0.521421</td>\n",
              "      <td>0.85304</td>\n",
              "    </tr>\n",
              "    <tr>\n",
              "      <th>3</th>\n",
              "      <td>0.498431</td>\n",
              "      <td>0.8610</td>\n",
              "      <td>0.503305</td>\n",
              "      <td>0.85926</td>\n",
              "    </tr>\n",
              "    <tr>\n",
              "      <th>4</th>\n",
              "      <td>0.492262</td>\n",
              "      <td>0.8651</td>\n",
              "      <td>0.493208</td>\n",
              "      <td>0.86122</td>\n",
              "    </tr>\n",
              "  </tbody>\n",
              "</table>\n",
              "</div>"
            ],
            "text/plain": [
              "   val_loss  val_accuracy      loss  accuracy\n",
              "0  0.562982        0.8475  0.689602   0.80844\n",
              "1  0.550337        0.8458  0.546301   0.84814\n",
              "2  0.500095        0.8615  0.521421   0.85304\n",
              "3  0.498431        0.8610  0.503305   0.85926\n",
              "4  0.492262        0.8651  0.493208   0.86122"
            ]
          },
          "metadata": {
            "tags": []
          },
          "execution_count": 45
        }
      ]
    },
    {
      "cell_type": "code",
      "metadata": {
        "id": "cElDq0kpjqUZ",
        "colab_type": "code",
        "outputId": "98b8629c-efa1-4e5e-a145-8ec5300b1e7f",
        "colab": {
          "base_uri": "https://localhost:8080/",
          "height": 312
        }
      },
      "source": [
        "\n",
        "plt.plot(df['val_accuracy'], label='validation accuracy')\n",
        "plt.plot(df['accuracy'], label='accuracy')\n",
        "plt.ylabel('accuracy score')\n",
        "plt.xlabel('no of epochs')\n",
        "plt.title('Accuracy scores vs epochs')\n",
        "plt.legend(loc=\"lower right\")\n",
        "plt.figure(figsize=(60,10))\n",
        "plt.show()"
      ],
      "execution_count": 0,
      "outputs": [
        {
          "output_type": "display_data",
          "data": {
            "image/png": "[encoded data removed]",
            "text/plain": [
              "<Figure size 432x288 with 1 Axes>"
            ]
          },
          "metadata": {
            "tags": [],
            "needs_background": "light"
          }
        },
        {
          "output_type": "display_data",
          "data": {
            "text/plain": [
              "<Figure size 4320x720 with 0 Axes>"
            ]
          },
          "metadata": {
            "tags": []
          }
        }
      ]
    },
    {
      "cell_type": "markdown",
      "metadata": {
        "id": "0OLEbSshFR7w",
        "colab_type": "text"
      },
      "source": [
        "Dense model with only dropout"
      ]
    },
    {
      "cell_type": "code",
      "metadata": {
        "id": "PUvyI46wk_vI",
        "colab_type": "code",
        "colab": {}
      },
      "source": [
        "def build_model2(neurons=32, l2_val=0.1):\n",
        "  inp=X_train[0].shape\n",
        "  model=Sequential([Dense(neurons,activation='relu',kernel_regularizer=l2(l=l2_val), input_shape=inp),Dropout(0.4), Dense(neurons,activation='relu',kernel_regularizer=l2(l=l2_val)), Dropout(0.4), Dense(cls,activation='softmax',kernel_regularizer=l2(l=l2_val)) ])\n",
        "  model.compile(optimizer='adam',loss='categorical_crossentropy', metrics=['accuracy'])\n",
        "  return model"
      ],
      "execution_count": 0,
      "outputs": []
    },
    {
      "cell_type": "code",
      "metadata": {
        "id": "nM9mYCAYtCp-",
        "colab_type": "code",
        "colab": {}
      },
      "source": [
        "model_mlp2=build_model2(neurons=64,l2_val= 0.001)"
      ],
      "execution_count": 0,
      "outputs": []
    },
    {
      "cell_type": "code",
      "metadata": {
        "id": "ZxVxN05XtJt-",
        "colab_type": "code",
        "outputId": "8ad5d9a8-6ad2-4d3b-e97f-003c8b0e9de4",
        "colab": {
          "base_uri": "https://localhost:8080/",
          "height": 1000
        }
      },
      "source": [
        "l_curve2=model_mlp2.fit(X_train_new, y_train_new_n, epochs=50, validation_data=(X_val_new, y_val_new_n))"
      ],
      "execution_count": 0,
      "outputs": [
        {
          "output_type": "stream",
          "text": [
            "Train on 50000 samples, validate on 10000 samples\n",
            "Epoch 1/50\n",
            "50000/50000 [==============================] - 6s 121us/step - loss: 0.9667 - accuracy: 0.7096 - val_loss: 0.6262 - val_accuracy: 0.8246\n",
            "Epoch 2/50\n",
            "50000/50000 [==============================] - 5s 107us/step - loss: 0.7349 - accuracy: 0.7902 - val_loss: 0.5826 - val_accuracy: 0.8344\n",
            "Epoch 3/50\n",
            "50000/50000 [==============================] - 5s 107us/step - loss: 0.7008 - accuracy: 0.8034 - val_loss: 0.5634 - val_accuracy: 0.8424\n",
            "Epoch 4/50\n",
            "50000/50000 [==============================] - 5s 110us/step - loss: 0.6861 - accuracy: 0.8070 - val_loss: 0.5565 - val_accuracy: 0.8409\n",
            "Epoch 5/50\n",
            "50000/50000 [==============================] - 5s 108us/step - loss: 0.6693 - accuracy: 0.8090 - val_loss: 0.5487 - val_accuracy: 0.8497\n",
            "Epoch 6/50\n",
            "50000/50000 [==============================] - 5s 109us/step - loss: 0.6670 - accuracy: 0.8085 - val_loss: 0.5620 - val_accuracy: 0.8425\n",
            "Epoch 7/50\n",
            "50000/50000 [==============================] - 6s 111us/step - loss: 0.6612 - accuracy: 0.8092 - val_loss: 0.5474 - val_accuracy: 0.8413\n",
            "Epoch 8/50\n",
            "50000/50000 [==============================] - 6s 115us/step - loss: 0.6625 - accuracy: 0.8118 - val_loss: 0.5383 - val_accuracy: 0.8475\n",
            "Epoch 9/50\n",
            "50000/50000 [==============================] - 5s 109us/step - loss: 0.6618 - accuracy: 0.8136 - val_loss: 0.5544 - val_accuracy: 0.8461\n",
            "Epoch 10/50\n",
            "50000/50000 [==============================] - 5s 108us/step - loss: 0.6555 - accuracy: 0.8145 - val_loss: 0.5386 - val_accuracy: 0.8479\n",
            "Epoch 11/50\n",
            "50000/50000 [==============================] - 5s 109us/step - loss: 0.6551 - accuracy: 0.8157 - val_loss: 0.5341 - val_accuracy: 0.8518\n",
            "Epoch 12/50\n",
            "50000/50000 [==============================] - 6s 113us/step - loss: 0.6562 - accuracy: 0.8130 - val_loss: 0.5453 - val_accuracy: 0.8476\n",
            "Epoch 13/50\n",
            "50000/50000 [==============================] - 5s 106us/step - loss: 0.6516 - accuracy: 0.8160 - val_loss: 0.5329 - val_accuracy: 0.8520\n",
            "Epoch 14/50\n",
            "50000/50000 [==============================] - 6s 115us/step - loss: 0.6453 - accuracy: 0.8171 - val_loss: 0.5458 - val_accuracy: 0.8460\n",
            "Epoch 15/50\n",
            "50000/50000 [==============================] - 6s 119us/step - loss: 0.6516 - accuracy: 0.8175 - val_loss: 0.5653 - val_accuracy: 0.8449\n",
            "Epoch 16/50\n",
            "50000/50000 [==============================] - 6s 110us/step - loss: 0.6526 - accuracy: 0.8165 - val_loss: 0.5446 - val_accuracy: 0.8431\n",
            "Epoch 17/50\n",
            "50000/50000 [==============================] - 6s 111us/step - loss: 0.6484 - accuracy: 0.8170 - val_loss: 0.5367 - val_accuracy: 0.8465\n",
            "Epoch 18/50\n",
            "50000/50000 [==============================] - 5s 109us/step - loss: 0.6490 - accuracy: 0.8169 - val_loss: 0.5358 - val_accuracy: 0.8511\n",
            "Epoch 19/50\n",
            "50000/50000 [==============================] - 5s 110us/step - loss: 0.6489 - accuracy: 0.8178 - val_loss: 0.5385 - val_accuracy: 0.8514\n",
            "Epoch 20/50\n",
            "50000/50000 [==============================] - 5s 108us/step - loss: 0.6549 - accuracy: 0.8148 - val_loss: 0.5340 - val_accuracy: 0.8521\n",
            "Epoch 21/50\n",
            "50000/50000 [==============================] - 5s 108us/step - loss: 0.6512 - accuracy: 0.8159 - val_loss: 0.5384 - val_accuracy: 0.8489\n",
            "Epoch 22/50\n",
            "50000/50000 [==============================] - 5s 104us/step - loss: 0.6458 - accuracy: 0.8186 - val_loss: 0.5483 - val_accuracy: 0.8475\n",
            "Epoch 23/50\n",
            "50000/50000 [==============================] - 5s 108us/step - loss: 0.6475 - accuracy: 0.8171 - val_loss: 0.5374 - val_accuracy: 0.8515\n",
            "Epoch 24/50\n",
            "50000/50000 [==============================] - 5s 104us/step - loss: 0.6481 - accuracy: 0.8172 - val_loss: 0.5300 - val_accuracy: 0.8524\n",
            "Epoch 25/50\n",
            "50000/50000 [==============================] - 5s 105us/step - loss: 0.6460 - accuracy: 0.8178 - val_loss: 0.5318 - val_accuracy: 0.8493\n",
            "Epoch 26/50\n",
            "50000/50000 [==============================] - 6s 110us/step - loss: 0.6475 - accuracy: 0.8183 - val_loss: 0.5575 - val_accuracy: 0.8441\n",
            "Epoch 27/50\n",
            "50000/50000 [==============================] - 6s 112us/step - loss: 0.6485 - accuracy: 0.8178 - val_loss: 0.5434 - val_accuracy: 0.8486\n",
            "Epoch 28/50\n",
            "50000/50000 [==============================] - 5s 107us/step - loss: 0.6447 - accuracy: 0.8190 - val_loss: 0.5401 - val_accuracy: 0.8533\n",
            "Epoch 29/50\n",
            "50000/50000 [==============================] - 5s 108us/step - loss: 0.6474 - accuracy: 0.8170 - val_loss: 0.5311 - val_accuracy: 0.8522\n",
            "Epoch 30/50\n",
            "50000/50000 [==============================] - 6s 110us/step - loss: 0.6478 - accuracy: 0.8173 - val_loss: 0.5515 - val_accuracy: 0.8440\n",
            "Epoch 31/50\n",
            "50000/50000 [==============================] - 6s 115us/step - loss: 0.6450 - accuracy: 0.8183 - val_loss: 0.5276 - val_accuracy: 0.8517\n",
            "Epoch 32/50\n",
            "50000/50000 [==============================] - 5s 108us/step - loss: 0.6466 - accuracy: 0.8180 - val_loss: 0.5386 - val_accuracy: 0.8504\n",
            "Epoch 33/50\n",
            "50000/50000 [==============================] - 5s 104us/step - loss: 0.6459 - accuracy: 0.8180 - val_loss: 0.5297 - val_accuracy: 0.8554\n",
            "Epoch 34/50\n",
            "50000/50000 [==============================] - 6s 113us/step - loss: 0.6483 - accuracy: 0.8177 - val_loss: 0.5366 - val_accuracy: 0.8510\n",
            "Epoch 35/50\n",
            "50000/50000 [==============================] - 6s 110us/step - loss: 0.6424 - accuracy: 0.8196 - val_loss: 0.5458 - val_accuracy: 0.8471\n",
            "Epoch 36/50\n",
            "50000/50000 [==============================] - 5s 107us/step - loss: 0.6465 - accuracy: 0.8172 - val_loss: 0.5296 - val_accuracy: 0.8548\n",
            "Epoch 37/50\n",
            "50000/50000 [==============================] - 5s 109us/step - loss: 0.6464 - accuracy: 0.8191 - val_loss: 0.5469 - val_accuracy: 0.8477\n",
            "Epoch 38/50\n",
            "50000/50000 [==============================] - 5s 107us/step - loss: 0.6407 - accuracy: 0.8213 - val_loss: 0.5364 - val_accuracy: 0.8534\n",
            "Epoch 39/50\n",
            "50000/50000 [==============================] - 6s 112us/step - loss: 0.6443 - accuracy: 0.8188 - val_loss: 0.5481 - val_accuracy: 0.8441\n",
            "Epoch 40/50\n",
            "50000/50000 [==============================] - 5s 109us/step - loss: 0.6500 - accuracy: 0.8172 - val_loss: 0.5366 - val_accuracy: 0.8503\n",
            "Epoch 41/50\n",
            "50000/50000 [==============================] - 6s 115us/step - loss: 0.6456 - accuracy: 0.8180 - val_loss: 0.5370 - val_accuracy: 0.8509\n",
            "Epoch 42/50\n",
            "50000/50000 [==============================] - 5s 106us/step - loss: 0.6496 - accuracy: 0.8172 - val_loss: 0.5470 - val_accuracy: 0.8480\n",
            "Epoch 43/50\n",
            "50000/50000 [==============================] - 6s 112us/step - loss: 0.6525 - accuracy: 0.8154 - val_loss: 0.5323 - val_accuracy: 0.8533\n",
            "Epoch 44/50\n",
            "50000/50000 [==============================] - 6s 116us/step - loss: 0.6453 - accuracy: 0.8190 - val_loss: 0.5444 - val_accuracy: 0.8469\n",
            "Epoch 45/50\n",
            "50000/50000 [==============================] - 5s 109us/step - loss: 0.6462 - accuracy: 0.8167 - val_loss: 0.5618 - val_accuracy: 0.8389\n",
            "Epoch 46/50\n",
            "50000/50000 [==============================] - 5s 107us/step - loss: 0.6460 - accuracy: 0.8180 - val_loss: 0.5360 - val_accuracy: 0.8531\n",
            "Epoch 47/50\n",
            "50000/50000 [==============================] - 5s 107us/step - loss: 0.6421 - accuracy: 0.8182 - val_loss: 0.5375 - val_accuracy: 0.8504\n",
            "Epoch 48/50\n",
            "50000/50000 [==============================] - 5s 110us/step - loss: 0.6415 - accuracy: 0.8219 - val_loss: 0.5688 - val_accuracy: 0.8337\n",
            "Epoch 49/50\n",
            "50000/50000 [==============================] - 6s 117us/step - loss: 0.6429 - accuracy: 0.8178 - val_loss: 0.5397 - val_accuracy: 0.8503\n",
            "Epoch 50/50\n",
            "50000/50000 [==============================] - 5s 108us/step - loss: 0.6433 - accuracy: 0.8182 - val_loss: 0.5410 - val_accuracy: 0.8463\n"
          ],
          "name": "stdout"
        }
      ]
    },
    {
      "cell_type": "code",
      "metadata": {
        "id": "GhSQJFT9uRdc",
        "colab_type": "code",
        "outputId": "6da9b6aa-dd1c-4674-9ddb-75c5c0e05241",
        "colab": {
          "base_uri": "https://localhost:8080/",
          "height": 50
        }
      },
      "source": [
        "model_mlp2.evaluate(X_val_new, y_val_new_n)"
      ],
      "execution_count": 0,
      "outputs": [
        {
          "output_type": "stream",
          "text": [
            "10000/10000 [==============================] - 1s 56us/step\n"
          ],
          "name": "stdout"
        },
        {
          "output_type": "execute_result",
          "data": {
            "text/plain": [
              "[0.5410155549049377, 0.8463000059127808]"
            ]
          },
          "metadata": {
            "tags": []
          },
          "execution_count": 73
        }
      ]
    },
    {
      "cell_type": "code",
      "metadata": {
        "id": "JLrjU-YHur4H",
        "colab_type": "code",
        "colab": {}
      },
      "source": [
        "arr=l_curve2.history\n",
        "df=pd.DataFrame(arr)"
      ],
      "execution_count": 0,
      "outputs": []
    },
    {
      "cell_type": "code",
      "metadata": {
        "id": "igoLILqcuzhA",
        "colab_type": "code",
        "outputId": "64cde78c-b276-42a1-a661-782e9847bdaa",
        "colab": {
          "base_uri": "https://localhost:8080/",
          "height": 312
        }
      },
      "source": [
        "plt.plot(df['val_accuracy'], label='validation accuracy')\n",
        "plt.plot(df['accuracy'], label='accuracy')\n",
        "plt.ylabel('accuracy score')\n",
        "plt.xlabel('no of epochs')\n",
        "plt.title('Accuracy scores vs epochs')\n",
        "plt.legend(loc=\"lower right\")\n",
        "plt.figure(figsize=(60,10))\n",
        "plt.show()"
      ],
      "execution_count": 0,
      "outputs": [
        {
          "output_type": "display_data",
          "data": {
            "image/png": "[encoded data removed]",
            "text/plain": [
              "<Figure size 432x288 with 1 Axes>"
            ]
          },
          "metadata": {
            "tags": [],
            "needs_background": "light"
          }
        },
        {
          "output_type": "display_data",
          "data": {
            "text/plain": [
              "<Figure size 4320x720 with 0 Axes>"
            ]
          },
          "metadata": {
            "tags": []
          }
        }
      ]
    },
    {
      "cell_type": "markdown",
      "metadata": {
        "id": "8O8GI5UoFJKY",
        "colab_type": "text"
      },
      "source": [
        "Trying another network architecture with Batch Norm and dropout"
      ]
    },
    {
      "cell_type": "code",
      "metadata": {
        "id": "DLBtKiEyu7rC",
        "colab_type": "code",
        "colab": {}
      },
      "source": [
        "def build_model3(neurons=32, l2_val=0.1):\n",
        "  inp=X_train[0].shape\n",
        "  model=Sequential([Dense(neurons,activation='relu',kernel_regularizer=l2(l=l2_val), input_shape=inp),Dropout(0.4), Dense(neurons,activation='relu',kernel_regularizer=l2(l=l2_val)), Dropout(0.4), Dense(neurons,activation='relu',kernel_regularizer=l2(l=l2_val)), Dropout(0.4),Dense(cls,activation='softmax',kernel_regularizer=l2(l=l2_val)) ])\n",
        "  model.compile(optimizer='adam',loss='categorical_crossentropy', metrics=['accuracy'])\n",
        "  return model"
      ],
      "execution_count": 0,
      "outputs": []
    },
    {
      "cell_type": "code",
      "metadata": {
        "id": "FgKOKrjuvH0g",
        "colab_type": "code",
        "colab": {}
      },
      "source": [
        "model_mlp3=build_model3(neurons=512,l2_val= 0.001)"
      ],
      "execution_count": 0,
      "outputs": []
    },
    {
      "cell_type": "code",
      "metadata": {
        "id": "nD3ZsjJXvOp5",
        "colab_type": "code",
        "outputId": "f6452d38-9b85-4cff-bcb1-778721c7c415",
        "colab": {
          "base_uri": "https://localhost:8080/",
          "height": 386
        }
      },
      "source": [
        "model_mlp3.summary()"
      ],
      "execution_count": 0,
      "outputs": [
        {
          "output_type": "stream",
          "text": [
            "Model: \"sequential_6\"\n",
            "_________________________________________________________________\n",
            "Layer (type)                 Output Shape              Param #   \n",
            "=================================================================\n",
            "dense_16 (Dense)             (None, 512)               401920    \n",
            "_________________________________________________________________\n",
            "dropout_3 (Dropout)          (None, 512)               0         \n",
            "_________________________________________________________________\n",
            "dense_17 (Dense)             (None, 512)               262656    \n",
            "_________________________________________________________________\n",
            "dropout_4 (Dropout)          (None, 512)               0         \n",
            "_________________________________________________________________\n",
            "dense_18 (Dense)             (None, 512)               262656    \n",
            "_________________________________________________________________\n",
            "dropout_5 (Dropout)          (None, 512)               0         \n",
            "_________________________________________________________________\n",
            "dense_19 (Dense)             (None, 10)                5130      \n",
            "=================================================================\n",
            "Total params: 932,362\n",
            "Trainable params: 932,362\n",
            "Non-trainable params: 0\n",
            "_________________________________________________________________\n"
          ],
          "name": "stdout"
        }
      ]
    },
    {
      "cell_type": "code",
      "metadata": {
        "id": "r1PHRCh2vjKQ",
        "colab_type": "code",
        "outputId": "8644a96e-737b-4939-f65f-8ae34317edf3",
        "colab": {
          "base_uri": "https://localhost:8080/",
          "height": 1000
        }
      },
      "source": [
        "l_curve2=model_mlp3.fit(X_train_new, y_train_new_n, epochs=50, validation_data=(X_val_new, y_val_new_n))"
      ],
      "execution_count": 0,
      "outputs": [
        {
          "output_type": "stream",
          "text": [
            "Train on 50000 samples, validate on 10000 samples\n",
            "Epoch 1/50\n",
            "50000/50000 [==============================] - 9s 174us/step - loss: 0.9696 - accuracy: 0.7281 - val_loss: 0.6297 - val_accuracy: 0.8245\n",
            "Epoch 2/50\n",
            "50000/50000 [==============================] - 9s 170us/step - loss: 0.7171 - accuracy: 0.7966 - val_loss: 0.5804 - val_accuracy: 0.8376\n",
            "Epoch 3/50\n",
            "50000/50000 [==============================] - 9s 172us/step - loss: 0.6691 - accuracy: 0.8053 - val_loss: 0.5949 - val_accuracy: 0.8169\n",
            "Epoch 4/50\n",
            "50000/50000 [==============================] - 9s 171us/step - loss: 0.6484 - accuracy: 0.8071 - val_loss: 0.5187 - val_accuracy: 0.8441\n",
            "Epoch 5/50\n",
            "50000/50000 [==============================] - 9s 186us/step - loss: 0.6466 - accuracy: 0.8073 - val_loss: 0.5202 - val_accuracy: 0.8422\n",
            "Epoch 6/50\n",
            "50000/50000 [==============================] - 8s 169us/step - loss: 0.6261 - accuracy: 0.8133 - val_loss: 0.5391 - val_accuracy: 0.8385\n",
            "Epoch 7/50\n",
            "50000/50000 [==============================] - 8s 169us/step - loss: 0.6131 - accuracy: 0.8151 - val_loss: 0.5175 - val_accuracy: 0.8358\n",
            "Epoch 8/50\n",
            "50000/50000 [==============================] - 9s 173us/step - loss: 0.6170 - accuracy: 0.8161 - val_loss: 0.5150 - val_accuracy: 0.8394\n",
            "Epoch 9/50\n",
            "50000/50000 [==============================] - 8s 166us/step - loss: 0.6318 - accuracy: 0.8120 - val_loss: 0.5459 - val_accuracy: 0.8307\n",
            "Epoch 10/50\n",
            "50000/50000 [==============================] - 9s 171us/step - loss: 0.6408 - accuracy: 0.8060 - val_loss: 0.5303 - val_accuracy: 0.8415\n",
            "Epoch 11/50\n",
            "50000/50000 [==============================] - 9s 179us/step - loss: 0.6263 - accuracy: 0.8110 - val_loss: 0.5459 - val_accuracy: 0.8317\n",
            "Epoch 12/50\n",
            "50000/50000 [==============================] - 9s 171us/step - loss: 0.6159 - accuracy: 0.8155 - val_loss: 0.5397 - val_accuracy: 0.8306\n",
            "Epoch 13/50\n",
            "50000/50000 [==============================] - 9s 174us/step - loss: 0.6299 - accuracy: 0.8073 - val_loss: 0.5398 - val_accuracy: 0.8315\n",
            "Epoch 14/50\n",
            "50000/50000 [==============================] - 9s 174us/step - loss: 0.6381 - accuracy: 0.8071 - val_loss: 0.5470 - val_accuracy: 0.8311\n",
            "Epoch 15/50\n",
            "50000/50000 [==============================] - 9s 179us/step - loss: 0.6403 - accuracy: 0.8062 - val_loss: 0.5177 - val_accuracy: 0.8443\n",
            "Epoch 16/50\n",
            "50000/50000 [==============================] - 9s 177us/step - loss: 0.6278 - accuracy: 0.8115 - val_loss: 0.4997 - val_accuracy: 0.8471\n",
            "Epoch 17/50\n",
            "50000/50000 [==============================] - 9s 174us/step - loss: 0.6149 - accuracy: 0.8125 - val_loss: 0.5101 - val_accuracy: 0.8388\n",
            "Epoch 18/50\n",
            "50000/50000 [==============================] - 8s 168us/step - loss: 0.6154 - accuracy: 0.8144 - val_loss: 0.5076 - val_accuracy: 0.8436\n",
            "Epoch 19/50\n",
            "50000/50000 [==============================] - 8s 168us/step - loss: 0.6229 - accuracy: 0.8115 - val_loss: 0.5378 - val_accuracy: 0.8355\n",
            "Epoch 20/50\n",
            "50000/50000 [==============================] - 9s 171us/step - loss: 0.6161 - accuracy: 0.8150 - val_loss: 0.5185 - val_accuracy: 0.8441\n",
            "Epoch 21/50\n",
            "50000/50000 [==============================] - 8s 169us/step - loss: 0.6161 - accuracy: 0.8147 - val_loss: 0.5020 - val_accuracy: 0.8481\n",
            "Epoch 22/50\n",
            "50000/50000 [==============================] - 9s 171us/step - loss: 0.6219 - accuracy: 0.8129 - val_loss: 0.5431 - val_accuracy: 0.8310\n",
            "Epoch 23/50\n",
            "50000/50000 [==============================] - 9s 170us/step - loss: 0.6123 - accuracy: 0.8151 - val_loss: 0.5014 - val_accuracy: 0.8489\n",
            "Epoch 24/50\n",
            "50000/50000 [==============================] - 8s 168us/step - loss: 0.6141 - accuracy: 0.8137 - val_loss: 0.5257 - val_accuracy: 0.8373\n",
            "Epoch 25/50\n",
            "50000/50000 [==============================] - 9s 175us/step - loss: 0.6132 - accuracy: 0.8148 - val_loss: 0.5293 - val_accuracy: 0.8347\n",
            "Epoch 26/50\n",
            "50000/50000 [==============================] - 9s 176us/step - loss: 0.6112 - accuracy: 0.8151 - val_loss: 0.5135 - val_accuracy: 0.8387\n",
            "Epoch 27/50\n",
            "50000/50000 [==============================] - 9s 174us/step - loss: 0.6177 - accuracy: 0.8121 - val_loss: 0.6043 - val_accuracy: 0.8011\n",
            "Epoch 28/50\n",
            "50000/50000 [==============================] - 9s 174us/step - loss: 0.6199 - accuracy: 0.8119 - val_loss: 0.5236 - val_accuracy: 0.8411\n",
            "Epoch 29/50\n",
            "50000/50000 [==============================] - 8s 168us/step - loss: 0.6127 - accuracy: 0.8156 - val_loss: 0.5018 - val_accuracy: 0.8479\n",
            "Epoch 30/50\n",
            "50000/50000 [==============================] - 9s 171us/step - loss: 0.6152 - accuracy: 0.8115 - val_loss: 0.5163 - val_accuracy: 0.8409\n",
            "Epoch 31/50\n",
            "50000/50000 [==============================] - 9s 171us/step - loss: 0.6147 - accuracy: 0.8121 - val_loss: 0.5142 - val_accuracy: 0.8370\n",
            "Epoch 32/50\n",
            "50000/50000 [==============================] - 9s 176us/step - loss: 0.6102 - accuracy: 0.8151 - val_loss: 0.5402 - val_accuracy: 0.8300\n",
            "Epoch 33/50\n",
            "50000/50000 [==============================] - 9s 176us/step - loss: 0.6207 - accuracy: 0.8110 - val_loss: 0.5182 - val_accuracy: 0.8371\n",
            "Epoch 34/50\n",
            "50000/50000 [==============================] - 8s 168us/step - loss: 0.6168 - accuracy: 0.8124 - val_loss: 0.5302 - val_accuracy: 0.8401\n",
            "Epoch 35/50\n",
            "50000/50000 [==============================] - 9s 170us/step - loss: 0.6030 - accuracy: 0.8164 - val_loss: 0.5393 - val_accuracy: 0.8302\n",
            "Epoch 36/50\n",
            "50000/50000 [==============================] - 8s 167us/step - loss: 0.6048 - accuracy: 0.8150 - val_loss: 0.5039 - val_accuracy: 0.8444\n",
            "Epoch 37/50\n",
            "50000/50000 [==============================] - 9s 174us/step - loss: 0.6077 - accuracy: 0.8151 - val_loss: 0.5031 - val_accuracy: 0.8424\n",
            "Epoch 38/50\n",
            "50000/50000 [==============================] - 9s 178us/step - loss: 0.6119 - accuracy: 0.8138 - val_loss: 0.5519 - val_accuracy: 0.8272\n",
            "Epoch 39/50\n",
            "50000/50000 [==============================] - 9s 170us/step - loss: 0.6136 - accuracy: 0.8147 - val_loss: 0.5166 - val_accuracy: 0.8372\n",
            "Epoch 40/50\n",
            "50000/50000 [==============================] - 9s 179us/step - loss: 0.6280 - accuracy: 0.8089 - val_loss: 0.5270 - val_accuracy: 0.8353\n",
            "Epoch 41/50\n",
            "50000/50000 [==============================] - 9s 188us/step - loss: 0.6155 - accuracy: 0.8146 - val_loss: 0.5486 - val_accuracy: 0.8228\n",
            "Epoch 42/50\n",
            "50000/50000 [==============================] - 9s 174us/step - loss: 0.6054 - accuracy: 0.8163 - val_loss: 0.5209 - val_accuracy: 0.8397\n",
            "Epoch 43/50\n",
            "50000/50000 [==============================] - 9s 171us/step - loss: 0.6050 - accuracy: 0.8172 - val_loss: 0.5013 - val_accuracy: 0.8417\n",
            "Epoch 44/50\n",
            "50000/50000 [==============================] - 9s 177us/step - loss: 0.6052 - accuracy: 0.8158 - val_loss: 0.5114 - val_accuracy: 0.8452\n",
            "Epoch 45/50\n",
            "50000/50000 [==============================] - 9s 181us/step - loss: 0.6068 - accuracy: 0.8131 - val_loss: 0.5122 - val_accuracy: 0.8427\n",
            "Epoch 46/50\n",
            "50000/50000 [==============================] - 9s 174us/step - loss: 0.6164 - accuracy: 0.8139 - val_loss: 0.4908 - val_accuracy: 0.8534\n",
            "Epoch 47/50\n",
            "50000/50000 [==============================] - 9s 184us/step - loss: 0.6053 - accuracy: 0.8164 - val_loss: 0.5585 - val_accuracy: 0.8186\n",
            "Epoch 48/50\n",
            "50000/50000 [==============================] - 9s 180us/step - loss: 0.6084 - accuracy: 0.8153 - val_loss: 0.5079 - val_accuracy: 0.8414\n",
            "Epoch 49/50\n",
            "50000/50000 [==============================] - 9s 174us/step - loss: 0.6202 - accuracy: 0.8111 - val_loss: 0.5190 - val_accuracy: 0.8423\n",
            "Epoch 50/50\n",
            "50000/50000 [==============================] - 9s 172us/step - loss: 0.6142 - accuracy: 0.8124 - val_loss: 0.5057 - val_accuracy: 0.8442\n"
          ],
          "name": "stdout"
        }
      ]
    },
    {
      "cell_type": "code",
      "metadata": {
        "id": "AtNjFthevvIR",
        "colab_type": "code",
        "outputId": "c69369e8-1c6c-4607-9284-b53c67ae2061",
        "colab": {
          "base_uri": "https://localhost:8080/",
          "height": 50
        }
      },
      "source": [
        "model_mlp3.evaluate(X_val_new, y_val_new_n)"
      ],
      "execution_count": 0,
      "outputs": [
        {
          "output_type": "stream",
          "text": [
            "10000/10000 [==============================] - 1s 67us/step\n"
          ],
          "name": "stdout"
        },
        {
          "output_type": "execute_result",
          "data": {
            "text/plain": [
              "[0.5056728974342346, 0.8442000150680542]"
            ]
          },
          "metadata": {
            "tags": []
          },
          "execution_count": 86
        }
      ]
    },
    {
      "cell_type": "code",
      "metadata": {
        "id": "6b6XFLqzvnTl",
        "colab_type": "code",
        "outputId": "539d30e0-2284-4818-e8a7-68a4689bdac5",
        "colab": {
          "base_uri": "https://localhost:8080/",
          "height": 312
        }
      },
      "source": [
        "arr=l_curve2.history\n",
        "df=pd.DataFrame(arr)\n",
        "plt.plot(df['val_accuracy'], label='validation accuracy')\n",
        "plt.plot(df['accuracy'], label='accuracy')\n",
        "plt.ylabel('accuracy score')\n",
        "plt.xlabel('no of epochs')\n",
        "plt.title('Accuracy scores vs epochs')\n",
        "plt.legend(loc=\"lower right\")\n",
        "plt.figure(figsize=(60,10))\n",
        "plt.show()"
      ],
      "execution_count": 0,
      "outputs": [
        {
          "output_type": "display_data",
          "data": {
            "image/png": "[encoded data removed]",
            "text/plain": [
              "<Figure size 432x288 with 1 Axes>"
            ]
          },
          "metadata": {
            "tags": [],
            "needs_background": "light"
          }
        },
        {
          "output_type": "display_data",
          "data": {
            "text/plain": [
              "<Figure size 4320x720 with 0 Axes>"
            ]
          },
          "metadata": {
            "tags": []
          }
        }
      ]
    },
    {
      "cell_type": "markdown",
      "metadata": {
        "id": "g8KdaYaIE6by",
        "colab_type": "text"
      },
      "source": [
        "Using Batch normalization, dropout layers on the neural net"
      ]
    },
    {
      "cell_type": "code",
      "metadata": {
        "id": "hurFsCV_v3Qy",
        "colab_type": "code",
        "colab": {}
      },
      "source": [
        "def build_modelb1(neurons=32, l2_val=0.1):\n",
        "  inp=X_train[0].shape\n",
        "  model=Sequential([Dense(neurons,kernel_regularizer=l2(l=l2_val), input_shape=inp),BatchNormalization(), Activation('relu') ,Dropout(0.4), Dense(neurons,kernel_regularizer=l2(l=l2_val)), BatchNormalization(), Activation('relu'), Dropout(0.4), Dense(cls,activation='softmax',kernel_regularizer=l2(l=l2_val)) ])\n",
        "  model.compile(optimizer='adam',loss='categorical_crossentropy', metrics=['accuracy'])\n",
        "  return model"
      ],
      "execution_count": 0,
      "outputs": []
    },
    {
      "cell_type": "code",
      "metadata": {
        "id": "TzihRdnfyUIf",
        "colab_type": "code",
        "colab": {}
      },
      "source": [
        "model_mlp4=build_modelb1(neurons=64,l2_val= 0.001)"
      ],
      "execution_count": 0,
      "outputs": []
    },
    {
      "cell_type": "code",
      "metadata": {
        "id": "_OXBmzngyZ6x",
        "colab_type": "code",
        "outputId": "d11823ac-103c-414c-f2e1-f8b8eb5f9db4",
        "colab": {
          "base_uri": "https://localhost:8080/",
          "height": 1000
        }
      },
      "source": [
        "l_curve2=model_mlp4.fit(X_train_new, y_train_new_n, epochs=50, validation_data=(X_val_new, y_val_new_n))"
      ],
      "execution_count": 0,
      "outputs": [
        {
          "output_type": "stream",
          "text": [
            "Train on 50000 samples, validate on 10000 samples\n",
            "Epoch 1/50\n",
            "50000/50000 [==============================] - 9s 184us/step - loss: 0.9726 - accuracy: 0.7268 - val_loss: 0.6186 - val_accuracy: 0.8312\n",
            "Epoch 2/50\n",
            "50000/50000 [==============================] - 9s 176us/step - loss: 0.7396 - accuracy: 0.7915 - val_loss: 0.5952 - val_accuracy: 0.8264\n",
            "Epoch 3/50\n",
            "50000/50000 [==============================] - 9s 181us/step - loss: 0.6934 - accuracy: 0.8013 - val_loss: 0.5554 - val_accuracy: 0.8434\n",
            "Epoch 4/50\n",
            "50000/50000 [==============================] - 9s 172us/step - loss: 0.6697 - accuracy: 0.8081 - val_loss: 0.5322 - val_accuracy: 0.8455\n",
            "Epoch 5/50\n",
            "50000/50000 [==============================] - 9s 172us/step - loss: 0.6599 - accuracy: 0.8074 - val_loss: 0.5401 - val_accuracy: 0.8452\n",
            "Epoch 6/50\n",
            "50000/50000 [==============================] - 9s 180us/step - loss: 0.6506 - accuracy: 0.8113 - val_loss: 0.5482 - val_accuracy: 0.8339\n",
            "Epoch 7/50\n",
            "50000/50000 [==============================] - 9s 174us/step - loss: 0.6477 - accuracy: 0.8124 - val_loss: 0.5197 - val_accuracy: 0.8485\n",
            "Epoch 8/50\n",
            "50000/50000 [==============================] - 9s 172us/step - loss: 0.6409 - accuracy: 0.8136 - val_loss: 0.5068 - val_accuracy: 0.8557\n",
            "Epoch 9/50\n",
            "50000/50000 [==============================] - 9s 174us/step - loss: 0.6426 - accuracy: 0.8127 - val_loss: 0.5108 - val_accuracy: 0.8537\n",
            "Epoch 10/50\n",
            "50000/50000 [==============================] - 9s 172us/step - loss: 0.6413 - accuracy: 0.8126 - val_loss: 0.5127 - val_accuracy: 0.8501\n",
            "Epoch 11/50\n",
            "50000/50000 [==============================] - 9s 176us/step - loss: 0.6391 - accuracy: 0.8125 - val_loss: 0.5095 - val_accuracy: 0.8493\n",
            "Epoch 12/50\n",
            "50000/50000 [==============================] - 9s 185us/step - loss: 0.6346 - accuracy: 0.8181 - val_loss: 0.5457 - val_accuracy: 0.8396\n",
            "Epoch 13/50\n",
            "50000/50000 [==============================] - 9s 177us/step - loss: 0.6403 - accuracy: 0.8135 - val_loss: 0.5589 - val_accuracy: 0.8369\n",
            "Epoch 14/50\n",
            "50000/50000 [==============================] - 9s 171us/step - loss: 0.6383 - accuracy: 0.8165 - val_loss: 0.5017 - val_accuracy: 0.8530\n",
            "Epoch 15/50\n",
            "50000/50000 [==============================] - 9s 172us/step - loss: 0.6354 - accuracy: 0.8175 - val_loss: 0.5132 - val_accuracy: 0.8477\n",
            "Epoch 16/50\n",
            "50000/50000 [==============================] - 9s 172us/step - loss: 0.6353 - accuracy: 0.8145 - val_loss: 0.5319 - val_accuracy: 0.8419\n",
            "Epoch 17/50\n",
            "50000/50000 [==============================] - 9s 172us/step - loss: 0.6390 - accuracy: 0.8155 - val_loss: 0.5224 - val_accuracy: 0.8439\n",
            "Epoch 18/50\n",
            "50000/50000 [==============================] - 9s 174us/step - loss: 0.6266 - accuracy: 0.8189 - val_loss: 0.5202 - val_accuracy: 0.8460\n",
            "Epoch 19/50\n",
            "50000/50000 [==============================] - 9s 186us/step - loss: 0.6374 - accuracy: 0.8157 - val_loss: 0.5291 - val_accuracy: 0.8426\n",
            "Epoch 20/50\n",
            "50000/50000 [==============================] - 9s 175us/step - loss: 0.6332 - accuracy: 0.8147 - val_loss: 0.5185 - val_accuracy: 0.8441\n",
            "Epoch 21/50\n",
            "50000/50000 [==============================] - 9s 172us/step - loss: 0.6321 - accuracy: 0.8166 - val_loss: 0.5127 - val_accuracy: 0.8485\n",
            "Epoch 22/50\n",
            "50000/50000 [==============================] - 9s 177us/step - loss: 0.6349 - accuracy: 0.8153 - val_loss: 0.5320 - val_accuracy: 0.8402\n",
            "Epoch 23/50\n",
            "50000/50000 [==============================] - 9s 182us/step - loss: 0.6313 - accuracy: 0.8149 - val_loss: 0.5176 - val_accuracy: 0.8501\n",
            "Epoch 24/50\n",
            "50000/50000 [==============================] - 9s 178us/step - loss: 0.6334 - accuracy: 0.8142 - val_loss: 0.4885 - val_accuracy: 0.8605\n",
            "Epoch 25/50\n",
            "50000/50000 [==============================] - 9s 179us/step - loss: 0.6291 - accuracy: 0.8178 - val_loss: 0.4977 - val_accuracy: 0.8584\n",
            "Epoch 26/50\n",
            "50000/50000 [==============================] - 9s 173us/step - loss: 0.6311 - accuracy: 0.8179 - val_loss: 0.5722 - val_accuracy: 0.8249\n",
            "Epoch 27/50\n",
            "50000/50000 [==============================] - 9s 180us/step - loss: 0.6293 - accuracy: 0.8158 - val_loss: 0.5208 - val_accuracy: 0.8428\n",
            "Epoch 28/50\n",
            "50000/50000 [==============================] - 9s 183us/step - loss: 0.6318 - accuracy: 0.8157 - val_loss: 0.5080 - val_accuracy: 0.8521\n",
            "Epoch 29/50\n",
            "50000/50000 [==============================] - 9s 178us/step - loss: 0.6254 - accuracy: 0.8167 - val_loss: 0.5145 - val_accuracy: 0.8460\n",
            "Epoch 30/50\n",
            "50000/50000 [==============================] - 9s 177us/step - loss: 0.6296 - accuracy: 0.8160 - val_loss: 0.5412 - val_accuracy: 0.8337\n",
            "Epoch 31/50\n",
            "50000/50000 [==============================] - 9s 171us/step - loss: 0.6314 - accuracy: 0.8158 - val_loss: 0.4969 - val_accuracy: 0.8534\n",
            "Epoch 32/50\n",
            "50000/50000 [==============================] - 9s 174us/step - loss: 0.6308 - accuracy: 0.8167 - val_loss: 0.5105 - val_accuracy: 0.8494\n",
            "Epoch 33/50\n",
            "50000/50000 [==============================] - 9s 174us/step - loss: 0.6312 - accuracy: 0.8141 - val_loss: 0.4923 - val_accuracy: 0.8575\n",
            "Epoch 34/50\n",
            "50000/50000 [==============================] - 9s 171us/step - loss: 0.6265 - accuracy: 0.8154 - val_loss: 0.5247 - val_accuracy: 0.8463\n",
            "Epoch 35/50\n",
            "50000/50000 [==============================] - 9s 178us/step - loss: 0.6333 - accuracy: 0.8152 - val_loss: 0.5191 - val_accuracy: 0.8518\n",
            "Epoch 36/50\n",
            "50000/50000 [==============================] - 9s 178us/step - loss: 0.6380 - accuracy: 0.8165 - val_loss: 0.5096 - val_accuracy: 0.8534\n",
            "Epoch 37/50\n",
            "50000/50000 [==============================] - 9s 180us/step - loss: 0.6309 - accuracy: 0.8174 - val_loss: 0.5261 - val_accuracy: 0.8507\n",
            "Epoch 38/50\n",
            "50000/50000 [==============================] - 9s 172us/step - loss: 0.6250 - accuracy: 0.8172 - val_loss: 0.5718 - val_accuracy: 0.8280\n",
            "Epoch 39/50\n",
            "50000/50000 [==============================] - 8s 168us/step - loss: 0.6232 - accuracy: 0.8179 - val_loss: 0.5322 - val_accuracy: 0.8394\n",
            "Epoch 40/50\n",
            "50000/50000 [==============================] - 9s 172us/step - loss: 0.6274 - accuracy: 0.8180 - val_loss: 0.5031 - val_accuracy: 0.8546\n",
            "Epoch 41/50\n",
            "50000/50000 [==============================] - 9s 176us/step - loss: 0.6314 - accuracy: 0.8170 - val_loss: 0.6574 - val_accuracy: 0.8000\n",
            "Epoch 42/50\n",
            "50000/50000 [==============================] - 8s 168us/step - loss: 0.6268 - accuracy: 0.8178 - val_loss: 0.5474 - val_accuracy: 0.8323\n",
            "Epoch 43/50\n",
            "50000/50000 [==============================] - 9s 175us/step - loss: 0.6343 - accuracy: 0.8146 - val_loss: 0.5374 - val_accuracy: 0.8377\n",
            "Epoch 44/50\n",
            "50000/50000 [==============================] - 9s 181us/step - loss: 0.6337 - accuracy: 0.8182 - val_loss: 0.5064 - val_accuracy: 0.8574\n",
            "Epoch 45/50\n",
            "50000/50000 [==============================] - 9s 170us/step - loss: 0.6282 - accuracy: 0.8178 - val_loss: 0.5053 - val_accuracy: 0.8532\n",
            "Epoch 46/50\n",
            "50000/50000 [==============================] - 9s 177us/step - loss: 0.6256 - accuracy: 0.8172 - val_loss: 0.5434 - val_accuracy: 0.8319\n",
            "Epoch 47/50\n",
            "50000/50000 [==============================] - 9s 176us/step - loss: 0.6247 - accuracy: 0.8192 - val_loss: 0.5197 - val_accuracy: 0.8450\n",
            "Epoch 48/50\n",
            "50000/50000 [==============================] - 9s 178us/step - loss: 0.6295 - accuracy: 0.8177 - val_loss: 0.5246 - val_accuracy: 0.8467\n",
            "Epoch 49/50\n",
            "50000/50000 [==============================] - 9s 171us/step - loss: 0.6244 - accuracy: 0.8157 - val_loss: 0.5158 - val_accuracy: 0.8485\n",
            "Epoch 50/50\n",
            "50000/50000 [==============================] - 8s 170us/step - loss: 0.6298 - accuracy: 0.8169 - val_loss: 0.4994 - val_accuracy: 0.8579\n"
          ],
          "name": "stdout"
        }
      ]
    },
    {
      "cell_type": "code",
      "metadata": {
        "id": "nZA7b9Sty0We",
        "colab_type": "code",
        "outputId": "7aed953d-0251-4c13-bfa5-99b98fc9f6a5",
        "colab": {
          "base_uri": "https://localhost:8080/",
          "height": 50
        }
      },
      "source": [
        "model_mlp4.evaluate(X_val_new, y_val_new_n)"
      ],
      "execution_count": 0,
      "outputs": [
        {
          "output_type": "stream",
          "text": [
            "10000/10000 [==============================] - 1s 67us/step\n"
          ],
          "name": "stdout"
        },
        {
          "output_type": "execute_result",
          "data": {
            "text/plain": [
              "[0.4993783054828644, 0.8579000234603882]"
            ]
          },
          "metadata": {
            "tags": []
          },
          "execution_count": 91
        }
      ]
    },
    {
      "cell_type": "code",
      "metadata": {
        "id": "Zhz-GTqMy32V",
        "colab_type": "code",
        "outputId": "a7799980-33c0-4a94-ea3f-666ff9fde744",
        "colab": {
          "base_uri": "https://localhost:8080/",
          "height": 312
        }
      },
      "source": [
        "arr=l_curve2.history\n",
        "df=pd.DataFrame(arr)\n",
        "plt.plot(df['val_accuracy'], label='validation accuracy')\n",
        "plt.plot(df['accuracy'], label='accuracy')\n",
        "plt.ylabel('accuracy score')\n",
        "plt.xlabel('no of epochs')\n",
        "plt.title('Accuracy scores vs epochs')\n",
        "plt.legend(loc=\"lower right\")\n",
        "plt.figure(figsize=(60,10))\n",
        "plt.show()"
      ],
      "execution_count": 0,
      "outputs": [
        {
          "output_type": "display_data",
          "data": {
            "image/png": "[encoded data removed]",
            "text/plain": [
              "<Figure size 432x288 with 1 Axes>"
            ]
          },
          "metadata": {
            "tags": [],
            "needs_background": "light"
          }
        },
        {
          "output_type": "display_data",
          "data": {
            "text/plain": [
              "<Figure size 4320x720 with 0 Axes>"
            ]
          },
          "metadata": {
            "tags": []
          }
        }
      ]
    },
    {
      "cell_type": "markdown",
      "metadata": {
        "id": "imFQVZ87EvR2",
        "colab_type": "text"
      },
      "source": [
        "Applying Batch Normalization and Dropout on a bigger network"
      ]
    },
    {
      "cell_type": "code",
      "metadata": {
        "id": "h7NYrRkOzPJP",
        "colab_type": "code",
        "colab": {}
      },
      "source": [
        "def build_modelb2(neurons=32, l2_val=0.1):\n",
        "  inp=X_train[0].shape\n",
        "  model=Sequential([Dense(neurons,kernel_regularizer=l2(l=l2_val), input_shape=inp),BatchNormalization(), Activation('relu') ,Dropout(0.4), Dense(neurons,kernel_regularizer=l2(l=l2_val)), BatchNormalization(), Activation('relu'), Dropout(0.4), Dense(neurons,kernel_regularizer=l2(l=l2_val)), BatchNormalization(), Activation('relu'), Dropout(0.4), Dense(cls,activation='softmax',kernel_regularizer=l2(l=l2_val)) ])\n",
        "  model.compile(optimizer='adam',loss='categorical_crossentropy', metrics=['accuracy'])\n",
        "  return model"
      ],
      "execution_count": 0,
      "outputs": []
    },
    {
      "cell_type": "code",
      "metadata": {
        "id": "vat2weku0sBc",
        "colab_type": "code",
        "colab": {}
      },
      "source": [
        "model_mlp5=build_modelb2(neurons=512,l2_val= 0.001)"
      ],
      "execution_count": 0,
      "outputs": []
    },
    {
      "cell_type": "code",
      "metadata": {
        "id": "_vk4tP0S0xWg",
        "colab_type": "code",
        "outputId": "917b722d-a3e8-4fee-f9e1-9e5383dbf8cf",
        "colab": {
          "base_uri": "https://localhost:8080/",
          "height": 1000
        }
      },
      "source": [
        "l_curve2=model_mlp5.fit(X_train_new, y_train_new_n, epochs=100, validation_data=(X_val_new, y_val_new_n))"
      ],
      "execution_count": 0,
      "outputs": [
        {
          "output_type": "stream",
          "text": [
            "Train on 50000 samples, validate on 10000 samples\n",
            "Epoch 1/100\n",
            "50000/50000 [==============================] - 11s 227us/step - loss: 1.6467 - accuracy: 0.7746 - val_loss: 1.0026 - val_accuracy: 0.8249\n",
            "Epoch 2/100\n",
            "50000/50000 [==============================] - 11s 213us/step - loss: 0.9508 - accuracy: 0.8027 - val_loss: 0.8685 - val_accuracy: 0.7947\n",
            "Epoch 3/100\n",
            "50000/50000 [==============================] - 11s 223us/step - loss: 0.8973 - accuracy: 0.8044 - val_loss: 0.9084 - val_accuracy: 0.7949\n",
            "Epoch 4/100\n",
            "50000/50000 [==============================] - 11s 227us/step - loss: 0.8904 - accuracy: 0.8038 - val_loss: 0.8289 - val_accuracy: 0.8167\n",
            "Epoch 5/100\n",
            "50000/50000 [==============================] - 11s 223us/step - loss: 0.8770 - accuracy: 0.8062 - val_loss: 0.9079 - val_accuracy: 0.7926\n",
            "Epoch 6/100\n",
            "50000/50000 [==============================] - 11s 227us/step - loss: 0.8718 - accuracy: 0.8053 - val_loss: 0.8329 - val_accuracy: 0.7939\n",
            "Epoch 7/100\n",
            "50000/50000 [==============================] - 11s 228us/step - loss: 0.8565 - accuracy: 0.8071 - val_loss: 0.8009 - val_accuracy: 0.8283\n",
            "Epoch 8/100\n",
            "50000/50000 [==============================] - 12s 235us/step - loss: 0.8511 - accuracy: 0.8090 - val_loss: 0.8477 - val_accuracy: 0.8021\n",
            "Epoch 9/100\n",
            "50000/50000 [==============================] - 11s 224us/step - loss: 0.8407 - accuracy: 0.8110 - val_loss: 0.7821 - val_accuracy: 0.8270\n",
            "Epoch 10/100\n",
            "50000/50000 [==============================] - 11s 216us/step - loss: 0.8282 - accuracy: 0.8131 - val_loss: 0.8022 - val_accuracy: 0.8073\n",
            "Epoch 11/100\n",
            "50000/50000 [==============================] - 11s 212us/step - loss: 0.8161 - accuracy: 0.8142 - val_loss: 0.7044 - val_accuracy: 0.8453\n",
            "Epoch 12/100\n",
            "50000/50000 [==============================] - 10s 209us/step - loss: 0.8128 - accuracy: 0.8133 - val_loss: 0.7523 - val_accuracy: 0.8271\n",
            "Epoch 13/100\n",
            "50000/50000 [==============================] - 11s 210us/step - loss: 0.8063 - accuracy: 0.8118 - val_loss: 0.7157 - val_accuracy: 0.8410\n",
            "Epoch 14/100\n",
            "50000/50000 [==============================] - 11s 218us/step - loss: 0.7959 - accuracy: 0.8162 - val_loss: 0.7908 - val_accuracy: 0.8021\n",
            "Epoch 15/100\n",
            "50000/50000 [==============================] - 11s 220us/step - loss: 0.7904 - accuracy: 0.8144 - val_loss: 0.7373 - val_accuracy: 0.8316\n",
            "Epoch 16/100\n",
            "50000/50000 [==============================] - 11s 217us/step - loss: 0.7821 - accuracy: 0.8145 - val_loss: 0.7324 - val_accuracy: 0.8228\n",
            "Epoch 17/100\n",
            "50000/50000 [==============================] - 11s 211us/step - loss: 0.7721 - accuracy: 0.8174 - val_loss: 0.7222 - val_accuracy: 0.8190\n",
            "Epoch 18/100\n",
            "50000/50000 [==============================] - 11s 212us/step - loss: 0.7699 - accuracy: 0.8160 - val_loss: 0.7298 - val_accuracy: 0.8344\n",
            "Epoch 19/100\n",
            "50000/50000 [==============================] - 11s 218us/step - loss: 0.7664 - accuracy: 0.8184 - val_loss: 0.7601 - val_accuracy: 0.8147\n",
            "Epoch 20/100\n",
            "50000/50000 [==============================] - 10s 208us/step - loss: 0.7595 - accuracy: 0.8176 - val_loss: 0.7012 - val_accuracy: 0.8367\n",
            "Epoch 21/100\n",
            "50000/50000 [==============================] - 11s 217us/step - loss: 0.7551 - accuracy: 0.8191 - val_loss: 0.6876 - val_accuracy: 0.8379\n",
            "Epoch 22/100\n",
            "50000/50000 [==============================] - 11s 222us/step - loss: 0.7561 - accuracy: 0.8163 - val_loss: 0.7472 - val_accuracy: 0.8124\n",
            "Epoch 23/100\n",
            "50000/50000 [==============================] - 11s 214us/step - loss: 0.7481 - accuracy: 0.8171 - val_loss: 0.6610 - val_accuracy: 0.8425\n",
            "Epoch 24/100\n",
            "50000/50000 [==============================] - 10s 208us/step - loss: 0.7435 - accuracy: 0.8207 - val_loss: 0.6548 - val_accuracy: 0.8426\n",
            "Epoch 25/100\n",
            "50000/50000 [==============================] - 11s 212us/step - loss: 0.7425 - accuracy: 0.8192 - val_loss: 0.6354 - val_accuracy: 0.8505\n",
            "Epoch 26/100\n",
            "50000/50000 [==============================] - 11s 212us/step - loss: 0.7431 - accuracy: 0.8194 - val_loss: 0.6147 - val_accuracy: 0.8550\n",
            "Epoch 27/100\n",
            "50000/50000 [==============================] - 11s 211us/step - loss: 0.7444 - accuracy: 0.8176 - val_loss: 0.7638 - val_accuracy: 0.7993\n",
            "Epoch 28/100\n",
            "50000/50000 [==============================] - 11s 214us/step - loss: 0.7405 - accuracy: 0.8185 - val_loss: 0.6377 - val_accuracy: 0.8506\n",
            "Epoch 29/100\n",
            "50000/50000 [==============================] - 10s 206us/step - loss: 0.7409 - accuracy: 0.8176 - val_loss: 0.6458 - val_accuracy: 0.8417\n",
            "Epoch 30/100\n",
            "50000/50000 [==============================] - 10s 206us/step - loss: 0.7326 - accuracy: 0.8216 - val_loss: 0.6356 - val_accuracy: 0.8539\n",
            "Epoch 31/100\n",
            "50000/50000 [==============================] - 11s 212us/step - loss: 0.7328 - accuracy: 0.8196 - val_loss: 0.6750 - val_accuracy: 0.8333\n",
            "Epoch 32/100\n",
            "50000/50000 [==============================] - 10s 208us/step - loss: 0.7359 - accuracy: 0.8183 - val_loss: 0.6181 - val_accuracy: 0.8552\n",
            "Epoch 33/100\n",
            "50000/50000 [==============================] - 11s 210us/step - loss: 0.7337 - accuracy: 0.8201 - val_loss: 0.6840 - val_accuracy: 0.8223\n",
            "Epoch 34/100\n",
            "50000/50000 [==============================] - 11s 211us/step - loss: 0.7330 - accuracy: 0.8200 - val_loss: 0.6406 - val_accuracy: 0.8455\n",
            "Epoch 35/100\n",
            "50000/50000 [==============================] - 10s 209us/step - loss: 0.7279 - accuracy: 0.8206 - val_loss: 0.6532 - val_accuracy: 0.8445\n",
            "Epoch 36/100\n",
            "50000/50000 [==============================] - 11s 212us/step - loss: 0.7311 - accuracy: 0.8178 - val_loss: 0.6539 - val_accuracy: 0.8365\n",
            "Epoch 37/100\n",
            "50000/50000 [==============================] - 11s 223us/step - loss: 0.7294 - accuracy: 0.8206 - val_loss: 0.6155 - val_accuracy: 0.8494\n",
            "Epoch 38/100\n",
            "50000/50000 [==============================] - 11s 214us/step - loss: 0.7333 - accuracy: 0.8153 - val_loss: 0.6587 - val_accuracy: 0.8297\n",
            "Epoch 39/100\n",
            "50000/50000 [==============================] - 11s 213us/step - loss: 0.7233 - accuracy: 0.8201 - val_loss: 0.6810 - val_accuracy: 0.8301\n",
            "Epoch 40/100\n",
            "50000/50000 [==============================] - 11s 224us/step - loss: 0.7238 - accuracy: 0.8207 - val_loss: 0.6156 - val_accuracy: 0.8547\n",
            "Epoch 41/100\n",
            "50000/50000 [==============================] - 11s 215us/step - loss: 0.7221 - accuracy: 0.8180 - val_loss: 0.7221 - val_accuracy: 0.8175\n",
            "Epoch 42/100\n",
            "50000/50000 [==============================] - 11s 221us/step - loss: 0.7213 - accuracy: 0.8212 - val_loss: 0.6445 - val_accuracy: 0.8424\n",
            "Epoch 43/100\n",
            "50000/50000 [==============================] - 11s 216us/step - loss: 0.7259 - accuracy: 0.8182 - val_loss: 0.6667 - val_accuracy: 0.8238\n",
            "Epoch 44/100\n",
            "50000/50000 [==============================] - 11s 216us/step - loss: 0.7220 - accuracy: 0.8185 - val_loss: 0.7488 - val_accuracy: 0.8064\n",
            "Epoch 45/100\n",
            "50000/50000 [==============================] - 11s 211us/step - loss: 0.7205 - accuracy: 0.8183 - val_loss: 0.6042 - val_accuracy: 0.8510\n",
            "Epoch 46/100\n",
            "50000/50000 [==============================] - 11s 218us/step - loss: 0.7216 - accuracy: 0.8184 - val_loss: 0.6331 - val_accuracy: 0.8420\n",
            "Epoch 47/100\n",
            "50000/50000 [==============================] - 11s 222us/step - loss: 0.7200 - accuracy: 0.8200 - val_loss: 0.6341 - val_accuracy: 0.8422\n",
            "Epoch 48/100\n",
            "50000/50000 [==============================] - 11s 212us/step - loss: 0.7173 - accuracy: 0.8205 - val_loss: 0.6368 - val_accuracy: 0.8427\n",
            "Epoch 49/100\n",
            "50000/50000 [==============================] - 11s 218us/step - loss: 0.7240 - accuracy: 0.8194 - val_loss: 0.6417 - val_accuracy: 0.8369\n",
            "Epoch 50/100\n",
            "50000/50000 [==============================] - 11s 212us/step - loss: 0.7186 - accuracy: 0.8193 - val_loss: 0.6352 - val_accuracy: 0.8437\n",
            "Epoch 51/100\n",
            "50000/50000 [==============================] - 11s 214us/step - loss: 0.7139 - accuracy: 0.8222 - val_loss: 0.6718 - val_accuracy: 0.8280\n",
            "Epoch 52/100\n",
            "50000/50000 [==============================] - 10s 208us/step - loss: 0.7218 - accuracy: 0.8172 - val_loss: 0.6225 - val_accuracy: 0.8499\n",
            "Epoch 53/100\n",
            "50000/50000 [==============================] - 11s 213us/step - loss: 0.7188 - accuracy: 0.8207 - val_loss: 0.6723 - val_accuracy: 0.8185\n",
            "Epoch 54/100\n",
            "50000/50000 [==============================] - 11s 215us/step - loss: 0.7180 - accuracy: 0.8194 - val_loss: 0.6555 - val_accuracy: 0.8353\n",
            "Epoch 55/100\n",
            "50000/50000 [==============================] - 11s 217us/step - loss: 0.7208 - accuracy: 0.8184 - val_loss: 0.6258 - val_accuracy: 0.8483\n",
            "Epoch 56/100\n",
            "50000/50000 [==============================] - 11s 223us/step - loss: 0.7193 - accuracy: 0.8185 - val_loss: 0.6267 - val_accuracy: 0.8351\n",
            "Epoch 57/100\n",
            "50000/50000 [==============================] - 11s 218us/step - loss: 0.7153 - accuracy: 0.8199 - val_loss: 0.6081 - val_accuracy: 0.8488\n",
            "Epoch 58/100\n",
            "50000/50000 [==============================] - 11s 227us/step - loss: 0.7183 - accuracy: 0.8184 - val_loss: 0.6299 - val_accuracy: 0.8437\n",
            "Epoch 59/100\n",
            "50000/50000 [==============================] - 11s 219us/step - loss: 0.7163 - accuracy: 0.8185 - val_loss: 0.6778 - val_accuracy: 0.8109\n",
            "Epoch 60/100\n",
            "50000/50000 [==============================] - 11s 221us/step - loss: 0.7144 - accuracy: 0.8201 - val_loss: 0.6363 - val_accuracy: 0.8432\n",
            "Epoch 61/100\n",
            "50000/50000 [==============================] - 11s 212us/step - loss: 0.7137 - accuracy: 0.8197 - val_loss: 0.6288 - val_accuracy: 0.8439\n",
            "Epoch 62/100\n",
            "50000/50000 [==============================] - 11s 212us/step - loss: 0.7189 - accuracy: 0.8180 - val_loss: 0.8106 - val_accuracy: 0.7777\n",
            "Epoch 63/100\n",
            "50000/50000 [==============================] - 11s 216us/step - loss: 0.7138 - accuracy: 0.8201 - val_loss: 0.6576 - val_accuracy: 0.8314\n",
            "Epoch 64/100\n",
            "50000/50000 [==============================] - 10s 210us/step - loss: 0.7154 - accuracy: 0.8213 - val_loss: 0.6253 - val_accuracy: 0.8453\n",
            "Epoch 65/100\n",
            "50000/50000 [==============================] - 11s 225us/step - loss: 0.7195 - accuracy: 0.8199 - val_loss: 0.6208 - val_accuracy: 0.8489\n",
            "Epoch 66/100\n",
            "50000/50000 [==============================] - 11s 221us/step - loss: 0.7116 - accuracy: 0.8195 - val_loss: 0.6656 - val_accuracy: 0.8311\n",
            "Epoch 67/100\n",
            "50000/50000 [==============================] - 11s 214us/step - loss: 0.7136 - accuracy: 0.8194 - val_loss: 0.6174 - val_accuracy: 0.8511\n",
            "Epoch 68/100\n",
            "50000/50000 [==============================] - 11s 212us/step - loss: 0.7177 - accuracy: 0.8181 - val_loss: 0.6527 - val_accuracy: 0.8422\n",
            "Epoch 69/100\n",
            "50000/50000 [==============================] - 11s 213us/step - loss: 0.7095 - accuracy: 0.8212 - val_loss: 0.6195 - val_accuracy: 0.8448\n",
            "Epoch 70/100\n",
            "50000/50000 [==============================] - 11s 220us/step - loss: 0.7118 - accuracy: 0.8198 - val_loss: 0.6265 - val_accuracy: 0.8462\n",
            "Epoch 71/100\n",
            "50000/50000 [==============================] - 11s 215us/step - loss: 0.7184 - accuracy: 0.8162 - val_loss: 0.5997 - val_accuracy: 0.8583\n",
            "Epoch 72/100\n",
            "50000/50000 [==============================] - 11s 210us/step - loss: 0.7113 - accuracy: 0.8211 - val_loss: 0.6149 - val_accuracy: 0.8485\n",
            "Epoch 73/100\n",
            "50000/50000 [==============================] - 11s 211us/step - loss: 0.7142 - accuracy: 0.8173 - val_loss: 0.6151 - val_accuracy: 0.8486\n",
            "Epoch 74/100\n",
            "50000/50000 [==============================] - 11s 214us/step - loss: 0.7128 - accuracy: 0.8194 - val_loss: 0.6165 - val_accuracy: 0.8495\n",
            "Epoch 75/100\n",
            "50000/50000 [==============================] - 11s 219us/step - loss: 0.7149 - accuracy: 0.8192 - val_loss: 0.6090 - val_accuracy: 0.8532\n",
            "Epoch 76/100\n",
            "50000/50000 [==============================] - 11s 224us/step - loss: 0.7139 - accuracy: 0.8200 - val_loss: 0.6238 - val_accuracy: 0.8500\n",
            "Epoch 77/100\n",
            "50000/50000 [==============================] - 11s 218us/step - loss: 0.7141 - accuracy: 0.8194 - val_loss: 0.6074 - val_accuracy: 0.8493\n",
            "Epoch 78/100\n",
            "50000/50000 [==============================] - 11s 223us/step - loss: 0.7087 - accuracy: 0.8204 - val_loss: 0.6122 - val_accuracy: 0.8490\n",
            "Epoch 79/100\n",
            "50000/50000 [==============================] - 12s 235us/step - loss: 0.7099 - accuracy: 0.8205 - val_loss: 0.6146 - val_accuracy: 0.8431\n",
            "Epoch 80/100\n",
            "50000/50000 [==============================] - 11s 223us/step - loss: 0.7122 - accuracy: 0.8203 - val_loss: 0.6010 - val_accuracy: 0.8502\n",
            "Epoch 81/100\n",
            "50000/50000 [==============================] - 12s 230us/step - loss: 0.7091 - accuracy: 0.8195 - val_loss: 0.6137 - val_accuracy: 0.8489\n",
            "Epoch 82/100\n",
            "50000/50000 [==============================] - 11s 226us/step - loss: 0.7091 - accuracy: 0.8210 - val_loss: 0.6039 - val_accuracy: 0.8469\n",
            "Epoch 83/100\n",
            "50000/50000 [==============================] - 11s 223us/step - loss: 0.7016 - accuracy: 0.8238 - val_loss: 0.6264 - val_accuracy: 0.8428\n",
            "Epoch 84/100\n",
            "50000/50000 [==============================] - 11s 229us/step - loss: 0.7089 - accuracy: 0.8206 - val_loss: 0.6322 - val_accuracy: 0.8350\n",
            "Epoch 85/100\n",
            "50000/50000 [==============================] - 11s 225us/step - loss: 0.7081 - accuracy: 0.8193 - val_loss: 0.6141 - val_accuracy: 0.8480\n",
            "Epoch 86/100\n",
            "50000/50000 [==============================] - 11s 222us/step - loss: 0.7083 - accuracy: 0.8186 - val_loss: 0.6260 - val_accuracy: 0.8415\n",
            "Epoch 87/100\n",
            "50000/50000 [==============================] - 11s 216us/step - loss: 0.7099 - accuracy: 0.8195 - val_loss: 0.6616 - val_accuracy: 0.8384\n",
            "Epoch 88/100\n",
            "50000/50000 [==============================] - 11s 216us/step - loss: 0.7108 - accuracy: 0.8197 - val_loss: 0.6187 - val_accuracy: 0.8446\n",
            "Epoch 89/100\n",
            "50000/50000 [==============================] - 11s 228us/step - loss: 0.7100 - accuracy: 0.8170 - val_loss: 0.7024 - val_accuracy: 0.8195\n",
            "Epoch 90/100\n",
            "50000/50000 [==============================] - 11s 217us/step - loss: 0.7085 - accuracy: 0.8207 - val_loss: 0.6000 - val_accuracy: 0.8508\n",
            "Epoch 91/100\n",
            "50000/50000 [==============================] - 11s 220us/step - loss: 0.7097 - accuracy: 0.8191 - val_loss: 0.6096 - val_accuracy: 0.8520\n",
            "Epoch 92/100\n",
            "50000/50000 [==============================] - 12s 231us/step - loss: 0.7102 - accuracy: 0.8188 - val_loss: 0.6188 - val_accuracy: 0.8398\n",
            "Epoch 93/100\n",
            "50000/50000 [==============================] - 11s 229us/step - loss: 0.7109 - accuracy: 0.8199 - val_loss: 0.7057 - val_accuracy: 0.7878\n",
            "Epoch 94/100\n",
            "50000/50000 [==============================] - 11s 227us/step - loss: 0.7058 - accuracy: 0.8173 - val_loss: 0.6182 - val_accuracy: 0.8405\n",
            "Epoch 95/100\n",
            "50000/50000 [==============================] - 11s 226us/step - loss: 0.7042 - accuracy: 0.8213 - val_loss: 0.6107 - val_accuracy: 0.8506\n",
            "Epoch 96/100\n",
            "50000/50000 [==============================] - 11s 223us/step - loss: 0.7104 - accuracy: 0.8181 - val_loss: 0.6295 - val_accuracy: 0.8360\n",
            "Epoch 97/100\n",
            "50000/50000 [==============================] - 11s 230us/step - loss: 0.7092 - accuracy: 0.8191 - val_loss: 0.6239 - val_accuracy: 0.8413\n",
            "Epoch 98/100\n",
            "50000/50000 [==============================] - 11s 218us/step - loss: 0.7049 - accuracy: 0.8194 - val_loss: 0.6356 - val_accuracy: 0.8364\n",
            "Epoch 99/100\n",
            "50000/50000 [==============================] - 11s 215us/step - loss: 0.7064 - accuracy: 0.8203 - val_loss: 0.6807 - val_accuracy: 0.8116\n",
            "Epoch 100/100\n",
            "50000/50000 [==============================] - 11s 223us/step - loss: 0.7117 - accuracy: 0.8172 - val_loss: 0.6034 - val_accuracy: 0.8488\n"
          ],
          "name": "stdout"
        }
      ]
    },
    {
      "cell_type": "code",
      "metadata": {
        "id": "suJHqqB800w1",
        "colab_type": "code",
        "outputId": "8dcc3766-1122-40db-b659-5de176752c27",
        "colab": {
          "base_uri": "https://localhost:8080/",
          "height": 50
        }
      },
      "source": [
        "model_mlp5.evaluate(X_val_new, y_val_new_n)"
      ],
      "execution_count": 0,
      "outputs": [
        {
          "output_type": "stream",
          "text": [
            "10000/10000 [==============================] - 1s 71us/step\n"
          ],
          "name": "stdout"
        },
        {
          "output_type": "execute_result",
          "data": {
            "text/plain": [
              "[0.603425668811798, 0.848800003528595]"
            ]
          },
          "metadata": {
            "tags": []
          },
          "execution_count": 96
        }
      ]
    },
    {
      "cell_type": "code",
      "metadata": {
        "id": "wsck9_k605DE",
        "colab_type": "code",
        "outputId": "a7bfdcff-c596-4530-eeab-dbb4c7e0558e",
        "colab": {
          "base_uri": "https://localhost:8080/",
          "height": 312
        }
      },
      "source": [
        "arr=l_curve2.history\n",
        "df=pd.DataFrame(arr)\n",
        "plt.plot(df['val_accuracy'], label='validation accuracy')\n",
        "plt.plot(df['accuracy'], label='accuracy')\n",
        "plt.ylabel('accuracy score')\n",
        "plt.xlabel('no of epochs')\n",
        "plt.title('Accuracy scores vs epochs')\n",
        "plt.legend(loc=\"lower right\")\n",
        "plt.figure(figsize=(60,10))\n",
        "plt.show()"
      ],
      "execution_count": 0,
      "outputs": [
        {
          "output_type": "display_data",
          "data": {
            "image/png": "[encoded data removed]",
            "text/plain": [
              "<Figure size 432x288 with 1 Axes>"
            ]
          },
          "metadata": {
            "tags": [],
            "needs_background": "light"
          }
        },
        {
          "output_type": "display_data",
          "data": {
            "text/plain": [
              "<Figure size 4320x720 with 0 Axes>"
            ]
          },
          "metadata": {
            "tags": []
          }
        }
      ]
    },
    {
      "cell_type": "markdown",
      "metadata": {
        "id": "CBMO-SYYEMGS",
        "colab_type": "text"
      },
      "source": [
        "On the basis of the learning curves and evaluation scores on the validation set, we see that all the models provide ~ 0.85 on the validation set, so we can pick the bigger network with dropout and batch normalization as our model of choice, as it would be more robust to generalizing to other datasets."
      ]
    }
  ]
}