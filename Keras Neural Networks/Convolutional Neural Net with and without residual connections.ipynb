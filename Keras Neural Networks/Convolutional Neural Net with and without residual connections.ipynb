{
  "nbformat": 4,
  "nbformat_minor": 0,
  "metadata": {
    "colab": {
      "name": "AML_task_3_2.ipynb",
      "provenance": [],
      "collapsed_sections": []
    },
    "kernelspec": {
      "name": "python3",
      "display_name": "Python 3"
    },
    "accelerator": "GPU"
  },
  "cells": [
    {
      "cell_type": "code",
      "metadata": {
        "id": "tkLW-reQwum3",
        "colab_type": "code",
        "outputId": "e4ddbcd3-7d63-461d-c428-39652cea3f3f",
        "colab": {
          "base_uri": "https://localhost:8080/",
          "height": 373
        }
      },
      "source": [
        "%matplotlib inline\n",
        "!pip install category_encoders\n",
        "from google.colab import drive\n",
        "import os\n",
        "import time\n",
        "import pandas as pd\n",
        "import numpy as np\n",
        "from matplotlib import pyplot as plt\n",
        "import pickle\n",
        "drive.mount('/content/drive')\n",
        "# os.chdir(\"/content/drive/My Drive/Colab Notebooks/AML\")\n",
        "pd.set_option('display.max_rows', 20)\n"
      ],
      "execution_count": 1,
      "outputs": [
        {
          "output_type": "stream",
          "text": [
            "Collecting category_encoders\n",
            "\u001b[?25l  Downloading https://files.pythonhosted.org/packages/44/57/fcef41c248701ee62e8325026b90c432adea35555cbc870aff9cfba23727/category_encoders-2.2.2-py2.py3-none-any.whl (80kB)\n",
            "\r\u001b[K     |████                            | 10kB 23.7MB/s eta 0:00:01\r\u001b[K     |████████▏                       | 20kB 30.5MB/s eta 0:00:01\r\u001b[K     |████████████▏                   | 30kB 34.5MB/s eta 0:00:01\r\u001b[K     |████████████████▎               | 40kB 37.8MB/s eta 0:00:01\r\u001b[K     |████████████████████▎           | 51kB 38.3MB/s eta 0:00:01\r\u001b[K     |████████████████████████▍       | 61kB 40.9MB/s eta 0:00:01\r\u001b[K     |████████████████████████████▍   | 71kB 32.1MB/s eta 0:00:01\r\u001b[K     |████████████████████████████████| 81kB 10.3MB/s \n",
            "\u001b[?25hRequirement already satisfied: scipy>=1.0.0 in /usr/local/lib/python3.6/dist-packages (from category_encoders) (1.4.1)\n",
            "Requirement already satisfied: statsmodels>=0.9.0 in /usr/local/lib/python3.6/dist-packages (from category_encoders) (0.10.2)\n",
            "Requirement already satisfied: scikit-learn>=0.20.0 in /usr/local/lib/python3.6/dist-packages (from category_encoders) (0.22.2.post1)\n",
            "Requirement already satisfied: pandas>=0.21.1 in /usr/local/lib/python3.6/dist-packages (from category_encoders) (1.0.3)\n",
            "Requirement already satisfied: numpy>=1.14.0 in /usr/local/lib/python3.6/dist-packages (from category_encoders) (1.18.3)\n",
            "Requirement already satisfied: patsy>=0.5.1 in /usr/local/lib/python3.6/dist-packages (from category_encoders) (0.5.1)\n",
            "Requirement already satisfied: joblib>=0.11 in /usr/local/lib/python3.6/dist-packages (from scikit-learn>=0.20.0->category_encoders) (0.14.1)\n",
            "Requirement already satisfied: pytz>=2017.2 in /usr/local/lib/python3.6/dist-packages (from pandas>=0.21.1->category_encoders) (2018.9)\n",
            "Requirement already satisfied: python-dateutil>=2.6.1 in /usr/local/lib/python3.6/dist-packages (from pandas>=0.21.1->category_encoders) (2.8.1)\n",
            "Requirement already satisfied: six in /usr/local/lib/python3.6/dist-packages (from patsy>=0.5.1->category_encoders) (1.12.0)\n",
            "Installing collected packages: category-encoders\n",
            "Successfully installed category-encoders-2.2.2\n",
            "Go to this URL in a browser: https://accounts.google.com/o/oauth2/auth?client_id=947318989803-6bn6qk8qdgf4n4g3pfee6491hc0brc4i.apps.googleusercontent.com&redirect_uri=urn%3aietf%3awg%3aoauth%3a2.0%3aoob&response_type=code&scope=email%20https%3a%2f%2fwww.googleapis.com%2fauth%2fdocs.test%20https%3a%2f%2fwww.googleapis.com%2fauth%2fdrive%20https%3a%2f%2fwww.googleapis.com%2fauth%2fdrive.photos.readonly%20https%3a%2f%2fwww.googleapis.com%2fauth%2fpeopleapi.readonly\n",
            "\n",
            "Enter your authorization code:\n",
            "··········\n",
            "Mounted at /content/drive\n"
          ],
          "name": "stdout"
        }
      ]
    },
    {
      "cell_type": "code",
      "metadata": {
        "id": "mf4Q11du-PgJ",
        "colab_type": "code",
        "colab": {}
      },
      "source": [
        "# cp \"/content/drive/My Drive/Colab Notebooks/AML/cell_images.zip\""
      ],
      "execution_count": 0,
      "outputs": []
    },
    {
      "cell_type": "code",
      "metadata": {
        "id": "U0t-_XQnzEIE",
        "colab_type": "code",
        "colab": {}
      },
      "source": [
        "! cp   \"/content/drive/My Drive/Colab Notebooks/AML/cell_images.zip\" \"/content/cell_images.zip\""
      ],
      "execution_count": 0,
      "outputs": []
    },
    {
      "cell_type": "code",
      "metadata": {
        "id": "VY2KDlUb-bqd",
        "colab_type": "code",
        "colab": {}
      },
      "source": [
        " !unzip -q  \"/content/cell_images.zip\""
      ],
      "execution_count": 0,
      "outputs": []
    },
    {
      "cell_type": "code",
      "metadata": {
        "id": "bAXf24On2Gum",
        "colab_type": "code",
        "colab": {}
      },
      "source": [
        "import tensorflow as tf\n",
        "from sklearn.datasets import load_digits\n",
        "from sklearn.model_selection import train_test_split, StratifiedShuffleSplit\n",
        "from sklearn.model_selection import GridSearchCV\n",
        "from keras.wrappers.scikit_learn import KerasClassifier\n",
        "from keras.regularizers import l2\n",
        "from keras.utils import to_categorical\n",
        "from keras.layers import Dense, BatchNormalization, Dropout, Activation, Flatten, MaxPooling2D, Conv2D, Add, Input, SpatialDropout2D\n",
        "from keras.models import Sequential, Model\n",
        "from keras.datasets import fashion_mnist\n",
        "from tensorflow.keras.preprocessing.image import ImageDataGenerator\n",
        "import shutil\n",
        "import os"
      ],
      "execution_count": 0,
      "outputs": []
    },
    {
      "cell_type": "code",
      "metadata": {
        "id": "om7LPNnr-FMu",
        "colab_type": "code",
        "colab": {}
      },
      "source": [
        ""
      ],
      "execution_count": 0,
      "outputs": []
    },
    {
      "cell_type": "code",
      "metadata": {
        "id": "iPkUuFmt2YQ7",
        "colab_type": "code",
        "colab": {}
      },
      "source": [
        "pos_dir=os.path.join('/content/cell_images', 'Parasitized')\n",
        "neg_dir=os.path.join('/content/cell_images', 'Uninfected')"
      ],
      "execution_count": 0,
      "outputs": []
    },
    {
      "cell_type": "code",
      "metadata": {
        "id": "rXDEI5QR2qjz",
        "colab_type": "code",
        "outputId": "36a69911-260d-4347-8563-72131925fda7",
        "colab": {
          "base_uri": "https://localhost:8080/",
          "height": 34
        }
      },
      "source": [
        "pos_n=len(os.listdir(pos_dir))\n",
        "print(pos_n)"
      ],
      "execution_count": 7,
      "outputs": [
        {
          "output_type": "stream",
          "text": [
            "13780\n"
          ],
          "name": "stdout"
        }
      ]
    },
    {
      "cell_type": "code",
      "metadata": {
        "id": "Ujcs8vRV2t14",
        "colab_type": "code",
        "outputId": "542e7ec4-cc36-480c-9504-b5c536bb6f9f",
        "colab": {
          "base_uri": "https://localhost:8080/",
          "height": 34
        }
      },
      "source": [
        "neg_n=len(os.listdir(neg_dir))\n",
        "print(neg_n)"
      ],
      "execution_count": 8,
      "outputs": [
        {
          "output_type": "stream",
          "text": [
            "13780\n"
          ],
          "name": "stdout"
        }
      ]
    },
    {
      "cell_type": "code",
      "metadata": {
        "id": "IRa5lp_7MKYb",
        "colab_type": "code",
        "colab": {}
      },
      "source": [
        "! mkdir -p \"/content/test/Parasitized\""
      ],
      "execution_count": 0,
      "outputs": []
    },
    {
      "cell_type": "code",
      "metadata": {
        "id": "ae8p8VaoMrd_",
        "colab_type": "code",
        "colab": {}
      },
      "source": [
        "! mkdir -p \"/content/test/Uninfected\""
      ],
      "execution_count": 0,
      "outputs": []
    },
    {
      "cell_type": "code",
      "metadata": {
        "id": "dbXlSN4iMYxv",
        "colab_type": "code",
        "colab": {
          "base_uri": "https://localhost:8080/",
          "height": 34
        },
        "outputId": "85009a46-6650-4920-f913-5cfaa8147e65"
      },
      "source": [
        "! ls -l /content/test/Uninfected/*.* | wc -l"
      ],
      "execution_count": 48,
      "outputs": [
        {
          "output_type": "stream",
          "text": [
            "3780\n"
          ],
          "name": "stdout"
        }
      ]
    },
    {
      "cell_type": "code",
      "metadata": {
        "id": "fWQCzNK_Myj7",
        "colab_type": "code",
        "colab": {}
      },
      "source": [
        "! shuf -zn3780 -e /content/cell_images/Parasitized/*.png | xargs -0 cp -vt \"/content/test/Parasitized/\""
      ],
      "execution_count": 0,
      "outputs": []
    },
    {
      "cell_type": "code",
      "metadata": {
        "id": "G1X2V3DnNg1V",
        "colab_type": "code",
        "colab": {}
      },
      "source": [
        "! shuf -zn3780 -e /content/cell_images/Uninfected/*.png | xargs -0 cp -vt \"/content/test/Uninfected\""
      ],
      "execution_count": 0,
      "outputs": []
    },
    {
      "cell_type": "code",
      "metadata": {
        "id": "WQe3oV6APelY",
        "colab_type": "code",
        "colab": {
          "base_uri": "https://localhost:8080/",
          "height": 34
        },
        "outputId": "208a5a27-3bc1-45ed-8817-4bda0aa6100a"
      },
      "source": [
        "! ls -l /content/test/Uninfected/*.* | wc -l"
      ],
      "execution_count": 49,
      "outputs": [
        {
          "output_type": "stream",
          "text": [
            "3780\n"
          ],
          "name": "stdout"
        }
      ]
    },
    {
      "cell_type": "code",
      "metadata": {
        "id": "_fsAj0KRPg3k",
        "colab_type": "code",
        "colab": {
          "base_uri": "https://localhost:8080/",
          "height": 34
        },
        "outputId": "39d5a15b-6a2d-44b8-becd-736b09c27f42"
      },
      "source": [
        "! ls -l /content/test/Parasitized/*.* | wc -l"
      ],
      "execution_count": 50,
      "outputs": [
        {
          "output_type": "stream",
          "text": [
            "3780\n"
          ],
          "name": "stdout"
        }
      ]
    },
    {
      "cell_type": "code",
      "metadata": {
        "id": "HTfrbb36R_iQ",
        "colab_type": "code",
        "colab": {
          "base_uri": "https://localhost:8080/",
          "height": 34
        },
        "outputId": "0782c214-5791-4b81-b381-e76c39173b24"
      },
      "source": [
        "! ls -l /content/test/Parasitized/*.* | head -n 1"
      ],
      "execution_count": 62,
      "outputs": [
        {
          "output_type": "stream",
          "text": [
            "-rw-r--r-- 1 root root 14025 May  1 07:55 /content/test/Parasitized/C100P61ThinF_IMG_20150918_144104_cell_162.png\n"
          ],
          "name": "stdout"
        }
      ]
    },
    {
      "cell_type": "code",
      "metadata": {
        "id": "npXvFZumSMC8",
        "colab_type": "code",
        "colab": {}
      },
      "source": [
        "! mkdir -p \"/content/test/Uninfected1\""
      ],
      "execution_count": 0,
      "outputs": []
    },
    {
      "cell_type": "code",
      "metadata": {
        "id": "aPZE7XRGSvl0",
        "colab_type": "code",
        "colab": {
          "base_uri": "https://localhost:8080/",
          "height": 185
        },
        "outputId": "edd0e466-d85a-4d6e-c1ab-119b877bd2df"
      },
      "source": [
        "! ls -p /content/test/Uninfected/ | grep -v / | tail -10;"
      ],
      "execution_count": 72,
      "outputs": [
        {
          "output_type": "stream",
          "text": [
            "C99P60ThinF_IMG_20150918_141351_cell_53.png\n",
            "C99P60ThinF_IMG_20150918_141351_cell_75.png\n",
            "C99P60ThinF_IMG_20150918_141520_cell_45.png\n",
            "C99P60ThinF_IMG_20150918_141520_cell_64.png\n",
            "C99P60ThinF_IMG_20150918_141520_cell_9.png\n",
            "C99P60ThinF_IMG_20150918_142128_cell_11.png\n",
            "C99P60ThinF_IMG_20150918_142128_cell_3.png\n",
            "C99P60ThinF_IMG_20150918_142128_cell_47.png\n",
            "C99P60ThinF_IMG_20150918_142128_cell_53.png\n",
            "C99P60ThinF_IMG_20150918_142128_cell_55.png\n"
          ],
          "name": "stdout"
        }
      ]
    },
    {
      "cell_type": "code",
      "metadata": {
        "id": "fRyb2EndUkdx",
        "colab_type": "code",
        "colab": {}
      },
      "source": [
        "! a=$(ls -p /content/test/Uninfected/ | grep -v /)"
      ],
      "execution_count": 0,
      "outputs": []
    },
    {
      "cell_type": "code",
      "metadata": {
        "id": "0KACjj9_UqdW",
        "colab_type": "code",
        "colab": {}
      },
      "source": [
        "!a=`ls -p /content/test/Uninfected/ | grep -v /`"
      ],
      "execution_count": 0,
      "outputs": []
    },
    {
      "cell_type": "code",
      "metadata": {
        "id": "1DGW5ZIfWFa9",
        "colab_type": "code",
        "colab": {}
      },
      "source": [
        "! rm /content/test/Uninfected/*\n",
        "! rm /content/test/Parasitized/*"
      ],
      "execution_count": 0,
      "outputs": []
    },
    {
      "cell_type": "code",
      "metadata": {
        "id": "2rdXhYI3dPEg",
        "colab_type": "code",
        "colab": {}
      },
      "source": [
        "! rm -rf  /content/test/Uninfected1"
      ],
      "execution_count": 0,
      "outputs": []
    },
    {
      "cell_type": "code",
      "metadata": {
        "id": "5-V1sXKOU-XY",
        "colab_type": "code",
        "colab": {}
      },
      "source": [
        "tmp_pos=os.listdir(pos_dir)\n",
        "tmp_neg=os.listdir(neg_dir)\n"
      ],
      "execution_count": 0,
      "outputs": []
    },
    {
      "cell_type": "code",
      "metadata": {
        "id": "3ZLFpOw5VyLv",
        "colab_type": "code",
        "colab": {}
      },
      "source": [
        "tmp_pos=tmp_pos[:3780]\n",
        "tmp_neg=tmp_neg[:3780]"
      ],
      "execution_count": 0,
      "outputs": []
    },
    {
      "cell_type": "code",
      "metadata": {
        "id": "k8d-013eYabg",
        "colab_type": "code",
        "colab": {}
      },
      "source": [
        "dest_pos='/content/test/Parasitized/'\n",
        "for file in tmp_pos:\n",
        "  src='/content/cell_images/Parasitized/'+file.strip()\n",
        "  shutil.move(src, dest_pos)\n"
      ],
      "execution_count": 0,
      "outputs": []
    },
    {
      "cell_type": "code",
      "metadata": {
        "id": "PlqGeDNCadDi",
        "colab_type": "code",
        "colab": {}
      },
      "source": [
        "dest_neg='/content/test/Uninfected/'\n",
        "for file in tmp_neg:\n",
        "  src='/content/cell_images/Uninfected//'+file.strip()\n",
        "  shutil.move(src, dest_neg)\n"
      ],
      "execution_count": 0,
      "outputs": []
    },
    {
      "cell_type": "code",
      "metadata": {
        "id": "wR7I2azyZoA1",
        "colab_type": "code",
        "colab": {
          "base_uri": "https://localhost:8080/",
          "height": 34
        },
        "outputId": "2be00fd6-94d2-4716-ddc5-ee395bc3258f"
      },
      "source": [
        "! ls -l /content/cell_images/Uninfected/* | wc -l"
      ],
      "execution_count": 99,
      "outputs": [
        {
          "output_type": "stream",
          "text": [
            "10000\n"
          ],
          "name": "stdout"
        }
      ]
    },
    {
      "cell_type": "code",
      "metadata": {
        "id": "QFQgUnxU2weu",
        "colab_type": "code",
        "colab": {}
      },
      "source": [
        "img_gen=ImageDataGenerator(rescale=1./255, validation_split=0.20)\n",
        "## batch size = 100\n",
        "## epochs = 6"
      ],
      "execution_count": 0,
      "outputs": []
    },
    {
      "cell_type": "code",
      "metadata": {
        "id": "TnwedYxF2zB5",
        "colab_type": "code",
        "outputId": "a4156c65-d6f6-43d3-e8a3-cd8da9cedb92",
        "colab": {
          "base_uri": "https://localhost:8080/",
          "height": 34
        }
      },
      "source": [
        "train_set=img_gen.flow_from_directory(directory='/content/cell_images',batch_size=100,target_size=(100,100), class_mode=\"binary\", subset=\"training\", shuffle=True)"
      ],
      "execution_count": 105,
      "outputs": [
        {
          "output_type": "stream",
          "text": [
            "Found 16000 images belonging to 2 classes.\n"
          ],
          "name": "stdout"
        }
      ]
    },
    {
      "cell_type": "code",
      "metadata": {
        "id": "oCsEaLim21o1",
        "colab_type": "code",
        "outputId": "5a605fe5-e25c-40a1-aa8d-8af2ec989458",
        "colab": {
          "base_uri": "https://localhost:8080/",
          "height": 34
        }
      },
      "source": [
        "val_set=img_gen.flow_from_directory(directory='/content/cell_images',batch_size=100,target_size=(100,100), class_mode=\"binary\", subset=\"validation\", shuffle=True)"
      ],
      "execution_count": 106,
      "outputs": [
        {
          "output_type": "stream",
          "text": [
            "Found 3998 images belonging to 2 classes.\n"
          ],
          "name": "stdout"
        }
      ]
    },
    {
      "cell_type": "code",
      "metadata": {
        "id": "rT9azJMv29DK",
        "colab_type": "code",
        "outputId": "d5c8d4b1-7e17-48fc-9309-21ba37e66f87",
        "colab": {
          "base_uri": "https://localhost:8080/",
          "height": 67
        }
      },
      "source": [
        "print(val_set[0][1][1])\n",
        "print(val_set.filenames[1])\n",
        "print(len(val_set.filenames))\n"
      ],
      "execution_count": 108,
      "outputs": [
        {
          "output_type": "stream",
          "text": [
            "0.0\n",
            "Parasitized/C100P61ThinF_IMG_20150918_144104_cell_163.png\n",
            "3998\n"
          ],
          "name": "stdout"
        }
      ]
    },
    {
      "cell_type": "code",
      "metadata": {
        "id": "bwYYv7ze2-SF",
        "colab_type": "code",
        "outputId": "1ac5ee1f-c830-4665-f205-a8b52777cb70",
        "colab": {
          "base_uri": "https://localhost:8080/",
          "height": 34
        }
      },
      "source": [
        "print(len(train_set.filenames))"
      ],
      "execution_count": 109,
      "outputs": [
        {
          "output_type": "stream",
          "text": [
            "16000\n"
          ],
          "name": "stdout"
        }
      ]
    },
    {
      "cell_type": "code",
      "metadata": {
        "id": "FDKyLIcT3DDp",
        "colab_type": "code",
        "colab": {}
      },
      "source": [
        "train_n=16000\n",
        "val_n=3998"
      ],
      "execution_count": 0,
      "outputs": []
    },
    {
      "cell_type": "code",
      "metadata": {
        "id": "UOrozpSO3EFE",
        "colab_type": "code",
        "colab": {}
      },
      "source": [
        "label=train_set[0][1][0]\n",
        "img=train_set[0][0][0]"
      ],
      "execution_count": 0,
      "outputs": []
    },
    {
      "cell_type": "code",
      "metadata": {
        "id": "09YkXBgZ3GTs",
        "colab_type": "code",
        "outputId": "d7ec581b-6ad6-43ea-844a-f0882a6056f4",
        "colab": {
          "base_uri": "https://localhost:8080/",
          "height": 298
        }
      },
      "source": [
        "plt.imshow(img)\n",
        "# mp={1:\"Parasitized\", 0:\"Uinfected\"}\n",
        "plt.title(label)\n"
      ],
      "execution_count": 113,
      "outputs": [
        {
          "output_type": "execute_result",
          "data": {
            "text/plain": [
              "Text(0.5, 1.0, '0.0')"
            ]
          },
          "metadata": {
            "tags": []
          },
          "execution_count": 113
        },
        {
          "output_type": "display_data",
          "data": {
            "image/png": "[encoded data removed]",
            "text/plain": [
              "<Figure size 432x288 with 1 Axes>"
            ]
          },
          "metadata": {
            "tags": [],
            "needs_background": "light"
          }
        }
      ]
    },
    {
      "cell_type": "code",
      "metadata": {
        "id": "uX4R95L83Ixr",
        "colab_type": "code",
        "colab": {}
      },
      "source": [
        "def build_basic_conv_model():\n",
        "  model=Sequential()\n",
        "  model.add(Conv2D(32, 3, input_shape=(100,100,3), padding='same', activation='relu'))\n",
        "  model.add(BatchNormalization())\n",
        "  model.add(MaxPooling2D())\n",
        "  # model.add(Conv2D(32, 3, padding='same', activation='relu'))\n",
        "  # model.add(BatchNormalization())\n",
        "  # model.add(MaxPooling2D())\n",
        "  model.add(Flatten())\n",
        "  # model.add(Dense(64, activation='relu'))\n",
        "  model.add(Dense(1,activation='sigmoid'))\n",
        "\n",
        "  return model"
      ],
      "execution_count": 0,
      "outputs": []
    },
    {
      "cell_type": "code",
      "metadata": {
        "id": "2tz-QLp43Ml_",
        "colab_type": "code",
        "colab": {}
      },
      "source": [
        "model_conv=build_basic_conv_model()\n"
      ],
      "execution_count": 0,
      "outputs": []
    },
    {
      "cell_type": "code",
      "metadata": {
        "id": "LFh-rcAb3Psr",
        "colab_type": "code",
        "colab": {}
      },
      "source": [
        "model_conv.compile(loss='binary_crossentropy', metrics=['accuracy'], optimizer='adam')"
      ],
      "execution_count": 0,
      "outputs": []
    },
    {
      "cell_type": "code",
      "metadata": {
        "id": "hUkETzzl3Sgz",
        "colab_type": "code",
        "outputId": "404a0525-f539-4de3-f842-809d748b804a",
        "colab": {
          "base_uri": "https://localhost:8080/",
          "height": 319
        }
      },
      "source": [
        "model_conv.summary()"
      ],
      "execution_count": 117,
      "outputs": [
        {
          "output_type": "stream",
          "text": [
            "Model: \"sequential_3\"\n",
            "_________________________________________________________________\n",
            "Layer (type)                 Output Shape              Param #   \n",
            "=================================================================\n",
            "conv2d_4 (Conv2D)            (None, 100, 100, 32)      896       \n",
            "_________________________________________________________________\n",
            "batch_normalization_4 (Batch (None, 100, 100, 32)      128       \n",
            "_________________________________________________________________\n",
            "max_pooling2d_4 (MaxPooling2 (None, 50, 50, 32)        0         \n",
            "_________________________________________________________________\n",
            "flatten_3 (Flatten)          (None, 80000)             0         \n",
            "_________________________________________________________________\n",
            "dense_3 (Dense)              (None, 1)                 80001     \n",
            "=================================================================\n",
            "Total params: 81,025\n",
            "Trainable params: 80,961\n",
            "Non-trainable params: 64\n",
            "_________________________________________________________________\n"
          ],
          "name": "stdout"
        }
      ]
    },
    {
      "cell_type": "code",
      "metadata": {
        "id": "iqpjtkn83VWl",
        "colab_type": "code",
        "colab": {}
      },
      "source": [
        "batch_size=128\n",
        "epochs=8\n",
        "\n",
        "train_step=train_n // batch_size\n",
        "val_step=val_n // batch_size"
      ],
      "execution_count": 0,
      "outputs": []
    },
    {
      "cell_type": "code",
      "metadata": {
        "id": "9zjfgcuj3Z4z",
        "colab_type": "code",
        "outputId": "e7484be4-58dd-4807-a8e9-a9a5bbc47b34",
        "colab": {
          "base_uri": "https://localhost:8080/",
          "height": 50
        }
      },
      "source": [
        "print(train_step)\n",
        "print(val_step)"
      ],
      "execution_count": 119,
      "outputs": [
        {
          "output_type": "stream",
          "text": [
            "125\n",
            "31\n"
          ],
          "name": "stdout"
        }
      ]
    },
    {
      "cell_type": "code",
      "metadata": {
        "id": "1jjIoA2A3clJ",
        "colab_type": "code",
        "outputId": "9d9c5ef3-d9a7-42ff-9f6f-b5fd790f67c5",
        "colab": {
          "base_uri": "https://localhost:8080/",
          "height": 286
        }
      },
      "source": [
        "l_curve=model_conv.fit_generator(train_set,steps_per_epoch=train_step,epochs=epochs, validation_data=val_set, validation_steps=val_step)"
      ],
      "execution_count": 120,
      "outputs": [
        {
          "output_type": "stream",
          "text": [
            "Epoch 1/8\n",
            "125/125 [==============================] - 17s 140ms/step - loss: 0.7837 - accuracy: 0.6347 - val_loss: 0.6102 - val_accuracy: 0.5245\n",
            "Epoch 2/8\n",
            "125/125 [==============================] - 17s 132ms/step - loss: 0.5661 - accuracy: 0.7108 - val_loss: 0.6315 - val_accuracy: 0.6269\n",
            "Epoch 3/8\n",
            "125/125 [==============================] - 16s 130ms/step - loss: 0.4312 - accuracy: 0.8118 - val_loss: 0.5755 - val_accuracy: 0.6288\n",
            "Epoch 4/8\n",
            "125/125 [==============================] - 16s 131ms/step - loss: 0.3605 - accuracy: 0.8603 - val_loss: 0.5280 - val_accuracy: 0.7053\n",
            "Epoch 5/8\n",
            "125/125 [==============================] - 16s 128ms/step - loss: 0.2790 - accuracy: 0.8955 - val_loss: 0.4452 - val_accuracy: 0.6945\n",
            "Epoch 6/8\n",
            "125/125 [==============================] - 17s 133ms/step - loss: 0.2137 - accuracy: 0.9265 - val_loss: 0.5291 - val_accuracy: 0.7121\n",
            "Epoch 7/8\n",
            "125/125 [==============================] - 16s 130ms/step - loss: 0.2203 - accuracy: 0.9191 - val_loss: 0.8302 - val_accuracy: 0.7686\n",
            "Epoch 8/8\n",
            "125/125 [==============================] - 16s 129ms/step - loss: 0.1938 - accuracy: 0.9331 - val_loss: 0.8169 - val_accuracy: 0.7615\n"
          ],
          "name": "stdout"
        }
      ]
    },
    {
      "cell_type": "code",
      "metadata": {
        "id": "lUN_QWqxQTKv",
        "colab_type": "code",
        "colab": {}
      },
      "source": [
        "arr=l_curve.history\n",
        "df=pd.DataFrame(arr)"
      ],
      "execution_count": 0,
      "outputs": []
    },
    {
      "cell_type": "code",
      "metadata": {
        "id": "Yv6waQKXQWug",
        "colab_type": "code",
        "colab": {
          "base_uri": "https://localhost:8080/",
          "height": 312
        },
        "outputId": "16743931-307e-4bf1-96d6-6d1b080d909a"
      },
      "source": [
        "plt.plot(df['val_accuracy'], label='validation accuracy')\n",
        "plt.plot(df['accuracy'], label='accuracy')\n",
        "plt.ylabel('accuracy score')\n",
        "plt.xlabel('no of epochs')\n",
        "plt.title('Accuracy scores vs epochs')\n",
        "plt.legend(loc=\"lower right\")\n",
        "plt.figure(figsize=(60,10))\n",
        "plt.show()"
      ],
      "execution_count": 122,
      "outputs": [
        {
          "output_type": "display_data",
          "data": {
            "image/png": "[encoded data removed]",
            "text/plain": [
              "<Figure size 432x288 with 1 Axes>"
            ]
          },
          "metadata": {
            "tags": [],
            "needs_background": "light"
          }
        },
        {
          "output_type": "display_data",
          "data": {
            "text/plain": [
              "<Figure size 4320x720 with 0 Axes>"
            ]
          },
          "metadata": {
            "tags": []
          }
        }
      ]
    },
    {
      "cell_type": "code",
      "metadata": {
        "id": "rJ0u2g-IB-XP",
        "colab_type": "code",
        "colab": {
          "base_uri": "https://localhost:8080/",
          "height": 34
        },
        "outputId": "a86c1559-f749-418b-8ba6-a69405ac6cc7"
      },
      "source": [
        "model_conv.evaluate_generator(test_set)"
      ],
      "execution_count": 209,
      "outputs": [
        {
          "output_type": "execute_result",
          "data": {
            "text/plain": [
              "[0.5362948179244995, 0.7969576716423035]"
            ]
          },
          "metadata": {
            "tags": []
          },
          "execution_count": 209
        }
      ]
    },
    {
      "cell_type": "code",
      "metadata": {
        "id": "cfSqQp7FAjG0",
        "colab_type": "code",
        "colab": {}
      },
      "source": [
        "def build_basic_conv_model2():\n",
        "  model=Sequential()\n",
        "  model.add(Conv2D(32, 3, input_shape=(100,100,3), padding='same', activation='relu'))\n",
        "  model.add(SpatialDropout2D(0.1))\n",
        "  model.add(BatchNormalization())\n",
        "  model.add(MaxPooling2D())\n",
        "  model.add(Conv2D(32, 3, padding='same', activation='relu'))\n",
        "  model.add(SpatialDropout2D(0.1))\n",
        "  model.add(BatchNormalization())\n",
        "  model.add(MaxPooling2D())\n",
        "  model.add(Flatten())\n",
        "  # model.add(Dense(128, activation='relu'))\n",
        "  model.add(Dense(1,activation='sigmoid'))\n",
        "\n",
        "  return model"
      ],
      "execution_count": 0,
      "outputs": []
    },
    {
      "cell_type": "code",
      "metadata": {
        "id": "vGCGTurwBb5A",
        "colab_type": "code",
        "colab": {}
      },
      "source": [
        "model_conv2=build_basic_conv_model2()"
      ],
      "execution_count": 0,
      "outputs": []
    },
    {
      "cell_type": "code",
      "metadata": {
        "id": "8-zf1MTeBhr-",
        "colab_type": "code",
        "colab": {}
      },
      "source": [
        "model_conv2.compile(loss='binary_crossentropy', metrics=['accuracy'], optimizer='adam')"
      ],
      "execution_count": 0,
      "outputs": []
    },
    {
      "cell_type": "code",
      "metadata": {
        "id": "V5u-AznJBoya",
        "colab_type": "code",
        "outputId": "8aa8dcf2-44dc-4099-a850-0c4fdc4d28fd",
        "colab": {
          "base_uri": "https://localhost:8080/",
          "height": 487
        }
      },
      "source": [
        "model_conv2.summary()"
      ],
      "execution_count": 126,
      "outputs": [
        {
          "output_type": "stream",
          "text": [
            "Model: \"sequential_4\"\n",
            "_________________________________________________________________\n",
            "Layer (type)                 Output Shape              Param #   \n",
            "=================================================================\n",
            "conv2d_5 (Conv2D)            (None, 100, 100, 32)      896       \n",
            "_________________________________________________________________\n",
            "spatial_dropout2d_3 (Spatial (None, 100, 100, 32)      0         \n",
            "_________________________________________________________________\n",
            "batch_normalization_5 (Batch (None, 100, 100, 32)      128       \n",
            "_________________________________________________________________\n",
            "max_pooling2d_5 (MaxPooling2 (None, 50, 50, 32)        0         \n",
            "_________________________________________________________________\n",
            "conv2d_6 (Conv2D)            (None, 50, 50, 32)        9248      \n",
            "_________________________________________________________________\n",
            "spatial_dropout2d_4 (Spatial (None, 50, 50, 32)        0         \n",
            "_________________________________________________________________\n",
            "batch_normalization_6 (Batch (None, 50, 50, 32)        128       \n",
            "_________________________________________________________________\n",
            "max_pooling2d_6 (MaxPooling2 (None, 25, 25, 32)        0         \n",
            "_________________________________________________________________\n",
            "flatten_4 (Flatten)          (None, 20000)             0         \n",
            "_________________________________________________________________\n",
            "dense_4 (Dense)              (None, 1)                 20001     \n",
            "=================================================================\n",
            "Total params: 30,401\n",
            "Trainable params: 30,273\n",
            "Non-trainable params: 128\n",
            "_________________________________________________________________\n"
          ],
          "name": "stdout"
        }
      ]
    },
    {
      "cell_type": "code",
      "metadata": {
        "id": "VfP7WBApBsW3",
        "colab_type": "code",
        "outputId": "f54046a1-18a9-4bfd-9c3a-30d710129657",
        "colab": {
          "base_uri": "https://localhost:8080/",
          "height": 286
        }
      },
      "source": [
        "l_curve2=model_conv2.fit_generator(train_set,steps_per_epoch=train_step, epochs=epochs, validation_data=val_set, validation_steps=val_step)"
      ],
      "execution_count": 127,
      "outputs": [
        {
          "output_type": "stream",
          "text": [
            "Epoch 1/8\n",
            "125/125 [==============================] - 19s 150ms/step - loss: 0.9515 - accuracy: 0.5926 - val_loss: 0.6503 - val_accuracy: 0.6813\n",
            "Epoch 2/8\n",
            "125/125 [==============================] - 17s 140ms/step - loss: 0.6450 - accuracy: 0.6900 - val_loss: 0.7780 - val_accuracy: 0.5036\n",
            "Epoch 3/8\n",
            "125/125 [==============================] - 17s 138ms/step - loss: 0.4455 - accuracy: 0.8042 - val_loss: 1.5944 - val_accuracy: 0.5048\n",
            "Epoch 4/8\n",
            "125/125 [==============================] - 17s 139ms/step - loss: 0.3963 - accuracy: 0.8384 - val_loss: 0.7144 - val_accuracy: 0.6330\n",
            "Epoch 5/8\n",
            "125/125 [==============================] - 17s 137ms/step - loss: 0.2627 - accuracy: 0.9030 - val_loss: 0.6610 - val_accuracy: 0.7432\n",
            "Epoch 6/8\n",
            "125/125 [==============================] - 18s 140ms/step - loss: 0.1889 - accuracy: 0.9313 - val_loss: 0.3359 - val_accuracy: 0.9099\n",
            "Epoch 7/8\n",
            "125/125 [==============================] - 17s 137ms/step - loss: 0.1805 - accuracy: 0.9390 - val_loss: 0.2736 - val_accuracy: 0.9083\n",
            "Epoch 8/8\n",
            "125/125 [==============================] - 17s 138ms/step - loss: 0.1706 - accuracy: 0.9411 - val_loss: 0.2620 - val_accuracy: 0.9190\n"
          ],
          "name": "stdout"
        }
      ]
    },
    {
      "cell_type": "code",
      "metadata": {
        "id": "cgzcYCU1QArY",
        "colab_type": "code",
        "colab": {}
      },
      "source": [
        "arr=l_curve2.history\n",
        "df=pd.DataFrame(arr)"
      ],
      "execution_count": 0,
      "outputs": []
    },
    {
      "cell_type": "code",
      "metadata": {
        "id": "DL3QiwLAQJoL",
        "colab_type": "code",
        "colab": {
          "base_uri": "https://localhost:8080/",
          "height": 195
        },
        "outputId": "6363559b-d3a9-46a1-afa7-b57e400c5ab8"
      },
      "source": [
        "df.head()"
      ],
      "execution_count": 129,
      "outputs": [
        {
          "output_type": "execute_result",
          "data": {
            "text/html": [
              "<div>\n",
              "<style scoped>\n",
              "    .dataframe tbody tr th:only-of-type {\n",
              "        vertical-align: middle;\n",
              "    }\n",
              "\n",
              "    .dataframe tbody tr th {\n",
              "        vertical-align: top;\n",
              "    }\n",
              "\n",
              "    .dataframe thead th {\n",
              "        text-align: right;\n",
              "    }\n",
              "</style>\n",
              "<table border=\"1\" class=\"dataframe\">\n",
              "  <thead>\n",
              "    <tr style=\"text-align: right;\">\n",
              "      <th></th>\n",
              "      <th>val_loss</th>\n",
              "      <th>val_accuracy</th>\n",
              "      <th>loss</th>\n",
              "      <th>accuracy</th>\n",
              "    </tr>\n",
              "  </thead>\n",
              "  <tbody>\n",
              "    <tr>\n",
              "      <th>0</th>\n",
              "      <td>0.650325</td>\n",
              "      <td>0.681290</td>\n",
              "      <td>0.951546</td>\n",
              "      <td>0.59264</td>\n",
              "    </tr>\n",
              "    <tr>\n",
              "      <th>1</th>\n",
              "      <td>0.778034</td>\n",
              "      <td>0.503551</td>\n",
              "      <td>0.645028</td>\n",
              "      <td>0.69000</td>\n",
              "    </tr>\n",
              "    <tr>\n",
              "      <th>2</th>\n",
              "      <td>1.594430</td>\n",
              "      <td>0.504842</td>\n",
              "      <td>0.445524</td>\n",
              "      <td>0.80416</td>\n",
              "    </tr>\n",
              "    <tr>\n",
              "      <th>3</th>\n",
              "      <td>0.714446</td>\n",
              "      <td>0.632989</td>\n",
              "      <td>0.396324</td>\n",
              "      <td>0.83840</td>\n",
              "    </tr>\n",
              "    <tr>\n",
              "      <th>4</th>\n",
              "      <td>0.661045</td>\n",
              "      <td>0.743226</td>\n",
              "      <td>0.262724</td>\n",
              "      <td>0.90296</td>\n",
              "    </tr>\n",
              "  </tbody>\n",
              "</table>\n",
              "</div>"
            ],
            "text/plain": [
              "   val_loss  val_accuracy      loss  accuracy\n",
              "0  0.650325      0.681290  0.951546   0.59264\n",
              "1  0.778034      0.503551  0.645028   0.69000\n",
              "2  1.594430      0.504842  0.445524   0.80416\n",
              "3  0.714446      0.632989  0.396324   0.83840\n",
              "4  0.661045      0.743226  0.262724   0.90296"
            ]
          },
          "metadata": {
            "tags": []
          },
          "execution_count": 129
        }
      ]
    },
    {
      "cell_type": "code",
      "metadata": {
        "id": "Q2i8bcu5QLoM",
        "colab_type": "code",
        "colab": {
          "base_uri": "https://localhost:8080/",
          "height": 312
        },
        "outputId": "8d5b08d3-530e-4bcb-ee63-d53b2f34d355"
      },
      "source": [
        "plt.plot(df['val_accuracy'], label='validation accuracy')\n",
        "plt.plot(df['accuracy'], label='accuracy')\n",
        "plt.ylabel('accuracy score')\n",
        "plt.xlabel('no of epochs')\n",
        "plt.title('Accuracy scores vs epochs')\n",
        "plt.legend(loc=\"lower right\")\n",
        "plt.figure(figsize=(60,10))\n",
        "plt.show()"
      ],
      "execution_count": 130,
      "outputs": [
        {
          "output_type": "display_data",
          "data": {
            "image/png": "[encoded data removed]",
            "text/plain": [
              "<Figure size 432x288 with 1 Axes>"
            ]
          },
          "metadata": {
            "tags": [],
            "needs_background": "light"
          }
        },
        {
          "output_type": "display_data",
          "data": {
            "text/plain": [
              "<Figure size 4320x720 with 0 Axes>"
            ]
          },
          "metadata": {
            "tags": []
          }
        }
      ]
    },
    {
      "cell_type": "code",
      "metadata": {
        "id": "NsEjEB3NGXGo",
        "colab_type": "code",
        "colab": {
          "base_uri": "https://localhost:8080/",
          "height": 34
        },
        "outputId": "c101c6c9-105b-492c-ae87-42c63afbf4a7"
      },
      "source": [
        "img_gen2=ImageDataGenerator(rescale=1./255)\n",
        "test_set=img_gen2.flow_from_directory(directory='/content/test',batch_size=100,target_size=(100,100), class_mode=\"binary\", shuffle=True)"
      ],
      "execution_count": 207,
      "outputs": [
        {
          "output_type": "stream",
          "text": [
            "Found 7560 images belonging to 2 classes.\n"
          ],
          "name": "stdout"
        }
      ]
    },
    {
      "cell_type": "code",
      "metadata": {
        "id": "7cA50wxVQABb",
        "colab_type": "code",
        "colab": {
          "base_uri": "https://localhost:8080/",
          "height": 34
        },
        "outputId": "9e7c4614-2d40-41db-e997-577c4d7cc809"
      },
      "source": [
        "model_conv2.evaluate_generator(test_set)"
      ],
      "execution_count": 138,
      "outputs": [
        {
          "output_type": "execute_result",
          "data": {
            "text/plain": [
              "[0.2210436761379242, 0.9318783283233643]"
            ]
          },
          "metadata": {
            "tags": []
          },
          "execution_count": 138
        }
      ]
    },
    {
      "cell_type": "markdown",
      "metadata": {
        "id": "xNQhK8EaCFnS",
        "colab_type": "text"
      },
      "source": [
        "We notice that the model with spatial dropout performs better than the model with only batch normalization on the test set."
      ]
    },
    {
      "cell_type": "markdown",
      "metadata": {
        "id": "J6E_4QOjBSLG",
        "colab_type": "text"
      },
      "source": [
        "**3.2**"
      ]
    },
    {
      "cell_type": "code",
      "metadata": {
        "id": "-gO2saEIe3-7",
        "colab_type": "code",
        "colab": {
          "base_uri": "https://localhost:8080/",
          "height": 50
        },
        "outputId": "4df58c2d-4f2b-4b0d-8037-db2a0a3c28fc"
      },
      "source": [
        "## using image augmentations\n",
        "img_gen=ImageDataGenerator(rescale=1./255, validation_split=0.20,zoom_range=0.25, rotation_range=30, horizontal_flip=True)\n",
        "train_set=img_gen.flow_from_directory(directory='/content/cell_images',batch_size=100,target_size=(100,100), class_mode=\"binary\", subset=\"training\", shuffle=True)\n",
        "val_set=img_gen.flow_from_directory(directory='/content/cell_images',batch_size=100,target_size=(100,100), class_mode=\"binary\", subset=\"validation\", shuffle=True)"
      ],
      "execution_count": 139,
      "outputs": [
        {
          "output_type": "stream",
          "text": [
            "Found 16000 images belonging to 2 classes.\n",
            "Found 3998 images belonging to 2 classes.\n"
          ],
          "name": "stdout"
        }
      ]
    },
    {
      "cell_type": "code",
      "metadata": {
        "id": "Ix9UI1hCirRP",
        "colab_type": "code",
        "colab": {}
      },
      "source": [
        "model_conv2=build_basic_conv_model2()\n",
        "model_conv2.compile(loss='binary_crossentropy', metrics=['accuracy'], optimizer='adam')"
      ],
      "execution_count": 0,
      "outputs": []
    },
    {
      "cell_type": "code",
      "metadata": {
        "id": "nqbkDgNBkQX0",
        "colab_type": "code",
        "colab": {}
      },
      "source": [
        "batch_size=100\n",
        "epochs=8\n",
        "\n",
        "train_step=train_n // batch_size\n",
        "val_step=val_n // batch_size"
      ],
      "execution_count": 0,
      "outputs": []
    },
    {
      "cell_type": "code",
      "metadata": {
        "id": "j_vvvJWGjf-5",
        "colab_type": "code",
        "colab": {
          "base_uri": "https://localhost:8080/",
          "height": 286
        },
        "outputId": "de2acb52-4dd8-4d27-e3ba-71905bc16514"
      },
      "source": [
        "l_curve3=model_conv2.fit_generator(train_set,steps_per_epoch=train_step, epochs=epochs, validation_data=val_set, validation_steps=val_step)"
      ],
      "execution_count": 143,
      "outputs": [
        {
          "output_type": "stream",
          "text": [
            "Epoch 1/8\n",
            "160/160 [==============================] - 65s 405ms/step - loss: 0.5111 - accuracy: 0.7614 - val_loss: 1.9638 - val_accuracy: 0.5090\n",
            "Epoch 2/8\n",
            "160/160 [==============================] - 62s 386ms/step - loss: 0.3557 - accuracy: 0.8628 - val_loss: 0.3770 - val_accuracy: 0.7337\n",
            "Epoch 3/8\n",
            "160/160 [==============================] - 62s 386ms/step - loss: 0.2854 - accuracy: 0.8976 - val_loss: 0.3352 - val_accuracy: 0.8953\n",
            "Epoch 4/8\n",
            "160/160 [==============================] - 62s 384ms/step - loss: 0.2651 - accuracy: 0.9109 - val_loss: 0.4124 - val_accuracy: 0.9074\n",
            "Epoch 5/8\n",
            "160/160 [==============================] - 64s 397ms/step - loss: 0.2608 - accuracy: 0.9121 - val_loss: 0.2393 - val_accuracy: 0.9115\n",
            "Epoch 6/8\n",
            "160/160 [==============================] - 63s 392ms/step - loss: 0.2430 - accuracy: 0.9208 - val_loss: 0.2247 - val_accuracy: 0.8999\n",
            "Epoch 7/8\n",
            "160/160 [==============================] - 61s 381ms/step - loss: 0.2467 - accuracy: 0.9218 - val_loss: 0.1462 - val_accuracy: 0.9330\n",
            "Epoch 8/8\n",
            "160/160 [==============================] - 61s 380ms/step - loss: 0.2373 - accuracy: 0.9292 - val_loss: 0.2368 - val_accuracy: 0.9241\n"
          ],
          "name": "stdout"
        }
      ]
    },
    {
      "cell_type": "code",
      "metadata": {
        "id": "qygoJVyTlX05",
        "colab_type": "code",
        "colab": {
          "base_uri": "https://localhost:8080/",
          "height": 312
        },
        "outputId": "94ee690c-2ad7-4cbc-e81e-ef35d18b90ff"
      },
      "source": [
        "arr=l_curve3.history\n",
        "df=pd.DataFrame(arr)\n",
        "plt.plot(df['val_accuracy'], label='validation accuracy')\n",
        "plt.plot(df['accuracy'], label='accuracy')\n",
        "plt.ylabel('accuracy score')\n",
        "plt.xlabel('no of epochs')\n",
        "plt.title('Accuracy scores vs epochs')\n",
        "plt.legend(loc=\"lower right\")\n",
        "plt.figure(figsize=(60,10))\n",
        "plt.show()"
      ],
      "execution_count": 144,
      "outputs": [
        {
          "output_type": "display_data",
          "data": {
            "image/png": "[encoded data removed]",
            "text/plain": [
              "<Figure size 432x288 with 1 Axes>"
            ]
          },
          "metadata": {
            "tags": [],
            "needs_background": "light"
          }
        },
        {
          "output_type": "display_data",
          "data": {
            "text/plain": [
              "<Figure size 4320x720 with 0 Axes>"
            ]
          },
          "metadata": {
            "tags": []
          }
        }
      ]
    },
    {
      "cell_type": "code",
      "metadata": {
        "id": "yXyErKJOAv-Q",
        "colab_type": "code",
        "colab": {
          "base_uri": "https://localhost:8080/",
          "height": 34
        },
        "outputId": "347387b1-e7d2-4161-aa59-0c13a5202024"
      },
      "source": [
        "model_conv2.evaluate_generator(test_set)"
      ],
      "execution_count": 208,
      "outputs": [
        {
          "output_type": "execute_result",
          "data": {
            "text/plain": [
              "[0.1139325425028801, 0.946825385093689]"
            ]
          },
          "metadata": {
            "tags": []
          },
          "execution_count": 208
        }
      ]
    },
    {
      "cell_type": "markdown",
      "metadata": {
        "id": "wHSiPQvbBcU3",
        "colab_type": "text"
      },
      "source": [
        "We notice that the model with data augmentation performs only a little bit better than the original model, suggesting that image orientations were not important for the feature maps for this dataset."
      ]
    },
    {
      "cell_type": "code",
      "metadata": {
        "id": "M7bYK4GfA1lo",
        "colab_type": "code",
        "colab": {}
      },
      "source": [
        ""
      ],
      "execution_count": 0,
      "outputs": []
    },
    {
      "cell_type": "markdown",
      "metadata": {
        "id": "uP-qhESWA-Mx",
        "colab_type": "text"
      },
      "source": [
        "\n",
        "\n",
        "\n",
        "\n",
        "**3.3**"
      ]
    },
    {
      "cell_type": "code",
      "metadata": {
        "id": "egP-s5D26c2m",
        "colab_type": "code",
        "colab": {
          "base_uri": "https://localhost:8080/",
          "height": 50
        },
        "outputId": "ff8aa285-bc51-4024-92a6-d54954a230bb"
      },
      "source": [
        "img_gen=ImageDataGenerator(rescale=1./255, validation_split=0.20)\n",
        "train_set=img_gen.flow_from_directory(directory='/content/cell_images',batch_size=100,target_size=(120,120), class_mode=\"binary\", subset=\"training\", shuffle=True)\n",
        "val_set=img_gen.flow_from_directory(directory='/content/cell_images',batch_size=100,target_size=(120,120), class_mode=\"binary\", subset=\"validation\", shuffle=True)"
      ],
      "execution_count": 180,
      "outputs": [
        {
          "output_type": "stream",
          "text": [
            "Found 16000 images belonging to 2 classes.\n",
            "Found 3998 images belonging to 2 classes.\n"
          ],
          "name": "stdout"
        }
      ]
    },
    {
      "cell_type": "code",
      "metadata": {
        "id": "QmUElITF6c_I",
        "colab_type": "code",
        "colab": {
          "base_uri": "https://localhost:8080/",
          "height": 34
        },
        "outputId": "b538eabd-00e5-4ddb-b3d3-6a2a6390f02c"
      },
      "source": [
        "img_gen2=ImageDataGenerator(rescale=1./255)\n",
        "test_set=img_gen2.flow_from_directory(directory='/content/test',batch_size=100,target_size=(120,120), class_mode=\"binary\", shuffle=True)"
      ],
      "execution_count": 181,
      "outputs": [
        {
          "output_type": "stream",
          "text": [
            "Found 7560 images belonging to 2 classes.\n"
          ],
          "name": "stdout"
        }
      ]
    },
    {
      "cell_type": "code",
      "metadata": {
        "id": "XAh_r81vleba",
        "colab_type": "code",
        "colab": {}
      },
      "source": [
        "def build_deep_model(res=0):\n",
        "  inp=Input(shape=(120,120,3))\n",
        "  cv=Conv2D(32,3,padding='same', activation='relu')(inp)\n",
        "  bn=(cv)\n",
        "  out1=MaxPooling2D()(bn)\n",
        "\n",
        "  cv2=Conv2D(32,3,padding='same', activation='relu')(out1)\n",
        "  bn2=(cv2)\n",
        "  cv2=Conv2D(32,3,padding='same', activation='relu')(bn2)\n",
        "  bn2=(cv2)\n",
        "  if res==0:\n",
        "    out2=bn2\n",
        "  if res==1:\n",
        "    out2=Add()([out1, bn2])\n",
        "  out2=MaxPooling2D()(out2)\n",
        "\n",
        "\n",
        "  cv3=Conv2D(32,3,padding='same', activation='relu')(out2)\n",
        "  bn3=(cv3)\n",
        "  cv3=Conv2D(32,3,padding='same', activation='relu')(bn3)\n",
        "  bn3=(cv3)\n",
        "  if res==0:\n",
        "    out3=bn3\n",
        "  if res==1:\n",
        "    out3=Add()([out2, bn3])\n",
        "  out3=MaxPooling2D()(out3)\n",
        "\n",
        "  cv4=Conv2D(64,3,padding='same', activation='relu')(out3)\n",
        "  bn4=(cv4)\n",
        "  cv4=Conv2D(64,3,padding='same', activation='relu')(bn4)\n",
        "  bn4=(cv4)\n",
        "  if res==0:\n",
        "    out4=bn4\n",
        "  if res==1:\n",
        "    out4=bn4\n",
        "    # out4=Add()([out3, bn4])\n",
        "  out4=MaxPooling2D()(out4)\n",
        "\n",
        "\n",
        "  cv5=Conv2D(64,3,padding='same', activation='relu')(out4)\n",
        "  bn5=(cv5)\n",
        "  cv5=Conv2D(64,3,padding='same', activation='relu')(bn5)\n",
        "  bn5=(cv5)\n",
        "  if res==0:\n",
        "    out5=bn5\n",
        "  if res==1:\n",
        "    out5=Add()([out4, bn5])\n",
        "  out5=MaxPooling2D()(out5)\n",
        "\n",
        "  cv6=Conv2D(128,3,padding='same', activation='relu')(out5)\n",
        "  bn6=(cv6)\n",
        "  cv6=Conv2D(128,3,padding='same', activation='relu')(bn6)\n",
        "  bn6=(cv6)\n",
        "  if res==0:\n",
        "    out6=bn6\n",
        "  if res==1:\n",
        "    out6=bn6\n",
        "    # out6=Add()([out6, bn6])\n",
        "  out6=MaxPooling2D()(out6)\n",
        "\n",
        "\n",
        "  cv7=Conv2D(128,3,padding='same', activation='relu')(out6)\n",
        "  bn7=(cv7)\n",
        "  cv7=Conv2D(128,3,padding='same', activation='relu')(bn7)\n",
        "  bn7=(cv7)\n",
        "  if res==0:\n",
        "    out7=bn7\n",
        "  if res==1:\n",
        "    out7=Add()([out6, bn7])\n",
        "  # out7=MaxPooling2D()(out7)\n",
        "\n",
        "  vec=Flatten()(out7)\n",
        "  d_l=Dense(64,activation='sigmoid')(vec)\n",
        "  final_output=Dense(1,activation='sigmoid')(d_l)\n",
        "  model_deep=Model(inputs=inp, outputs=final_output)\n",
        "\n",
        "  return model_deep\n"
      ],
      "execution_count": 0,
      "outputs": []
    },
    {
      "cell_type": "code",
      "metadata": {
        "id": "31UcVouksQnh",
        "colab_type": "code",
        "colab": {}
      },
      "source": [
        "model_deep1=build_deep_model(res=1) ### model with residual connections"
      ],
      "execution_count": 0,
      "outputs": []
    },
    {
      "cell_type": "code",
      "metadata": {
        "id": "zAXt4wNctZAw",
        "colab_type": "code",
        "colab": {
          "base_uri": "https://localhost:8080/",
          "height": 1000
        },
        "outputId": "4bc5790b-8187-4238-f198-1c25fb23f6a6"
      },
      "source": [
        "model_deep1.summary()"
      ],
      "execution_count": 200,
      "outputs": [
        {
          "output_type": "stream",
          "text": [
            "Model: \"model_10\"\n",
            "__________________________________________________________________________________________________\n",
            "Layer (type)                    Output Shape         Param #     Connected to                     \n",
            "==================================================================================================\n",
            "input_15 (InputLayer)           (None, 120, 120, 3)  0                                            \n",
            "__________________________________________________________________________________________________\n",
            "conv2d_116 (Conv2D)             (None, 120, 120, 32) 896         input_15[0][0]                   \n",
            "__________________________________________________________________________________________________\n",
            "max_pooling2d_70 (MaxPooling2D) (None, 60, 60, 32)   0           conv2d_116[0][0]                 \n",
            "__________________________________________________________________________________________________\n",
            "conv2d_117 (Conv2D)             (None, 60, 60, 32)   9248        max_pooling2d_70[0][0]           \n",
            "__________________________________________________________________________________________________\n",
            "conv2d_118 (Conv2D)             (None, 60, 60, 32)   9248        conv2d_117[0][0]                 \n",
            "__________________________________________________________________________________________________\n",
            "add_19 (Add)                    (None, 60, 60, 32)   0           max_pooling2d_70[0][0]           \n",
            "                                                                 conv2d_118[0][0]                 \n",
            "__________________________________________________________________________________________________\n",
            "max_pooling2d_71 (MaxPooling2D) (None, 30, 30, 32)   0           add_19[0][0]                     \n",
            "__________________________________________________________________________________________________\n",
            "conv2d_119 (Conv2D)             (None, 30, 30, 32)   9248        max_pooling2d_71[0][0]           \n",
            "__________________________________________________________________________________________________\n",
            "conv2d_120 (Conv2D)             (None, 30, 30, 32)   9248        conv2d_119[0][0]                 \n",
            "__________________________________________________________________________________________________\n",
            "add_20 (Add)                    (None, 30, 30, 32)   0           max_pooling2d_71[0][0]           \n",
            "                                                                 conv2d_120[0][0]                 \n",
            "__________________________________________________________________________________________________\n",
            "max_pooling2d_72 (MaxPooling2D) (None, 15, 15, 32)   0           add_20[0][0]                     \n",
            "__________________________________________________________________________________________________\n",
            "conv2d_121 (Conv2D)             (None, 15, 15, 64)   18496       max_pooling2d_72[0][0]           \n",
            "__________________________________________________________________________________________________\n",
            "conv2d_122 (Conv2D)             (None, 15, 15, 64)   36928       conv2d_121[0][0]                 \n",
            "__________________________________________________________________________________________________\n",
            "max_pooling2d_73 (MaxPooling2D) (None, 7, 7, 64)     0           conv2d_122[0][0]                 \n",
            "__________________________________________________________________________________________________\n",
            "conv2d_123 (Conv2D)             (None, 7, 7, 64)     36928       max_pooling2d_73[0][0]           \n",
            "__________________________________________________________________________________________________\n",
            "conv2d_124 (Conv2D)             (None, 7, 7, 64)     36928       conv2d_123[0][0]                 \n",
            "__________________________________________________________________________________________________\n",
            "add_21 (Add)                    (None, 7, 7, 64)     0           max_pooling2d_73[0][0]           \n",
            "                                                                 conv2d_124[0][0]                 \n",
            "__________________________________________________________________________________________________\n",
            "max_pooling2d_74 (MaxPooling2D) (None, 3, 3, 64)     0           add_21[0][0]                     \n",
            "__________________________________________________________________________________________________\n",
            "conv2d_125 (Conv2D)             (None, 3, 3, 128)    73856       max_pooling2d_74[0][0]           \n",
            "__________________________________________________________________________________________________\n",
            "conv2d_126 (Conv2D)             (None, 3, 3, 128)    147584      conv2d_125[0][0]                 \n",
            "__________________________________________________________________________________________________\n",
            "max_pooling2d_75 (MaxPooling2D) (None, 1, 1, 128)    0           conv2d_126[0][0]                 \n",
            "__________________________________________________________________________________________________\n",
            "conv2d_127 (Conv2D)             (None, 1, 1, 128)    147584      max_pooling2d_75[0][0]           \n",
            "__________________________________________________________________________________________________\n",
            "conv2d_128 (Conv2D)             (None, 1, 1, 128)    147584      conv2d_127[0][0]                 \n",
            "__________________________________________________________________________________________________\n",
            "add_22 (Add)                    (None, 1, 1, 128)    0           max_pooling2d_75[0][0]           \n",
            "                                                                 conv2d_128[0][0]                 \n",
            "__________________________________________________________________________________________________\n",
            "flatten_15 (Flatten)            (None, 128)          0           add_22[0][0]                     \n",
            "__________________________________________________________________________________________________\n",
            "dense_20 (Dense)                (None, 64)           8256        flatten_15[0][0]                 \n",
            "__________________________________________________________________________________________________\n",
            "dense_21 (Dense)                (None, 1)            65          dense_20[0][0]                   \n",
            "==================================================================================================\n",
            "Total params: 692,097\n",
            "Trainable params: 692,097\n",
            "Non-trainable params: 0\n",
            "__________________________________________________________________________________________________\n"
          ],
          "name": "stdout"
        }
      ]
    },
    {
      "cell_type": "code",
      "metadata": {
        "id": "i9Ll7tN1td99",
        "colab_type": "code",
        "colab": {}
      },
      "source": [
        "model_deep1.compile(loss='binary_crossentropy', metrics=['accuracy'], optimizer='adam')"
      ],
      "execution_count": 0,
      "outputs": []
    },
    {
      "cell_type": "code",
      "metadata": {
        "id": "J3Km7g6k94AG",
        "colab_type": "code",
        "colab": {
          "base_uri": "https://localhost:8080/",
          "height": 286
        },
        "outputId": "e1ad6e6a-6704-45ac-e5a6-4ffbe70cf1af"
      },
      "source": [
        "l_curve_s=model_deep1.fit_generator(train_set,steps_per_epoch=train_step, epochs=epochs, validation_data=val_set, validation_steps=val_step)"
      ],
      "execution_count": 202,
      "outputs": [
        {
          "output_type": "stream",
          "text": [
            "Epoch 1/8\n",
            "160/160 [==============================] - 23s 143ms/step - loss: 0.3807 - accuracy: 0.8129 - val_loss: 0.1807 - val_accuracy: 0.9349\n",
            "Epoch 2/8\n",
            "160/160 [==============================] - 22s 136ms/step - loss: 0.1652 - accuracy: 0.9499 - val_loss: 0.3038 - val_accuracy: 0.9418\n",
            "Epoch 3/8\n",
            "160/160 [==============================] - 22s 135ms/step - loss: 0.1398 - accuracy: 0.9568 - val_loss: 0.1191 - val_accuracy: 0.9492\n",
            "Epoch 4/8\n",
            "160/160 [==============================] - 22s 135ms/step - loss: 0.1316 - accuracy: 0.9596 - val_loss: 0.1534 - val_accuracy: 0.9461\n",
            "Epoch 5/8\n",
            "160/160 [==============================] - 22s 135ms/step - loss: 0.1259 - accuracy: 0.9596 - val_loss: 0.1638 - val_accuracy: 0.9489\n",
            "Epoch 6/8\n",
            "160/160 [==============================] - 22s 135ms/step - loss: 0.1270 - accuracy: 0.9600 - val_loss: 0.2442 - val_accuracy: 0.9405\n",
            "Epoch 7/8\n",
            "160/160 [==============================] - 21s 134ms/step - loss: 0.1171 - accuracy: 0.9631 - val_loss: 0.2638 - val_accuracy: 0.9515\n",
            "Epoch 8/8\n",
            "160/160 [==============================] - 21s 133ms/step - loss: 0.1142 - accuracy: 0.9622 - val_loss: 0.1867 - val_accuracy: 0.9428\n"
          ],
          "name": "stdout"
        }
      ]
    },
    {
      "cell_type": "code",
      "metadata": {
        "id": "zqASD8QwvD4B",
        "colab_type": "code",
        "colab": {}
      },
      "source": [
        "model_deep2=build_deep_model(res=0) ## model without residual connections"
      ],
      "execution_count": 0,
      "outputs": []
    },
    {
      "cell_type": "code",
      "metadata": {
        "id": "p7JwGwnIv5gk",
        "colab_type": "code",
        "colab": {
          "base_uri": "https://localhost:8080/",
          "height": 924
        },
        "outputId": "2754709f-8f33-4aa9-850f-fc1d43cf7644"
      },
      "source": [
        "model_deep2.summary()"
      ],
      "execution_count": 196,
      "outputs": [
        {
          "output_type": "stream",
          "text": [
            "Model: \"model_9\"\n",
            "_________________________________________________________________\n",
            "Layer (type)                 Output Shape              Param #   \n",
            "=================================================================\n",
            "input_14 (InputLayer)        (None, 120, 120, 3)       0         \n",
            "_________________________________________________________________\n",
            "conv2d_103 (Conv2D)          (None, 120, 120, 32)      896       \n",
            "_________________________________________________________________\n",
            "max_pooling2d_64 (MaxPooling (None, 60, 60, 32)        0         \n",
            "_________________________________________________________________\n",
            "conv2d_104 (Conv2D)          (None, 60, 60, 32)        9248      \n",
            "_________________________________________________________________\n",
            "conv2d_105 (Conv2D)          (None, 60, 60, 32)        9248      \n",
            "_________________________________________________________________\n",
            "max_pooling2d_65 (MaxPooling (None, 30, 30, 32)        0         \n",
            "_________________________________________________________________\n",
            "conv2d_106 (Conv2D)          (None, 30, 30, 32)        9248      \n",
            "_________________________________________________________________\n",
            "conv2d_107 (Conv2D)          (None, 30, 30, 32)        9248      \n",
            "_________________________________________________________________\n",
            "max_pooling2d_66 (MaxPooling (None, 15, 15, 32)        0         \n",
            "_________________________________________________________________\n",
            "conv2d_108 (Conv2D)          (None, 15, 15, 64)        18496     \n",
            "_________________________________________________________________\n",
            "conv2d_109 (Conv2D)          (None, 15, 15, 64)        36928     \n",
            "_________________________________________________________________\n",
            "max_pooling2d_67 (MaxPooling (None, 7, 7, 64)          0         \n",
            "_________________________________________________________________\n",
            "conv2d_110 (Conv2D)          (None, 7, 7, 64)          36928     \n",
            "_________________________________________________________________\n",
            "conv2d_111 (Conv2D)          (None, 7, 7, 64)          36928     \n",
            "_________________________________________________________________\n",
            "max_pooling2d_68 (MaxPooling (None, 3, 3, 64)          0         \n",
            "_________________________________________________________________\n",
            "conv2d_112 (Conv2D)          (None, 3, 3, 128)         73856     \n",
            "_________________________________________________________________\n",
            "conv2d_113 (Conv2D)          (None, 3, 3, 128)         147584    \n",
            "_________________________________________________________________\n",
            "max_pooling2d_69 (MaxPooling (None, 1, 1, 128)         0         \n",
            "_________________________________________________________________\n",
            "conv2d_114 (Conv2D)          (None, 1, 1, 128)         147584    \n",
            "_________________________________________________________________\n",
            "conv2d_115 (Conv2D)          (None, 1, 1, 128)         147584    \n",
            "_________________________________________________________________\n",
            "flatten_14 (Flatten)         (None, 128)               0         \n",
            "_________________________________________________________________\n",
            "dense_18 (Dense)             (None, 64)                8256      \n",
            "_________________________________________________________________\n",
            "dense_19 (Dense)             (None, 1)                 65        \n",
            "=================================================================\n",
            "Total params: 692,097\n",
            "Trainable params: 692,097\n",
            "Non-trainable params: 0\n",
            "_________________________________________________________________\n"
          ],
          "name": "stdout"
        }
      ]
    },
    {
      "cell_type": "code",
      "metadata": {
        "id": "FvawNLXwv67u",
        "colab_type": "code",
        "colab": {}
      },
      "source": [
        "model_deep2.compile(loss='binary_crossentropy', metrics=['accuracy'], optimizer='adam')"
      ],
      "execution_count": 0,
      "outputs": []
    },
    {
      "cell_type": "code",
      "metadata": {
        "id": "CKczsqNFwV_D",
        "colab_type": "code",
        "colab": {
          "base_uri": "https://localhost:8080/",
          "height": 286
        },
        "outputId": "02299986-699e-4669-91ef-7f33da0a5f0d"
      },
      "source": [
        "l_curve5=model_deep2.fit_generator(train_set,steps_per_epoch=train_step, epochs=epochs, validation_data=val_set, validation_steps=val_step)"
      ],
      "execution_count": 198,
      "outputs": [
        {
          "output_type": "stream",
          "text": [
            "Epoch 1/8\n",
            "160/160 [==============================] - 23s 143ms/step - loss: 0.6131 - accuracy: 0.6398 - val_loss: 0.2896 - val_accuracy: 0.9174\n",
            "Epoch 2/8\n",
            "160/160 [==============================] - 22s 136ms/step - loss: 0.2999 - accuracy: 0.9083 - val_loss: 0.2311 - val_accuracy: 0.8976\n",
            "Epoch 3/8\n",
            "160/160 [==============================] - 22s 136ms/step - loss: 0.3038 - accuracy: 0.9065 - val_loss: 0.2117 - val_accuracy: 0.9330\n",
            "Epoch 4/8\n",
            "160/160 [==============================] - 22s 135ms/step - loss: 0.2557 - accuracy: 0.9347 - val_loss: 0.3031 - val_accuracy: 0.9238\n",
            "Epoch 5/8\n",
            "160/160 [==============================] - 21s 134ms/step - loss: 0.2861 - accuracy: 0.9172 - val_loss: 0.2594 - val_accuracy: 0.9323\n",
            "Epoch 6/8\n",
            "160/160 [==============================] - 22s 135ms/step - loss: 0.2459 - accuracy: 0.9313 - val_loss: 0.1777 - val_accuracy: 0.9328\n",
            "Epoch 7/8\n",
            "160/160 [==============================] - 22s 135ms/step - loss: 0.2240 - accuracy: 0.9403 - val_loss: 0.2646 - val_accuracy: 0.8866\n",
            "Epoch 8/8\n",
            "160/160 [==============================] - 21s 133ms/step - loss: 0.1978 - accuracy: 0.9451 - val_loss: 0.2316 - val_accuracy: 0.9389\n"
          ],
          "name": "stdout"
        }
      ]
    },
    {
      "cell_type": "code",
      "metadata": {
        "id": "ZfLyMI_V-lnn",
        "colab_type": "code",
        "colab": {}
      },
      "source": [
        "arr=l_curve_s.history\n",
        "df_r=pd.DataFrame(arr)\n",
        "\n",
        "arr=l_curve5.history\n",
        "df_nr=pd.DataFrame(arr)"
      ],
      "execution_count": 0,
      "outputs": []
    },
    {
      "cell_type": "code",
      "metadata": {
        "id": "ILhCNMss-luf",
        "colab_type": "code",
        "colab": {
          "base_uri": "https://localhost:8080/",
          "height": 312
        },
        "outputId": "3724e800-3ce7-4b16-d1d3-1fafff3e3fbf"
      },
      "source": [
        "\n",
        "plt.plot(df_r['val_accuracy'], label='validation accuracy with residual')\n",
        "plt.plot(df_r['accuracy'], label='accuracy with residual')\n",
        "plt.plot(df_nr['val_accuracy'], label='validation accuracy with no residual')\n",
        "plt.plot(df_nr['accuracy'], label='accuracy with no residual')\n",
        "plt.ylabel('accuracy score')\n",
        "plt.xlabel('no of epochs')\n",
        "plt.title('Accuracy scores vs epochs')\n",
        "plt.legend(loc=\"lower right\")\n",
        "plt.figure(figsize=(60,10))\n",
        "plt.show()"
      ],
      "execution_count": 204,
      "outputs": [
        {
          "output_type": "display_data",
          "data": {
            "image/png": "[encoded data removed]",
            "text/plain": [
              "<Figure size 432x288 with 1 Axes>"
            ]
          },
          "metadata": {
            "tags": [],
            "needs_background": "light"
          }
        },
        {
          "output_type": "display_data",
          "data": {
            "text/plain": [
              "<Figure size 4320x720 with 0 Axes>"
            ]
          },
          "metadata": {
            "tags": []
          }
        }
      ]
    },
    {
      "cell_type": "code",
      "metadata": {
        "id": "VySZ41d6_L6r",
        "colab_type": "code",
        "colab": {}
      },
      "source": [
        ""
      ],
      "execution_count": 0,
      "outputs": []
    },
    {
      "cell_type": "code",
      "metadata": {
        "id": "8yusrzIe_qqF",
        "colab_type": "code",
        "colab": {
          "base_uri": "https://localhost:8080/",
          "height": 34
        },
        "outputId": "d68ef4cd-2c15-416e-da4e-ad2c097d877a"
      },
      "source": [
        "model_deep1.evaluate_generator(test_set)"
      ],
      "execution_count": 205,
      "outputs": [
        {
          "output_type": "execute_result",
          "data": {
            "text/plain": [
              "[0.207744300365448, 0.9612433910369873]"
            ]
          },
          "metadata": {
            "tags": []
          },
          "execution_count": 205
        }
      ]
    },
    {
      "cell_type": "code",
      "metadata": {
        "id": "dxp4jNdD_uCU",
        "colab_type": "code",
        "colab": {
          "base_uri": "https://localhost:8080/",
          "height": 34
        },
        "outputId": "35b18d6d-f163-4a3c-8948-a662e40da8eb"
      },
      "source": [
        "model_deep2.evaluate_generator(test_set)"
      ],
      "execution_count": 206,
      "outputs": [
        {
          "output_type": "execute_result",
          "data": {
            "text/plain": [
              "[0.15469522774219513, 0.9551587104797363]"
            ]
          },
          "metadata": {
            "tags": []
          },
          "execution_count": 206
        }
      ]
    },
    {
      "cell_type": "markdown",
      "metadata": {
        "id": "fXnBxGOfAQDt",
        "colab_type": "text"
      },
      "source": [
        "Here deep1 is the residual model and deep2 is the non-residual model.\n",
        "\n",
        "From the graph and test set scores, we can see the model with skip / residual connections performed better than the one without residual connections. More than the scores. the stability of the validation scores for the residual model is much better. which indicates that it may be generalize well to other test data."
      ]
    }
  ]
}