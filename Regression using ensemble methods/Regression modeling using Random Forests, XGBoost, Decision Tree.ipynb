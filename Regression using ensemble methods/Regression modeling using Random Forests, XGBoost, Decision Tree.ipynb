{
 "cells": [
  {
   "cell_type": "markdown",
   "metadata": {
    "colab_type": "text",
    "id": "LT6M5bimHvIf"
   },
   "source": [
    "# Regression modeling using Random Forest, XGBoost"
   ]
  },
  {
   "cell_type": "markdown",
   "metadata": {},
   "source": [
    "### **Imports**"
   ]
  },
  {
   "cell_type": "code",
   "execution_count": null,
   "metadata": {
    "colab": {
     "base_uri": "https://localhost:8080/",
     "height": 361
    },
    "colab_type": "code",
    "id": "GiU_Cvr1Hiqe",
    "outputId": "b3bf704c-08dd-4331-9e3f-f23c102d3fee"
   },
   "outputs": [
    {
     "name": "stdout",
     "output_type": "stream",
     "text": [
      "Collecting category_encoders\n",
      "\u001b[?25l  Downloading https://files.pythonhosted.org/packages/a0/52/c54191ad3782de633ea3d6ee3bb2837bda0cf3bc97644bb6375cf14150a0/category_encoders-2.1.0-py2.py3-none-any.whl (100kB)\n",
      "\r",
      "\u001b[K     |███▎                            | 10kB 19.1MB/s eta 0:00:01\r",
      "\u001b[K     |██████▌                         | 20kB 1.8MB/s eta 0:00:01\r",
      "\u001b[K     |█████████▉                      | 30kB 2.2MB/s eta 0:00:01\r",
      "\u001b[K     |█████████████                   | 40kB 1.7MB/s eta 0:00:01\r",
      "\u001b[K     |████████████████▍               | 51kB 1.9MB/s eta 0:00:01\r",
      "\u001b[K     |███████████████████▋            | 61kB 2.3MB/s eta 0:00:01\r",
      "\u001b[K     |██████████████████████▉         | 71kB 2.4MB/s eta 0:00:01\r",
      "\u001b[K     |██████████████████████████▏     | 81kB 2.6MB/s eta 0:00:01\r",
      "\u001b[K     |█████████████████████████████▍  | 92kB 3.0MB/s eta 0:00:01\r",
      "\u001b[K     |████████████████████████████████| 102kB 2.5MB/s \n",
      "\u001b[?25hRequirement already satisfied: statsmodels>=0.6.1 in /usr/local/lib/python3.6/dist-packages (from category_encoders) (0.10.2)\n",
      "Requirement already satisfied: scipy>=0.19.0 in /usr/local/lib/python3.6/dist-packages (from category_encoders) (1.4.1)\n",
      "Requirement already satisfied: pandas>=0.21.1 in /usr/local/lib/python3.6/dist-packages (from category_encoders) (1.0.3)\n",
      "Requirement already satisfied: numpy>=1.11.3 in /usr/local/lib/python3.6/dist-packages (from category_encoders) (1.18.2)\n",
      "Requirement already satisfied: scikit-learn>=0.20.0 in /usr/local/lib/python3.6/dist-packages (from category_encoders) (0.22.2.post1)\n",
      "Requirement already satisfied: patsy>=0.4.1 in /usr/local/lib/python3.6/dist-packages (from category_encoders) (0.5.1)\n",
      "Requirement already satisfied: python-dateutil>=2.6.1 in /usr/local/lib/python3.6/dist-packages (from pandas>=0.21.1->category_encoders) (2.8.1)\n",
      "Requirement already satisfied: pytz>=2017.2 in /usr/local/lib/python3.6/dist-packages (from pandas>=0.21.1->category_encoders) (2018.9)\n",
      "Requirement already satisfied: joblib>=0.11 in /usr/local/lib/python3.6/dist-packages (from scikit-learn>=0.20.0->category_encoders) (0.14.1)\n",
      "Requirement already satisfied: six in /usr/local/lib/python3.6/dist-packages (from patsy>=0.4.1->category_encoders) (1.12.0)\n",
      "Installing collected packages: category-encoders\n",
      "Successfully installed category-encoders-2.1.0\n"
     ]
    }
   ],
   "source": [
    "    %matplotlib inline\n",
    "!pip install category_encoders\n",
    "from google.colab import drive\n",
    "import os\n",
    "import time\n",
    "import pandas as pd\n",
    "import numpy as np\n",
    "from matplotlib import pyplot as plt\n",
    "import pickle\n",
    "drive.mount('/content/drive')\n",
    "os.chdir(\"/content/drive/My Drive/Colab Notebooks/AML\")\n",
    "pd.set_option('display.max_rows', 20)\n",
    "#ML libraries\n",
    "from sklearn.model_selection import train_test_split\n",
    "from sklearn.model_selection import cross_val_score, KFold, StratifiedKFold, StratifiedShuffleSplit\n",
    "from sklearn.model_selection import GridSearchCV\n",
    "from sklearn.preprocessing import StandardScaler, OneHotEncoder, PolynomialFeatures\n",
    "from sklearn.feature_selection import VarianceThreshold\n",
    "from sklearn.impute import SimpleImputer\n",
    "from sklearn.compose import TransformedTargetRegressor, make_column_transformer, make_column_selector\n",
    "from sklearn.pipeline import make_pipeline, Pipeline\n",
    "from sklearn.linear_model import LinearRegression\n",
    "from sklearn.linear_model import Ridge\n",
    "from sklearn.linear_model import Lasso\n",
    "from sklearn.linear_model import ElasticNet\n",
    "from sklearn.ensemble import RandomForestRegressor\n",
    "from sklearn.ensemble import GradientBoostingRegressor\n",
    "from category_encoders import TargetEncoder\n",
    "import xgboost\n",
    "from sklearn.externals import joblib\n",
    "import warnings\n",
    "from sklearn.compose import ColumnTransformer\n",
    "from sklearn.tree import DecisionTreeRegressor\n",
    "warnings.filterwarnings(\"ignore\")"
   ]
  },
  {
   "cell_type": "markdown",
   "metadata": {
    "colab_type": "text",
    "id": "Y3sbPQ48H4n1"
   },
   "source": [
    "# **Task 1**"
   ]
  },
  {
   "cell_type": "code",
   "execution_count": null,
   "metadata": {
    "colab": {
     "base_uri": "https://localhost:8080/",
     "height": 252
    },
    "colab_type": "code",
    "id": "twSglbUCNkTb",
    "outputId": "1df7364b-18dc-4821-b96c-7255c8887361"
   },
   "outputs": [
    {
     "name": "stdout",
     "output_type": "stream",
     "text": [
      "                  id  ...            New\n",
      "count   5.095770e+05  ...  509577.000000\n",
      "unique           NaN  ...            NaN\n",
      "top              NaN  ...            NaN\n",
      "freq             NaN  ...            NaN\n",
      "mean    7.044176e+09  ...       0.567316\n",
      "std     4.937219e+06  ...       0.495448\n",
      "min     6.995212e+09  ...       0.000000\n",
      "25%     7.040802e+09  ...       0.000000\n",
      "50%     7.045325e+09  ...       1.000000\n",
      "75%     7.048556e+09  ...       1.000000\n",
      "max     7.050103e+09  ...       1.000000\n",
      "\n",
      "[11 rows x 26 columns]\n"
     ]
    }
   ],
   "source": [
    "#Data preparation\n",
    "#load data and explore data\n",
    "data = pd.read_csv('vehicles.csv')\n",
    "#fill in the the missing rows for description\n",
    "#extract two features: length of the description and wheather the word new is present or not\n",
    "data.description.fillna(0, inplace=True)\n",
    "data['description'] = data['description'].str.lower()\n",
    "data['New'] = 0\n",
    "data['New'] = np.where(data['description'].str.contains('new'), data['New'], 1)\n",
    "data['description'] = data['description'].str.len()\n",
    "print(data.describe(include='all'))\n",
    "#remove features that are not important\n",
    "#county: all NaN\n",
    "#vin: does not seem to be adding any value\n",
    "#id: should be unique and not a logical feature\n",
    "#image_url: all are more of less of same length\n",
    "data.drop(columns=['id', 'url', 'vin', 'region_url', 'image_url', 'county'], inplace=True)\n",
    "#price: only keep rows with price > 0 assuming rest are missing prices for training\n",
    "data = data[data['price'] > 0]"
   ]
  },
  {
   "cell_type": "markdown",
   "metadata": {
    "colab_type": "text",
    "id": "0VdXokOmH-53"
   },
   "source": [
    "### Checking the distribution of prices (output)"
   ]
  },
  {
   "cell_type": "code",
   "execution_count": null,
   "metadata": {
    "colab": {
     "base_uri": "https://localhost:8080/",
     "height": 282
    },
    "colab_type": "code",
    "id": "vHffoKXNs0Lg",
    "outputId": "d202ebb6-40a0-453b-b3e1-698d0134268e"
   },
   "outputs": [
    {
     "name": "stdout",
     "output_type": "stream",
     "text": [
      "Shape of the sample data  (462348, 20)\n"
     ]
    },
    {
     "data": {
      "image/png": "[encoded data removed]",
      "text/plain": [
       "<Figure size 432x288 with 1 Axes>"
      ]
     },
     "metadata": {
      "tags": []
     },
     "output_type": "display_data"
    }
   ],
   "source": [
    "#check the distribution of prices\n",
    "#take log as prices are highly skewed\n",
    "_ = plt.hist(np.log(data['price']), bins=\"auto\")\n",
    "#outliers: it seems log(prices) greater than 13 or less than 4 can be excluded for training\n",
    "sample_data = data[(np.log(data['price']) < 13) & (np.log(data['price']) > 4)]\n",
    "#after excluding the extreme values the dataset still contains more than 90%\n",
    "print('Shape of the sample data ', sample_data.shape)"
   ]
  },
  {
   "cell_type": "markdown",
   "metadata": {
    "colab_type": "text",
    "id": "BvVqG7Q6bEJU"
   },
   "source": [
    "We notice a slight left skew in the output variable, so we could use a log transform for the variable while training."
   ]
  },
  {
   "cell_type": "code",
   "execution_count": null,
   "metadata": {
    "colab": {
     "base_uri": "https://localhost:8080/",
     "height": 101
    },
    "colab_type": "code",
    "id": "BAQrzLrns5Bd",
    "outputId": "d5bbcacd-2efe-4de4-9ade-2777a9a4537c"
   },
   "outputs": [
    {
     "data": {
      "text/plain": [
       "Index(['region', 'price', 'year', 'manufacturer', 'model', 'condition',\n",
       "       'cylinders', 'fuel', 'odometer', 'title_status', 'transmission',\n",
       "       'drive', 'size', 'type', 'paint_color', 'description', 'state', 'lat',\n",
       "       'long', 'New'],\n",
       "      dtype='object')"
      ]
     },
     "execution_count": 19,
     "metadata": {
      "tags": []
     },
     "output_type": "execute_result"
    }
   ],
   "source": [
    "sample_data.columns"
   ]
  },
  {
   "cell_type": "markdown",
   "metadata": {
    "colab_type": "text",
    "id": "fJZJE0RbII-s"
   },
   "source": [
    "Subsampling:"
   ]
  },
  {
   "cell_type": "code",
   "execution_count": null,
   "metadata": {
    "colab": {
     "base_uri": "https://localhost:8080/",
     "height": 336
    },
    "colab_type": "code",
    "id": "6pcBsTpD_qEI",
    "outputId": "24ec43c5-8ad6-4a0f-8c31-36227a0490ca"
   },
   "outputs": [
    {
     "name": "stdout",
     "output_type": "stream",
     "text": [
      "Index(['region', 'price', 'year', 'manufacturer', 'model', 'condition',\n",
      "       'cylinders', 'fuel', 'odometer', 'title_status', 'transmission',\n",
      "       'drive', 'size', 'type', 'paint_color', 'description', 'state', 'lat',\n",
      "       'long', 'New'],\n",
      "      dtype='object')\n",
      "             region          price  ...          long           New\n",
      "count         40000   40000.000000  ...  39538.000000  40000.000000\n",
      "unique          399            NaN  ...           NaN           NaN\n",
      "top     springfield            NaN  ...           NaN           NaN\n",
      "freq            328            NaN  ...           NaN           NaN\n",
      "mean            NaN   13875.472275  ...    -94.202302      0.568025\n",
      "std             NaN   11893.714091  ...     17.737324      0.495357\n",
      "min             NaN      59.000000  ...   -165.935000      0.000000\n",
      "25%             NaN    5409.250000  ...   -106.708500      0.000000\n",
      "50%             NaN   10898.000000  ...    -88.294500      1.000000\n",
      "75%             NaN   18995.000000  ...    -81.106300      1.000000\n",
      "max             NaN  314499.000000  ...     94.124800      1.000000\n",
      "\n",
      "[11 rows x 20 columns]\n"
     ]
    }
   ],
   "source": [
    "#Subsampling: 40,000 sample seems to be a good starting point for training and validation\n",
    "#because there are many features\n",
    "train_test_data = sample_data.sample(n=40000)\n",
    "print(train_test_data.columns)\n",
    "print(train_test_data.describe(include='all'))"
   ]
  },
  {
   "cell_type": "code",
   "execution_count": null,
   "metadata": {
    "colab": {
     "base_uri": "https://localhost:8080/",
     "height": 101
    },
    "colab_type": "code",
    "id": "xhzuXToVsMNc",
    "outputId": "834cfc0a-01d9-4bcf-c10e-f1fa3051d20e"
   },
   "outputs": [
    {
     "data": {
      "text/plain": [
       "Index(['region', 'price', 'year', 'manufacturer', 'model', 'condition',\n",
       "       'cylinders', 'fuel', 'odometer', 'title_status', 'transmission',\n",
       "       'drive', 'size', 'type', 'paint_color', 'description', 'state', 'lat',\n",
       "       'long', 'New'],\n",
       "      dtype='object')"
      ]
     },
     "execution_count": 21,
     "metadata": {
      "tags": []
     },
     "output_type": "execute_result"
    }
   ],
   "source": [
    "train_test_data.columns"
   ]
  },
  {
   "cell_type": "markdown",
   "metadata": {
    "colab_type": "text",
    "id": "fWaeoA3MIN5e"
   },
   "source": [
    "Visualizing distributions of continuous variable:"
   ]
  },
  {
   "cell_type": "code",
   "execution_count": null,
   "metadata": {
    "colab": {},
    "colab_type": "code",
    "id": "1aQhrtwQB95j"
   },
   "outputs": [],
   "source": [
    "#check the distribution of all the continuous variables\n",
    "cols = list(train_test_data._get_numeric_data().columns)\n",
    "fig = plt.figure(figsize=(12,6))\n",
    "for i, col in enumerate(cols, 1):\n",
    "  plt.subplot(3,2,i)\n",
    "  plt.hist(train_test_data[col], bins = 'auto')\n",
    "  plt.title(str(col))\n",
    "plt.tight_layout()"
   ]
  },
  {
   "cell_type": "markdown",
   "metadata": {
    "colab_type": "text",
    "id": "VohBDQpgcgSX"
   },
   "source": [
    "#Task 2"
   ]
  },
  {
   "cell_type": "markdown",
   "metadata": {
    "colab_type": "text",
    "id": "RzI73GjcIZRC"
   },
   "source": [
    "Train Test Split:"
   ]
  },
  {
   "cell_type": "code",
   "execution_count": null,
   "metadata": {
    "colab": {},
    "colab_type": "code",
    "id": "33egja43XQYk"
   },
   "outputs": [],
   "source": [
    "y = train_test_data['price']\n",
    "#Drop price\n",
    "train_test_data.drop(['price'], axis=1, inplace=True)\n",
    "X_train, X_test, y_train, y_test = train_test_split(train_test_data, y)"
   ]
  },
  {
   "cell_type": "markdown",
   "metadata": {
    "colab_type": "text",
    "id": "6axRBwyRIeDN"
   },
   "source": [
    "Checking the relationship between target variable and features:"
   ]
  },
  {
   "cell_type": "code",
   "execution_count": null,
   "metadata": {
    "colab": {
     "base_uri": "https://localhost:8080/",
     "height": 744
    },
    "colab_type": "code",
    "id": "pmCyBFHsY1Zc",
    "outputId": "425eacf2-2222-47d9-9ace-6c17134cc281"
   },
   "outputs": [
    {
     "ename": "ValueError",
     "evalue": "ignored",
     "output_type": "error",
     "traceback": [
      "\u001b[0;31m---------------------------------------------------------------------------\u001b[0m",
      "\u001b[0;31mValueError\u001b[0m                                Traceback (most recent call last)",
      "\u001b[0;32m<ipython-input-25-b0773cbe4264>\u001b[0m in \u001b[0;36m<module>\u001b[0;34m()\u001b[0m\n\u001b[1;32m      2\u001b[0m \u001b[0mfig\u001b[0m \u001b[0;34m=\u001b[0m \u001b[0mplt\u001b[0m\u001b[0;34m.\u001b[0m\u001b[0mfigure\u001b[0m\u001b[0;34m(\u001b[0m\u001b[0mfigsize\u001b[0m\u001b[0;34m=\u001b[0m\u001b[0;34m(\u001b[0m\u001b[0;36m12\u001b[0m\u001b[0;34m,\u001b[0m\u001b[0;36m6\u001b[0m\u001b[0;34m)\u001b[0m\u001b[0;34m)\u001b[0m\u001b[0;34m\u001b[0m\u001b[0;34m\u001b[0m\u001b[0m\n\u001b[1;32m      3\u001b[0m \u001b[0;32mfor\u001b[0m \u001b[0mi\u001b[0m\u001b[0;34m,\u001b[0m \u001b[0mcol\u001b[0m \u001b[0;32min\u001b[0m \u001b[0menumerate\u001b[0m\u001b[0;34m(\u001b[0m\u001b[0mcols\u001b[0m\u001b[0;34m,\u001b[0m \u001b[0;36m1\u001b[0m\u001b[0;34m)\u001b[0m\u001b[0;34m:\u001b[0m\u001b[0;34m\u001b[0m\u001b[0;34m\u001b[0m\u001b[0m\n\u001b[0;32m----> 4\u001b[0;31m   \u001b[0mplt\u001b[0m\u001b[0;34m.\u001b[0m\u001b[0msubplot\u001b[0m\u001b[0;34m(\u001b[0m\u001b[0;36m2\u001b[0m\u001b[0;34m,\u001b[0m\u001b[0;36m2\u001b[0m\u001b[0;34m,\u001b[0m\u001b[0mi\u001b[0m\u001b[0;34m)\u001b[0m\u001b[0;34m\u001b[0m\u001b[0;34m\u001b[0m\u001b[0m\n\u001b[0m\u001b[1;32m      5\u001b[0m   \u001b[0mplt\u001b[0m\u001b[0;34m.\u001b[0m\u001b[0mscatter\u001b[0m\u001b[0;34m(\u001b[0m\u001b[0mX_train\u001b[0m\u001b[0;34m[\u001b[0m\u001b[0mcol\u001b[0m\u001b[0;34m]\u001b[0m\u001b[0;34m,\u001b[0m \u001b[0my_train\u001b[0m\u001b[0;34m,\u001b[0m \u001b[0ms\u001b[0m\u001b[0;34m=\u001b[0m\u001b[0;36m5\u001b[0m\u001b[0;34m)\u001b[0m\u001b[0;34m\u001b[0m\u001b[0;34m\u001b[0m\u001b[0m\n\u001b[1;32m      6\u001b[0m   \u001b[0mplt\u001b[0m\u001b[0;34m.\u001b[0m\u001b[0mtitle\u001b[0m\u001b[0;34m(\u001b[0m\u001b[0mstr\u001b[0m\u001b[0;34m(\u001b[0m\u001b[0mcol\u001b[0m\u001b[0;34m)\u001b[0m\u001b[0;34m)\u001b[0m\u001b[0;34m\u001b[0m\u001b[0;34m\u001b[0m\u001b[0m\n",
      "\u001b[0;32m/usr/local/lib/python3.6/dist-packages/matplotlib/pyplot.py\u001b[0m in \u001b[0;36msubplot\u001b[0;34m(*args, **kwargs)\u001b[0m\n\u001b[1;32m   1028\u001b[0m \u001b[0;34m\u001b[0m\u001b[0m\n\u001b[1;32m   1029\u001b[0m     \u001b[0mfig\u001b[0m \u001b[0;34m=\u001b[0m \u001b[0mgcf\u001b[0m\u001b[0;34m(\u001b[0m\u001b[0;34m)\u001b[0m\u001b[0;34m\u001b[0m\u001b[0;34m\u001b[0m\u001b[0m\n\u001b[0;32m-> 1030\u001b[0;31m     \u001b[0ma\u001b[0m \u001b[0;34m=\u001b[0m \u001b[0mfig\u001b[0m\u001b[0;34m.\u001b[0m\u001b[0madd_subplot\u001b[0m\u001b[0;34m(\u001b[0m\u001b[0;34m*\u001b[0m\u001b[0margs\u001b[0m\u001b[0;34m,\u001b[0m \u001b[0;34m**\u001b[0m\u001b[0mkwargs\u001b[0m\u001b[0;34m)\u001b[0m\u001b[0;34m\u001b[0m\u001b[0;34m\u001b[0m\u001b[0m\n\u001b[0m\u001b[1;32m   1031\u001b[0m     \u001b[0mbbox\u001b[0m \u001b[0;34m=\u001b[0m \u001b[0ma\u001b[0m\u001b[0;34m.\u001b[0m\u001b[0mbbox\u001b[0m\u001b[0;34m\u001b[0m\u001b[0;34m\u001b[0m\u001b[0m\n\u001b[1;32m   1032\u001b[0m     \u001b[0mbyebye\u001b[0m \u001b[0;34m=\u001b[0m \u001b[0;34m[\u001b[0m\u001b[0;34m]\u001b[0m\u001b[0;34m\u001b[0m\u001b[0;34m\u001b[0m\u001b[0m\n",
      "\u001b[0;32m/usr/local/lib/python3.6/dist-packages/matplotlib/figure.py\u001b[0m in \u001b[0;36madd_subplot\u001b[0;34m(self, *args, **kwargs)\u001b[0m\n\u001b[1;32m   1417\u001b[0m                     \u001b[0mself\u001b[0m\u001b[0;34m.\u001b[0m\u001b[0m_axstack\u001b[0m\u001b[0;34m.\u001b[0m\u001b[0mremove\u001b[0m\u001b[0;34m(\u001b[0m\u001b[0max\u001b[0m\u001b[0;34m)\u001b[0m\u001b[0;34m\u001b[0m\u001b[0;34m\u001b[0m\u001b[0m\n\u001b[1;32m   1418\u001b[0m \u001b[0;34m\u001b[0m\u001b[0m\n\u001b[0;32m-> 1419\u001b[0;31m             \u001b[0ma\u001b[0m \u001b[0;34m=\u001b[0m \u001b[0msubplot_class_factory\u001b[0m\u001b[0;34m(\u001b[0m\u001b[0mprojection_class\u001b[0m\u001b[0;34m)\u001b[0m\u001b[0;34m(\u001b[0m\u001b[0mself\u001b[0m\u001b[0;34m,\u001b[0m \u001b[0;34m*\u001b[0m\u001b[0margs\u001b[0m\u001b[0;34m,\u001b[0m \u001b[0;34m**\u001b[0m\u001b[0mkwargs\u001b[0m\u001b[0;34m)\u001b[0m\u001b[0;34m\u001b[0m\u001b[0;34m\u001b[0m\u001b[0m\n\u001b[0m\u001b[1;32m   1420\u001b[0m \u001b[0;34m\u001b[0m\u001b[0m\n\u001b[1;32m   1421\u001b[0m         \u001b[0;32mreturn\u001b[0m \u001b[0mself\u001b[0m\u001b[0;34m.\u001b[0m\u001b[0m_add_axes_internal\u001b[0m\u001b[0;34m(\u001b[0m\u001b[0mkey\u001b[0m\u001b[0;34m,\u001b[0m \u001b[0ma\u001b[0m\u001b[0;34m)\u001b[0m\u001b[0;34m\u001b[0m\u001b[0;34m\u001b[0m\u001b[0m\n",
      "\u001b[0;32m/usr/local/lib/python3.6/dist-packages/matplotlib/axes/_subplots.py\u001b[0m in \u001b[0;36m__init__\u001b[0;34m(self, fig, *args, **kwargs)\u001b[0m\n\u001b[1;32m     64\u001b[0m                 \u001b[0;32mif\u001b[0m \u001b[0mnum\u001b[0m \u001b[0;34m<\u001b[0m \u001b[0;36m1\u001b[0m \u001b[0;32mor\u001b[0m \u001b[0mnum\u001b[0m \u001b[0;34m>\u001b[0m \u001b[0mrows\u001b[0m\u001b[0;34m*\u001b[0m\u001b[0mcols\u001b[0m\u001b[0;34m:\u001b[0m\u001b[0;34m\u001b[0m\u001b[0;34m\u001b[0m\u001b[0m\n\u001b[1;32m     65\u001b[0m                     raise ValueError(\n\u001b[0;32m---> 66\u001b[0;31m                         f\"num must be 1 <= num <= {rows*cols}, not {num}\")\n\u001b[0m\u001b[1;32m     67\u001b[0m                 self._subplotspec = GridSpec(\n\u001b[1;32m     68\u001b[0m                         rows, cols, figure=self.figure)[int(num) - 1]\n",
      "\u001b[0;31mValueError\u001b[0m: num must be 1 <= num <= 4, not 5"
     ]
    },
    {
     "data": {
      "image/png": "[encoded data removed]",
      "text/plain": [
       "<Figure size 864x432 with 4 Axes>"
      ]
     },
     "metadata": {
      "tags": []
     },
     "output_type": "display_data"
    }
   ],
   "source": [
    "#check the relation between output and continuous features\n",
    "cols = list(X_train._get_numeric_data().columns)\n",
    "fig = plt.figure(figsize=(12,6))\n",
    "for i, col in enumerate(cols, 1):\n",
    "  plt.subplot(2,2,i)\n",
    "  plt.scatter(X_train[col], y_train, s=5)\n",
    "  plt.title(str(col))\n",
    "plt.tight_layout()"
   ]
  },
  {
   "cell_type": "markdown",
   "metadata": {
    "colab_type": "text",
    "id": "jQnMaAJrIlCG"
   },
   "source": [
    "Creating pipelines for baseline models"
   ]
  },
  {
   "cell_type": "code",
   "execution_count": null,
   "metadata": {
    "colab": {},
    "colab_type": "code",
    "id": "zKbNgJ8FY6Kw"
   },
   "outputs": [],
   "source": [
    "#make pipeline for preprocessing continuous and categorical features\n",
    "#do necessary pre-processing for continuous and categorical variables\n",
    "cat_preprocessing = make_pipeline(\n",
    "    SimpleImputer(strategy='constant', fill_value='NA'),\n",
    "    OneHotEncoder(handle_unknown='ignore'))\n",
    "cont_preprocessing = make_pipeline(\n",
    "    SimpleImputer(strategy='most_frequent'), \n",
    "    #PolynomialFeatures(), #Try polynomial features (performed bad)\n",
    "    #VarianceThreshold(),  #Checked but did not change any results\n",
    "    StandardScaler())\n",
    "preprocess = make_column_transformer( \n",
    "    (cat_preprocessing, make_column_selector(dtype_include='object')),\n",
    "    remainder=cont_preprocessing)\n",
    "te = TargetEncoder(cols=['region']) #tried on model but performance was not good, also region does not improve the R2\n",
    "\n",
    "#since the output is skewed use log regressor\n",
    "#Linear Regression\n",
    "log_regressor = TransformedTargetRegressor(\n",
    "    LinearRegression(), func=np.log, inverse_func=np.exp)\n",
    "pipe_regressor = Pipeline([('preprocess', preprocess), ('model', log_regressor)])\n",
    "\n",
    "#Ridge Regression\n",
    "log_ridge = TransformedTargetRegressor(\n",
    "    Ridge(), func=np.log, inverse_func=np.exp)\n",
    "pipe_ridge = Pipeline([('preprocess', preprocess), ('model', log_ridge)])\n",
    "\n",
    "#Lasso\n",
    "log_lasso = TransformedTargetRegressor(\n",
    "    Lasso(), func=np.log, inverse_func=np.exp)\n",
    "pipe_lasso = Pipeline([('preprocess', preprocess), ('model', log_lasso)])\n",
    "\n",
    "#Elasticnet\n",
    "log_elasticnet = TransformedTargetRegressor(\n",
    "    ElasticNet(), func=np.log, inverse_func=np.exp)\n",
    "pipe_elasticnet = Pipeline([('preprocess', preprocess), ('model', log_elasticnet)])\n",
    "\n",
    "kf = KFold(n_splits=5)"
   ]
  },
  {
   "cell_type": "code",
   "execution_count": null,
   "metadata": {
    "colab": {
     "base_uri": "https://localhost:8080/",
     "height": 151
    },
    "colab_type": "code",
    "id": "xM7MqLaTjNzV",
    "outputId": "f253cd2b-5adc-44e9-e5af-1d4c216e46b1"
   },
   "outputs": [
    {
     "name": "stdout",
     "output_type": "stream",
     "text": [
      "Linear regression cross validation validation score  -7.8354\n",
      "==============================\n",
      "Ridge regression cross validation validation score  0.5108\n",
      "==============================\n",
      "Lasso cross validation validation score  -0.1351\n",
      "==============================\n",
      "Elasticnet cross validation validation score  -0.1351\n",
      "==============================\n"
     ]
    }
   ],
   "source": [
    "scores_regressor = cross_val_score(pipe_regressor, X_train, y_train, cv=kf)\n",
    "print('Linear regression cross validation validation score ', round(np.mean(scores_regressor),4))\n",
    "print('==============================')\n",
    "\n",
    "scores_ridge = cross_val_score(pipe_ridge, X_train, y_train, cv=kf)\n",
    "print('Ridge regression cross validation validation score ', round(np.mean(scores_ridge),4))\n",
    "print('==============================')\n",
    "\n",
    "scores_lasso = cross_val_score(pipe_lasso, X_train, y_train, cv=kf)\n",
    "print('Lasso cross validation validation score ', round(np.mean(scores_lasso),4))\n",
    "print('==============================')\n",
    "\n",
    "scores_elasticnet = cross_val_score(pipe_elasticnet, X_train, y_train, cv=kf)\n",
    "print('Elasticnet cross validation validation score ', round(np.mean(scores_elasticnet),4))\n",
    "print('==============================')"
   ]
  },
  {
   "cell_type": "markdown",
   "metadata": {
    "colab_type": "text",
    "id": "kIOoWe2VIyA1"
   },
   "source": [
    "Improving Ridge by Grid Search:"
   ]
  },
  {
   "cell_type": "code",
   "execution_count": null,
   "metadata": {
    "colab": {
     "base_uri": "https://localhost:8080/",
     "height": 67
    },
    "colab_type": "code",
    "id": "EiXHnoUApYQV",
    "outputId": "dec87d93-8b26-4f9d-ace5-d52bd53170ef"
   },
   "outputs": [
    {
     "name": "stdout",
     "output_type": "stream",
     "text": [
      "best mean cross-validation score: 0.5153\n",
      "best parameters: {'model__regressor__alpha': 0.46415888336127775}\n",
      "test-set score: 0.4633253944091954\n"
     ]
    }
   ],
   "source": [
    "#Ridge regression seems to be performing the best\n",
    "#do grid search over Ridge Regression alpha\n",
    "param_grid = {'model__regressor__alpha': np.logspace(-3, 3, 10)}\n",
    "grid = GridSearchCV(pipe_ridge, param_grid=param_grid, cv=kf, return_train_score=True)\n",
    "grid.fit(X_train, y_train)\n",
    "\n",
    "print(f\"best mean cross-validation score: {round(grid.best_score_,4)}\")\n",
    "print(f\"best parameters: {grid.best_params_}\")\n",
    "print(f\"test-set score: {grid.score(X_test, y_test)}\")"
   ]
  },
  {
   "cell_type": "markdown",
   "metadata": {
    "colab_type": "text",
    "id": "NzsJPp5CdwXM"
   },
   "source": [
    "Our baseline model is ridge regression model whose paramters were found using grid search. As we can see that the score on test set is not really good so we will try to improve this with ensemble based methods."
   ]
  },
  {
   "cell_type": "markdown",
   "metadata": {
    "colab_type": "text",
    "id": "r-GgAeGUcsVe"
   },
   "source": [
    "#Task 3"
   ]
  },
  {
   "cell_type": "markdown",
   "metadata": {
    "colab_type": "text",
    "id": "RWJaooK_I4FH"
   },
   "source": [
    "## Random Forest:"
   ]
  },
  {
   "cell_type": "code",
   "execution_count": null,
   "metadata": {
    "colab": {
     "base_uri": "https://localhost:8080/",
     "height": 34
    },
    "colab_type": "code",
    "id": "NvE6dzY1ygyb",
    "outputId": "e3768ca5-87f2-4c3c-dd0b-1d9ad618694a"
   },
   "outputs": [
    {
     "name": "stdout",
     "output_type": "stream",
     "text": [
      "RF regression cross validation validation score  0.6274\n"
     ]
    }
   ],
   "source": [
    "#Random forest regressor\n",
    "preprocess = make_column_transformer( \n",
    "    (make_pipeline(SimpleImputer(strategy='constant', fill_value='NA'),OneHotEncoder(handle_unknown='ignore')), \n",
    "                                                                  make_column_selector(dtype_include='object')),\n",
    "                                     remainder=SimpleImputer(strategy='most_frequent'))\n",
    "rf_regressor = RandomForestRegressor(n_estimators=500, max_depth=10)\n",
    "pipe_rf = Pipeline([('preprocess', preprocess), ('model', rf_regressor)])\n",
    "\n",
    "\n",
    "scores_rf = cross_val_score(pipe_rf, X_train, y_train, cv=kf)\n",
    "\n",
    "print('RF regression cross validation validation score ', round(np.mean(scores_rf),4))"
   ]
  },
  {
   "cell_type": "code",
   "execution_count": null,
   "metadata": {
    "colab": {
     "base_uri": "https://localhost:8080/",
     "height": 102
    },
    "colab_type": "code",
    "id": "FT33vDjQhGA7",
    "outputId": "23d6d7b0-c096-4468-d6a0-f1b2f011317b"
   },
   "outputs": [
    {
     "name": "stdout",
     "output_type": "stream",
     "text": [
      "n 500 and d 10\n",
      "Score for training set 0.7830227874468637\n",
      "Score for training set 0.5819929752506104\n",
      "Total time taken 94.20857191085815 s\n",
      "------------------------------\n"
     ]
    }
   ],
   "source": [
    "#Random forest experiments\n",
    "#look for optimum n_estimator and depth\n",
    "n_estimator = [500]\n",
    "max_depth = [10]\n",
    "\n",
    "train_scores, test_scores = [], []\n",
    "\n",
    "preprocess = make_column_transformer( \n",
    "    (make_pipeline(SimpleImputer(strategy='constant', fill_value='NA'),OneHotEncoder(handle_unknown='ignore')), \n",
    "                                                                  make_column_selector(dtype_include='object')),\n",
    "                                     remainder=make_pipeline(SimpleImputer(strategy='most_frequent'),PolynomialFeatures()))\n",
    "pre = preprocess.fit(X_train, y_train)\n",
    "X_train_ = pre.transform(X_train)\n",
    "\n",
    "#n_estimators do not improve\n",
    "for n in n_estimator:\n",
    "  for d in max_depth:\n",
    "    start = time.time()\n",
    "    print(f'n {n} and d {d}')\n",
    "    \n",
    "    rf_regressor = RandomForestRegressor(n_estimators=n, max_depth=d, max_features=0.2, warm_start=True)\n",
    "    rf_regressor.fit(X_train_, y_train)\n",
    "\n",
    "    train_scores.append((n, d, rf_regressor.score(X_train_, y_train)))\n",
    "    test_scores.append((n, d, rf_regressor.score(pre.transform(X_test), y_test)))\n",
    "    print(f'Score for training set {rf_regressor.score(X_train_, y_train)}')\n",
    "    print(f'Score for testing set {rf_regressor.score(pre.transform(X_test), y_test)}')\n",
    "    print(f'Total time taken {(time.time() - start)} s')\n",
    "    print('==============================')"
   ]
  },
  {
   "cell_type": "markdown",
   "metadata": {
    "colab_type": "text",
    "id": "I7IMrk9OdV1_"
   },
   "source": [
    "Random forest with polynomial features and imputation methods provides us a better test score than the baseline models."
   ]
  },
  {
   "cell_type": "markdown",
   "metadata": {
    "colab_type": "text",
    "id": "SPjTlKuFbxgG"
   },
   "source": [
    "# Task 4 "
   ]
  },
  {
   "cell_type": "markdown",
   "metadata": {
    "colab_type": "text",
    "id": "CHB00P0oI8hy"
   },
   "source": [
    "# Gradient Boosting (sklearn):"
   ]
  },
  {
   "cell_type": "code",
   "execution_count": null,
   "metadata": {
    "colab": {
     "base_uri": "https://localhost:8080/",
     "height": 34
    },
    "colab_type": "code",
    "id": "9eATxPnGa-1R",
    "outputId": "d5451b3d-f41e-41a4-c9da-77a322510046"
   },
   "outputs": [
    {
     "name": "stdout",
     "output_type": "stream",
     "text": [
      "GB regression cross validation validation score  0.6147\n"
     ]
    }
   ],
   "source": [
    "#sklearn Gradient Boosting regressor\n",
    "gbm_regressor = GradientBoostingRegressor(max_depth=10, n_estimators=500)\n",
    "pipe_gbm = Pipeline([('preprocess', preprocess), ('model', gbm_regressor)])\n",
    "scores_gbm = cross_val_score(pipe_gbm, X_train, y_train, cv=kf)\n",
    "\n",
    "print('GB regression cross validation validation score ', round(np.mean(scores_gbm),4))"
   ]
  },
  {
   "cell_type": "code",
   "execution_count": null,
   "metadata": {
    "colab": {
     "base_uri": "https://localhost:8080/",
     "height": 102
    },
    "colab_type": "code",
    "id": "_I5mYSZlcjkl",
    "outputId": "fc2853b3-9744-4fde-cc70-bd367976f929"
   },
   "outputs": [
    {
     "name": "stdout",
     "output_type": "stream",
     "text": [
      "n 500 and d 10\n",
      "Score for training set 0.9644722325599917\n",
      "Score for training set 0.6727950741006012\n",
      "Total time taken 55.43500304222107 s\n",
      "------------------------------\n"
     ]
    }
   ],
   "source": [
    "#sklearn gradient boosting experiments\n",
    "#look for optimum n_estimator and depth\n",
    "n_estimator = [500]\n",
    "max_depth = [10]\n",
    "train_scores, test_scores = [], []\n",
    "\n",
    "preprocess = make_column_transformer( \n",
    "    (make_pipeline(SimpleImputer(strategy='constant', fill_value='NA'),OneHotEncoder(handle_unknown='ignore')), \n",
    "                                                                  make_column_selector(dtype_include='object')),\n",
    "                                     remainder=make_pipeline(SimpleImputer(strategy='most_frequent'), PolynomialFeatures()))\n",
    "pre = preprocess.fit(X_train, y_train)\n",
    "X_train_ = pre.transform(X_train)\n",
    "\n",
    "\n",
    "for n in n_estimator:\n",
    "  for d in max_depth:\n",
    "    start = time.time()\n",
    "    print(f'n {n} and d {d}')\n",
    "    \n",
    "    gbm_regressor = GradientBoostingRegressor(max_depth=d, n_estimators=n, max_features=0.2)\n",
    "    gbm_regressor.fit(X_train_, y_train)\n",
    "\n",
    "    train_scores.append((n, d, gbm_regressor.score(X_train_, y_train)))\n",
    "    test_scores.append((n, d, gbm_regressor.score(pre.transform(X_test), y_test)))\n",
    "    print(f'Score for training set {gbm_regressor.score(X_train_, y_train)}')\n",
    "    print(f'Score for testing set {gbm_regressor.score(pre.transform(X_test), y_test)}')\n",
    "    print(f'Total time taken {(time.time() - start)} s')\n",
    "    print('==============================')"
   ]
  },
  {
   "cell_type": "markdown",
   "metadata": {
    "colab_type": "text",
    "id": "mTf9KbdBJCB-"
   },
   "source": [
    "## XGBoost (Faster):"
   ]
  },
  {
   "cell_type": "code",
   "execution_count": null,
   "metadata": {
    "colab": {
     "base_uri": "https://localhost:8080/",
     "height": 101
    },
    "colab_type": "code",
    "id": "tJYWmP0CgYp2",
    "outputId": "720c3d42-d950-4875-9207-a42ba376195a"
   },
   "outputs": [
    {
     "name": "stdout",
     "output_type": "stream",
     "text": [
      "n 500 and d 10\n",
      "Score for training set 0.9354223948972621\n",
      "Score for testing set 0.7220669034159392\n",
      "Total time taken 31.152083158493042 s\n",
      "==============================\n"
     ]
    }
   ],
   "source": [
    "#extreme gradient boosting (faster than sklearn gbm) experiements\n",
    "#look for optimum n_estimator and depth\n",
    "n_estimator = [500]\n",
    "max_depth = [10]\n",
    "train_scores = []\n",
    "test_scores = []\n",
    "\n",
    "preprocess = make_column_transformer( \n",
    "    (make_pipeline(SimpleImputer(strategy='constant', fill_value='NA'),OneHotEncoder(handle_unknown='ignore')), \n",
    "                                                                  make_column_selector(dtype_include='object')),\n",
    "                                     remainder=make_pipeline(SimpleImputer(strategy='most_frequent'), PolynomialFeatures()))\n",
    "pre = preprocess.fit(X_train, y_train)\n",
    "X_train_ = pre.transform(X_train)\n",
    "for n in n_estimator:\n",
    "  for d in max_depth:\n",
    "    start = time.time()\n",
    "    print(f'n {n} and d {d}')\n",
    "    #colsample does not affect the rmse much, alpha does not help\n",
    "    xg_regressor = xgboost.XGBRegressor(objective='reg:squarederror', colsample_bytree=0.2, learning_rate=0.1,\n",
    "                    max_depth=d, alpha=0, n_estimators = n, reg_lambda=1)\n",
    "    xg_regressor.fit(X_train_, y_train)\n",
    "    train_scores.append((n, d, xg_regressor.score(X_train_, y_train)))\n",
    "    test_scores.append((n, d, xg_regressor.score(pre.transform(X_test), y_test)))\n",
    "    print(f'Score for training set {xg_regressor.score(X_train_, y_train)}')\n",
    "    print(f'Score for testing set {xg_regressor.score(pre.transform(X_test), y_test)}')\n",
    "    print(f'Total time taken {(time.time() - start)} s')\n",
    "    print('==============================')"
   ]
  },
  {
   "cell_type": "code",
   "execution_count": null,
   "metadata": {
    "colab": {
     "base_uri": "https://localhost:8080/",
     "height": 34
    },
    "colab_type": "code",
    "id": "wm2zUUHa4-mM",
    "outputId": "1b10f748-6c54-49d4-81db-d8190a2b5118"
   },
   "outputs": [
    {
     "name": "stdout",
     "output_type": "stream",
     "text": [
      "XGBoost regression cross validation validation score  0.7365\n"
     ]
    }
   ],
   "source": [
    "kf = KFold(n_splits=5)\n",
    "xg_regressor = xgboost.XGBRegressor(objective='reg:squarederror', colsample_bytree=0.2, learning_rate=0.1,\n",
    "                    max_depth=10, alpha=0, n_estimators = 500, reg_lambda=1)\n",
    "pipe_xgr = Pipeline([('preprocess', preprocess), ('model', xg_regressor)])\n",
    "scores_xgr = cross_val_score(pipe_xgr, X_train, y_train, cv=kf)\n",
    "print('XGBoost regression cross validation validation score ', round(np.mean(scores_xgr),4))"
   ]
  },
  {
   "cell_type": "markdown",
   "metadata": {
    "colab_type": "text",
    "id": "o0DLTRI1cw-5"
   },
   "source": [
    "We find that the xgboost model provides much better performance than the other models. It also has a better runtime and can handle missing values as well. "
   ]
  },
  {
   "cell_type": "code",
   "execution_count": null,
   "metadata": {
    "colab": {
     "base_uri": "https://localhost:8080/",
     "height": 195
    },
    "colab_type": "code",
    "id": "w9MKu9yaedQq",
    "outputId": "9d957d6f-4f2c-46b5-da81-a50d3f3e2b25"
   },
   "outputs": [
    {
     "ename": "AttributeError",
     "evalue": "ignored",
     "output_type": "error",
     "traceback": [
      "\u001b[0;31m---------------------------------------------------------------------------\u001b[0m",
      "\u001b[0;31mAttributeError\u001b[0m                            Traceback (most recent call last)",
      "\u001b[0;32m<ipython-input-37-855c26ad4b84>\u001b[0m in \u001b[0;36m<module>\u001b[0;34m()\u001b[0m\n\u001b[0;32m----> 1\u001b[0;31m \u001b[0mfeatures\u001b[0m \u001b[0;34m=\u001b[0m \u001b[0mgrid\u001b[0m\u001b[0;34m.\u001b[0m\u001b[0mbest_estimator_\u001b[0m\u001b[0;34m.\u001b[0m\u001b[0mnamed_steps\u001b[0m\u001b[0;34m[\u001b[0m\u001b[0;34m'model'\u001b[0m\u001b[0;34m]\u001b[0m\u001b[0;34m.\u001b[0m\u001b[0mfeature_importances__\u001b[0m\u001b[0;34m\u001b[0m\u001b[0;34m\u001b[0m\u001b[0m\n\u001b[0m\u001b[1;32m      2\u001b[0m \u001b[0mfeatures_ind\u001b[0m \u001b[0;34m=\u001b[0m \u001b[0;34m[\u001b[0m\u001b[0;34m(\u001b[0m\u001b[0mi\u001b[0m\u001b[0;34m,\u001b[0m \u001b[0mval\u001b[0m\u001b[0;34m)\u001b[0m \u001b[0;32mfor\u001b[0m \u001b[0mi\u001b[0m\u001b[0;34m,\u001b[0m \u001b[0mval\u001b[0m \u001b[0;32min\u001b[0m \u001b[0menumerate\u001b[0m\u001b[0;34m(\u001b[0m\u001b[0mfeatures\u001b[0m\u001b[0;34m,\u001b[0m \u001b[0;36m1\u001b[0m\u001b[0;34m)\u001b[0m\u001b[0;34m]\u001b[0m\u001b[0;34m\u001b[0m\u001b[0;34m\u001b[0m\u001b[0m\n\u001b[1;32m      3\u001b[0m \u001b[0mfeatures_ind\u001b[0m\u001b[0;34m.\u001b[0m\u001b[0msort\u001b[0m\u001b[0;34m(\u001b[0m\u001b[0mkey\u001b[0m\u001b[0;34m=\u001b[0m\u001b[0;32mlambda\u001b[0m \u001b[0mx\u001b[0m\u001b[0;34m:\u001b[0m \u001b[0mx\u001b[0m\u001b[0;34m[\u001b[0m\u001b[0;36m1\u001b[0m\u001b[0;34m]\u001b[0m\u001b[0;34m,\u001b[0m \u001b[0mreverse\u001b[0m\u001b[0;34m=\u001b[0m\u001b[0;32mTrue\u001b[0m\u001b[0;34m)\u001b[0m\u001b[0;34m\u001b[0m\u001b[0;34m\u001b[0m\u001b[0m\n",
      "\u001b[0;31mAttributeError\u001b[0m: 'TransformedTargetRegressor' object has no attribute 'feature_importances__'"
     ]
    }
   ],
   "source": [
    "features = grid.best_estimator_.named_steps['model'].feature_importances__\n",
    "features_ind = [(i, val) for i, val in enumerate(features, 1)]\n",
    "features_ind.sort(key=lambda x: x[1], reverse=True)"
   ]
  },
  {
   "cell_type": "code",
   "execution_count": null,
   "metadata": {
    "colab": {},
    "colab_type": "code",
    "id": "quljL35-yIpS"
   },
   "outputs": [],
   "source": [
    "target_columns=[\"manufacturer\", \"model\", \"region\"]\n",
    "cat_columns=[\"paint_color\", \"type\", \"drive\", \"transmission\", \"title_status\", \"fuel\", \"cylinders\"]\n",
    "cont_columns=[\"odometer\"]\n",
    "\n",
    "\n",
    "preprocess = make_column_transformer( \n",
    "    (make_pipeline(SimpleImputer(strategy='constant', fill_value='NA'),OneHotEncoder(handle_unknown='ignore')), \n",
    "                                                                  make_column_selector(dtype_include='object')),\n",
    "                                     remainder=SimpleImputer(strategy='most_frequent'))\n",
    "\n",
    "preprocessor_scaled=make_column_transformer((make_pipeline(SimpleImputer(strategy='median'),StandardScaler()), cont_columns), (make_pipeline(SimpleImputer(strategy='constant', fill_value='NA'),OneHotEncoder(handle_unknown='ignore')),cat_columns), (make_pipeline(SimpleImputer(strategy='most_frequent'),TargetEncoder()), target_columns), remainder='passthrough')\n",
    "random_pipe=make_pipeline(preprocessor_scaled, RandomForestRegressor(max_depth=5))\n",
    "\n",
    "random_pipe.fit(X_train,y_train)\n",
    "random_res=random_pipe.predict(X_test)\n",
    "\n",
    "print(random_pipe.score(X_test,y_test))\n"
   ]
  },
  {
   "cell_type": "code",
   "execution_count": null,
   "metadata": {
    "colab": {},
    "colab_type": "code",
    "id": "4Ny3DSivSZsf"
   },
   "outputs": [],
   "source": [
    "# preprocessor_scaled.transformers"
   ]
  },
  {
   "cell_type": "code",
   "execution_count": null,
   "metadata": {
    "colab": {},
    "colab_type": "code",
    "id": "k-tGfAGXEJK4"
   },
   "outputs": [],
   "source": [
    "# random forest features\n",
    "preprocess = make_column_transformer( \n",
    "    (make_pipeline(SimpleImputer(strategy='constant', fill_value='NA'),OneHotEncoder(handle_unknown='ignore')), \n",
    "                                                                  make_column_selector(dtype_include='object')),\n",
    "                                     remainder=SimpleImputer(strategy='most_frequent'))\n",
    "rf_regressor = RandomForestRegressor(n_estimators=500, max_depth=10)\n",
    "pipe_rf = Pipeline([('preprocess', preprocess), ('model', rf_regressor)])\n",
    "\n",
    "pipe=Pipeline([('imputer', preprocess), ('model', RandomForestRegressor())])\n",
    "param_grid = {'model__max_depth':[1,3,5,7],'model__n_estimators':[100,200]}\n",
    "random_grid = GridSearchCV(pipe, param_grid)\n",
    "\n",
    "random_grid.fit(X_train, y_train)\n",
    "y_pred_train=random_grid.predict(X_train)\n",
    "y_pred_test=random_grid.predict(X_test)\n",
    "\n",
    "\n",
    "\n",
    "\n",
    "\n"
   ]
  },
  {
   "cell_type": "markdown",
   "metadata": {
    "colab_type": "text",
    "id": "Uo90URniaadD"
   },
   "source": [
    "#Task 5 "
   ]
  },
  {
   "cell_type": "markdown",
   "metadata": {
    "colab_type": "text",
    "id": "aPl1qAKVWFPA"
   },
   "source": [
    "Finding out the categorical and continuous features in the dataset"
   ]
  },
  {
   "cell_type": "code",
   "execution_count": null,
   "metadata": {
    "colab": {},
    "colab_type": "code",
    "id": "5OmB6udAFNcn"
   },
   "outputs": [],
   "source": [
    "\n",
    "cat_features=[]\n",
    "cont_features=[]\n",
    "for i in range (0,X_train.shape[1]):\n",
    "    if X_train.dtypes[i] == 'object':\n",
    "        cat_features.append(X_train.columns[i])\n",
    "    else:\n",
    "        cont_features.append(X_train.columns[i])\n",
    "\n",
    "\n"
   ]
  },
  {
   "cell_type": "markdown",
   "metadata": {
    "colab_type": "text",
    "id": "TlNdSCKaWK2S"
   },
   "source": [
    "Defining pipelines for continuous, one hot and target encoded features"
   ]
  },
  {
   "cell_type": "code",
   "execution_count": null,
   "metadata": {
    "colab": {},
    "colab_type": "code",
    "id": "mnsrHqnpUVvo"
   },
   "outputs": [],
   "source": [
    "\n",
    "numeric_transformer_us = Pipeline(steps=[\n",
    "    ('imputer', SimpleImputer(strategy='mean')),\n",
    "    ('scaler', StandardScaler())\n",
    "    ])\n",
    "\n",
    "categorical_transformer = Pipeline(steps=[\n",
    "    ('imputer', SimpleImputer(strategy='constant', fill_value='NA')),\n",
    "    ('onehot', OneHotEncoder(handle_unknown='ignore'))])\n",
    "target_transformer = Pipeline(steps=[\n",
    "    ('imputer', SimpleImputer(strategy='most_frequent')),\n",
    "    ('target', TargetEncoder())])"
   ]
  },
  {
   "cell_type": "code",
   "execution_count": null,
   "metadata": {
    "colab": {},
    "colab_type": "code",
    "id": "4krWtE2MUgpp"
   },
   "outputs": [],
   "source": [
    "\n",
    "\n",
    "preprocessor_us = ColumnTransformer(transformers=[\n",
    "        ('num', numeric_transformer_us, cont_features),\n",
    "        ('cat', categorical_transformer, cat_features)])\n",
    "\n",
    "        # ('target', target_transformer, target_features)])"
   ]
  },
  {
   "cell_type": "markdown",
   "metadata": {
    "colab_type": "text",
    "id": "EECVsKU-W05I"
   },
   "source": [
    "Performing grid search for random forest parameters, we are limiting the no of estimators to 300, as model training time was increasing a lot after that."
   ]
  },
  {
   "cell_type": "code",
   "execution_count": null,
   "metadata": {
    "colab": {},
    "colab_type": "code",
    "id": "I2qn_qypU5ec"
   },
   "outputs": [],
   "source": [
    "pipe=Pipeline([('imputer', preprocessor_us), ('model', RandomForestRegressor())])\n",
    "param_grid = {'model__max_depth':[1,3,5,7],'model__n_estimators':[100,200,300]}\n",
    "random_grid = GridSearchCV(pipe, param_grid)\n",
    "\n",
    "random_grid.fit(X_train, y_train)\n",
    "y_pred_train=random_grid.predict(X_train)\n",
    "y_pred_test=random_grid.predict(X_test)"
   ]
  },
  {
   "cell_type": "code",
   "execution_count": null,
   "metadata": {
    "colab": {
     "base_uri": "https://localhost:8080/",
     "height": 34
    },
    "colab_type": "code",
    "id": "Z1lvQPHhW75i",
    "outputId": "60536e1a-f878-4d40-d86e-2eb9ab8a080d"
   },
   "outputs": [
    {
     "name": "stdout",
     "output_type": "stream",
     "text": [
      "{'model__max_depth': 7, 'model__n_estimators': 300}\n"
     ]
    }
   ],
   "source": [
    "print(random_grid.best_params_)"
   ]
  },
  {
   "cell_type": "code",
   "execution_count": null,
   "metadata": {
    "colab": {
     "base_uri": "https://localhost:8080/",
     "height": 504
    },
    "colab_type": "code",
    "id": "U4QKrSZPYxAu",
    "outputId": "e7f66731-62c9-423b-df0b-c9075d623ebe"
   },
   "outputs": [
    {
     "data": {
      "text/plain": [
       "Pipeline(memory=None,\n",
       "         steps=[('columntransformer',\n",
       "                 ColumnTransformer(n_jobs=None, remainder='drop',\n",
       "                                   sparse_threshold=0.3,\n",
       "                                   transformer_weights=None,\n",
       "                                   transformers=[('num',\n",
       "                                                  Pipeline(memory=None,\n",
       "                                                           steps=[('imputer',\n",
       "                                                                   SimpleImputer(add_indicator=False,\n",
       "                                                                                 copy=True,\n",
       "                                                                                 fill_value=None,\n",
       "                                                                                 missing_values=nan,\n",
       "                                                                                 strategy='mean',\n",
       "                                                                                 verbose=0)),\n",
       "                                                                  ('scaler',\n",
       "                                                                   StandardScaler(copy=True,\n",
       "                                                                                  with_m...\n",
       "                 RandomForestRegressor(bootstrap=True, ccp_alpha=0.0,\n",
       "                                       criterion='mse', max_depth=7,\n",
       "                                       max_features='auto', max_leaf_nodes=None,\n",
       "                                       max_samples=None,\n",
       "                                       min_impurity_decrease=0.0,\n",
       "                                       min_impurity_split=None,\n",
       "                                       min_samples_leaf=1, min_samples_split=2,\n",
       "                                       min_weight_fraction_leaf=0.0,\n",
       "                                       n_estimators=300, n_jobs=None,\n",
       "                                       oob_score=False, random_state=None,\n",
       "                                       verbose=0, warm_start=False))],\n",
       "         verbose=False)"
      ]
     },
     "execution_count": 366,
     "metadata": {
      "tags": []
     },
     "output_type": "execute_result"
    }
   ],
   "source": [
    "pipe_r=make_pipeline(preprocessor_us, RandomForestRegressor(max_depth=7, n_estimators=300))\n",
    "pipe_r.fit(X_train, y_train)\n",
    "\n",
    "\n"
   ]
  },
  {
   "cell_type": "code",
   "execution_count": null,
   "metadata": {
    "colab": {
     "base_uri": "https://localhost:8080/",
     "height": 34
    },
    "colab_type": "code",
    "id": "gJp2CXELU5-C",
    "outputId": "0a98fc73-e9d8-4bac-e356-bb6154635eb0"
   },
   "outputs": [
    {
     "data": {
      "text/plain": [
       "0.5719114964458956"
      ]
     },
     "execution_count": 367,
     "metadata": {
      "tags": []
     },
     "output_type": "execute_result"
    }
   ],
   "source": [
    "pipe_r.score(X_test,y_test)"
   ]
  },
  {
   "cell_type": "markdown",
   "metadata": {
    "colab_type": "text",
    "id": "S74pMxNFXObF"
   },
   "source": [
    "We shall now find the feature importances of the variable for the predictions. This will help us select a subset of features. "
   ]
  },
  {
   "cell_type": "code",
   "execution_count": null,
   "metadata": {
    "colab": {},
    "colab_type": "code",
    "id": "R_ETA4vkPcBA"
   },
   "outputs": [],
   "source": [
    "# names = list(np.hstack([preprocessor.named_transformers_['cat']['onehot'].get_feature_names(), pd.Index(cat_features)]))\n",
    "tot_features=cont_features\n",
    "oh_features=preprocessor_us.named_transformers_['cat']['onehot'].get_feature_names()\n",
    "tot_features.extend(oh_features)"
   ]
  },
  {
   "cell_type": "code",
   "execution_count": null,
   "metadata": {
    "colab": {
     "base_uri": "https://localhost:8080/",
     "height": 609
    },
    "colab_type": "code",
    "id": "26iUTpMzcSnB",
    "outputId": "8397fcc0-4037-4607-f8d8-9a8f14759345"
   },
   "outputs": [
    {
     "data": {
      "text/plain": [
       "<matplotlib.axes._subplots.AxesSubplot at 0x7fd32c669fd0>"
      ]
     },
     "execution_count": 161,
     "metadata": {
      "tags": []
     },
     "output_type": "execute_result"
    },
    {
     "data": {
      "image/png": "[encoded data removed]",
      "text/plain": [
       "<Figure size 720x720 with 1 Axes>"
      ]
     },
     "metadata": {
      "tags": []
     },
     "output_type": "display_data"
    }
   ],
   "source": [
    "# len(pipe_r[1].feature_importances_)\n",
    "# tot_features\n",
    "imp=pd.Series(pipe_r[1].feature_importances_, tot_features)\n",
    "imp.nlargest(25).plot(kind='barh', figsize=(10,10))"
   ]
  },
  {
   "cell_type": "markdown",
   "metadata": {
    "colab_type": "text",
    "id": "Q07Xu65oXlrq"
   },
   "source": [
    "We notice that the features related to year, odometer, fuel, model are important features."
   ]
  },
  {
   "cell_type": "code",
   "execution_count": null,
   "metadata": {
    "colab": {
     "base_uri": "https://localhost:8080/",
     "height": 554
    },
    "colab_type": "code",
    "id": "M83lUDE0H-BG",
    "outputId": "629dd597-10af-4712-eb51-bcc58b7474d7"
   },
   "outputs": [
    {
     "name": "stdout",
     "output_type": "stream",
     "text": [
      "ERROR! Session/line number was not unique in database. History logging moved to new session 63\n"
     ]
    },
    {
     "data": {
      "text/plain": [
       "GridSearchCV(cv=None, error_score=nan,\n",
       "             estimator=Pipeline(memory=None,\n",
       "                                steps=[('processor',\n",
       "                                        ColumnTransformer(n_jobs=None,\n",
       "                                                          remainder='drop',\n",
       "                                                          sparse_threshold=0.3,\n",
       "                                                          transformer_weights=None,\n",
       "                                                          transformers=[('num',\n",
       "                                                                         Pipeline(memory=None,\n",
       "                                                                                  steps=[('imputer',\n",
       "                                                                                          SimpleImputer(add_indicator=False,\n",
       "                                                                                                        copy=True,\n",
       "                                                                                                        fill_value=None,\n",
       "                                                                                                        missing_values=nan,\n",
       "                                                                                                        strategy='mean',\n",
       "                                                                                                        verbose=0)),\n",
       "                                                                                         ('...\n",
       "                                                     nthread=None,\n",
       "                                                     objective='reg:squarederror',\n",
       "                                                     random_state=0,\n",
       "                                                     reg_alpha=0, reg_lambda=1,\n",
       "                                                     scale_pos_weight=1,\n",
       "                                                     seed=None, silent=None,\n",
       "                                                     subsample=1,\n",
       "                                                     verbosity=1))],\n",
       "                                verbose=False),\n",
       "             iid='deprecated', n_jobs=None,\n",
       "             param_grid={'model__max_depth': [1, 3, 5, 7],\n",
       "                         'model__n_estimators': [100, 200, 300]},\n",
       "             pre_dispatch='2*n_jobs', refit=True, return_train_score=False,\n",
       "             scoring=None, verbose=0)"
      ]
     },
     "execution_count": 173,
     "metadata": {
      "tags": []
     },
     "output_type": "execute_result"
    }
   ],
   "source": [
    "pipe = Pipeline([('processor', preprocessor_us),('model',xgboost.XGBRegressor(booster='gbtree',n_jobs=8, objective='reg:squarederror'))])\n",
    "param_grid= {'model__max_depth':[1,3,5,7],'model__n_estimators':[100,200,300]}\n",
    "boost_grid = GridSearchCV(pipe, param_grid)\n",
    "boost_grid.fit(X_train, y_train)\n"
   ]
  },
  {
   "cell_type": "code",
   "execution_count": null,
   "metadata": {
    "colab": {
     "base_uri": "https://localhost:8080/",
     "height": 34
    },
    "colab_type": "code",
    "id": "1u5wfWXcvvi2",
    "outputId": "b3d34def-0c73-4312-fb50-00be4e4cb3c8"
   },
   "outputs": [
    {
     "name": "stdout",
     "output_type": "stream",
     "text": [
      "{'model__max_depth': 7, 'model__n_estimators': 300}\n"
     ]
    }
   ],
   "source": [
    "print(boost_grid.best_params_)"
   ]
  },
  {
   "cell_type": "code",
   "execution_count": null,
   "metadata": {
    "colab": {
     "base_uri": "https://localhost:8080/",
     "height": 470
    },
    "colab_type": "code",
    "id": "EEoCLOM5vwH8",
    "outputId": "2607eaee-91d7-46da-8bb6-dd3a60b24b31"
   },
   "outputs": [
    {
     "data": {
      "text/plain": [
       "Pipeline(memory=None,\n",
       "         steps=[('columntransformer',\n",
       "                 ColumnTransformer(n_jobs=None, remainder='drop',\n",
       "                                   sparse_threshold=0.3,\n",
       "                                   transformer_weights=None,\n",
       "                                   transformers=[('num',\n",
       "                                                  Pipeline(memory=None,\n",
       "                                                           steps=[('imputer',\n",
       "                                                                   SimpleImputer(add_indicator=False,\n",
       "                                                                                 copy=True,\n",
       "                                                                                 fill_value=None,\n",
       "                                                                                 missing_values=nan,\n",
       "                                                                                 strategy='mean',\n",
       "                                                                                 verbose=0)),\n",
       "                                                                  ('scaler',\n",
       "                                                                   StandardScaler(copy=True,\n",
       "                                                                                  with_m...\n",
       "                              colsample_bylevel=1, colsample_bynode=1,\n",
       "                              colsample_bytree=1, gamma=0,\n",
       "                              importance_type='gain', learning_rate=0.1,\n",
       "                              max_delta_step=0, max_depth=7, min_child_weight=1,\n",
       "                              missing=None, n_estimators=300, n_jobs=8,\n",
       "                              nthread=None, objective='reg:squarederror',\n",
       "                              random_state=0, reg_alpha=0, reg_lambda=1,\n",
       "                              scale_pos_weight=1, seed=None, silent=None,\n",
       "                              subsample=1, verbosity=1))],\n",
       "         verbose=False)"
      ]
     },
     "execution_count": 371,
     "metadata": {
      "tags": []
     },
     "output_type": "execute_result"
    }
   ],
   "source": [
    "pipe_b=make_pipeline(preprocessor_us, xgboost.XGBRegressor(booster='gbtree',n_jobs=8, objective='reg:squarederror', max_depth=7, n_estimators=300))\n",
    "pipe_b.fit(X_train, y_train)\n"
   ]
  },
  {
   "cell_type": "code",
   "execution_count": null,
   "metadata": {
    "colab": {
     "base_uri": "https://localhost:8080/",
     "height": 34
    },
    "colab_type": "code",
    "id": "4-b6U9SqaIb9",
    "outputId": "24169160-8d47-4dab-f757-945927ca8cc3"
   },
   "outputs": [
    {
     "data": {
      "text/plain": [
       "0.7060485353403259"
      ]
     },
     "execution_count": 372,
     "metadata": {
      "tags": []
     },
     "output_type": "execute_result"
    }
   ],
   "source": [
    "pipe_b.score(X_test,y_test)"
   ]
  },
  {
   "cell_type": "code",
   "execution_count": null,
   "metadata": {
    "colab": {
     "base_uri": "https://localhost:8080/",
     "height": 609
    },
    "colab_type": "code",
    "id": "6xcXV85owT_R",
    "outputId": "59406c3f-02c6-4e7c-b8a8-9cd44ffd3d75"
   },
   "outputs": [
    {
     "data": {
      "text/plain": [
       "<matplotlib.axes._subplots.AxesSubplot at 0x7fd33295cba8>"
      ]
     },
     "execution_count": 176,
     "metadata": {
      "tags": []
     },
     "output_type": "execute_result"
    },
    {
     "data": {
      "image/png": "[encoded data removed]",
      "text/plain": [
       "<Figure size 720x720 with 1 Axes>"
      ]
     },
     "metadata": {
      "tags": []
     },
     "output_type": "display_data"
    }
   ],
   "source": [
    "tot_features=cont_features\n",
    "oh_features=preprocessor_us.named_transformers_['cat']['onehot'].get_feature_names()\n",
    "tot_features.extend(oh_features)\n",
    "\n",
    "imp=pd.Series(pipe_r[1].feature_importances_, tot_features)\n",
    "imp.nlargest(25).plot(kind='barh', figsize=(10,10))"
   ]
  },
  {
   "cell_type": "markdown",
   "metadata": {
    "colab_type": "text",
    "id": "rLA22L6VaMks"
   },
   "source": [
    "From here also, we see that year, model, fuel and some region features are important."
   ]
  },
  {
   "cell_type": "markdown",
   "metadata": {
    "colab_type": "text",
    "id": "SkxAcx3Fx3Wp"
   },
   "source": [
    "## Task 6\n",
    "For the explainable model we take the following features based on the feature importances in xgboost and random forest - year, model, odometer, region, fuel"
   ]
  },
  {
   "cell_type": "code",
   "execution_count": null,
   "metadata": {
    "colab": {
     "base_uri": "https://localhost:8080/",
     "height": 195
    },
    "colab_type": "code",
    "id": "g-dAAj1xzb9P",
    "outputId": "7f676d6c-3b8d-4af3-bc91-e06ddc172029"
   },
   "outputs": [
    {
     "data": {
      "text/html": [
       "<div>\n",
       "<style scoped>\n",
       "    .dataframe tbody tr th:only-of-type {\n",
       "        vertical-align: middle;\n",
       "    }\n",
       "\n",
       "    .dataframe tbody tr th {\n",
       "        vertical-align: top;\n",
       "    }\n",
       "\n",
       "    .dataframe thead th {\n",
       "        text-align: right;\n",
       "    }\n",
       "</style>\n",
       "<table border=\"1\" class=\"dataframe\">\n",
       "  <thead>\n",
       "    <tr style=\"text-align: right;\">\n",
       "      <th></th>\n",
       "      <th>year</th>\n",
       "      <th>model</th>\n",
       "      <th>odometer</th>\n",
       "      <th>region</th>\n",
       "      <th>fuel</th>\n",
       "    </tr>\n",
       "  </thead>\n",
       "  <tbody>\n",
       "    <tr>\n",
       "      <th>29837</th>\n",
       "      <td>2013.0</td>\n",
       "      <td>tahoe 1500 ltz 4x4 gas</td>\n",
       "      <td>132381.0</td>\n",
       "      <td>wenatchee</td>\n",
       "      <td>gas</td>\n",
       "    </tr>\n",
       "    <tr>\n",
       "      <th>146875</th>\n",
       "      <td>2018.0</td>\n",
       "      <td>discovery</td>\n",
       "      <td>17561.0</td>\n",
       "      <td>hartford</td>\n",
       "      <td>gas</td>\n",
       "    </tr>\n",
       "    <tr>\n",
       "      <th>452442</th>\n",
       "      <td>2001.0</td>\n",
       "      <td>highlander sport</td>\n",
       "      <td>195000.0</td>\n",
       "      <td>rhode island</td>\n",
       "      <td>gas</td>\n",
       "    </tr>\n",
       "    <tr>\n",
       "      <th>359369</th>\n",
       "      <td>2010.0</td>\n",
       "      <td>flex</td>\n",
       "      <td>NaN</td>\n",
       "      <td>south jersey</td>\n",
       "      <td>gas</td>\n",
       "    </tr>\n",
       "    <tr>\n",
       "      <th>465262</th>\n",
       "      <td>2016.0</td>\n",
       "      <td>tahoe</td>\n",
       "      <td>51000.0</td>\n",
       "      <td>chattanooga</td>\n",
       "      <td>gas</td>\n",
       "    </tr>\n",
       "  </tbody>\n",
       "</table>\n",
       "</div>"
      ],
      "text/plain": [
       "          year                   model  odometer        region fuel\n",
       "29837   2013.0  tahoe 1500 ltz 4x4 gas  132381.0     wenatchee  gas\n",
       "146875  2018.0               discovery   17561.0      hartford  gas\n",
       "452442  2001.0        highlander sport  195000.0  rhode island  gas\n",
       "359369  2010.0                    flex       NaN  south jersey  gas\n",
       "465262  2016.0                   tahoe   51000.0   chattanooga  gas"
      ]
     },
     "execution_count": 321,
     "metadata": {
      "tags": []
     },
     "output_type": "execute_result"
    }
   ],
   "source": [
    "\n",
    "# X_train, X_test, y_train, y_test = train_test_split(train_test_data, y)\n",
    "\n",
    "imp_features=[\"year\", \"model\", \"odometer\", \"region\", \"fuel\"]\n",
    "\n",
    "simple_data=train_test_data[imp_features]\n",
    "simple_data.head()"
   ]
  },
  {
   "cell_type": "markdown",
   "metadata": {
    "colab_type": "text",
    "id": "5RhnoYJLNirj"
   },
   "source": [
    "We do imputation of the missing values in the new sample dataset of 5 features.\n",
    "We imopute continuous variables with median and target encoded variables with a new label."
   ]
  },
  {
   "cell_type": "code",
   "execution_count": null,
   "metadata": {
    "colab": {},
    "colab_type": "code",
    "id": "mh78S4d79qs0"
   },
   "outputs": [],
   "source": [
    "simple_data['odometer'].fillna(simple_data.odometer.median(), inplace=True)\n",
    "simple_data['year'].fillna(simple_data.year.median(), inplace=True)\n",
    "simple_data['model'].fillna('NA', inplace=True)\n",
    "simple_data['region'].fillna(simple_data.region.mode(), inplace=True)\n",
    "simple_data['fuel'].fillna('NB', inplace=True)"
   ]
  },
  {
   "cell_type": "code",
   "execution_count": null,
   "metadata": {
    "colab": {},
    "colab_type": "code",
    "id": "a5xORSjY3m4k"
   },
   "outputs": [],
   "source": [
    "X_train_n, X_test_n, y_train_n, y_test_n = train_test_split(simple_data, y, test_size=0.25)"
   ]
  },
  {
   "cell_type": "code",
   "execution_count": null,
   "metadata": {
    "colab": {
     "base_uri": "https://localhost:8080/",
     "height": 195
    },
    "colab_type": "code",
    "id": "06Tr3STt6C6E",
    "outputId": "2e894343-10a8-40ee-ceff-6c6e472e2679"
   },
   "outputs": [
    {
     "data": {
      "text/html": [
       "<div>\n",
       "<style scoped>\n",
       "    .dataframe tbody tr th:only-of-type {\n",
       "        vertical-align: middle;\n",
       "    }\n",
       "\n",
       "    .dataframe tbody tr th {\n",
       "        vertical-align: top;\n",
       "    }\n",
       "\n",
       "    .dataframe thead th {\n",
       "        text-align: right;\n",
       "    }\n",
       "</style>\n",
       "<table border=\"1\" class=\"dataframe\">\n",
       "  <thead>\n",
       "    <tr style=\"text-align: right;\">\n",
       "      <th></th>\n",
       "      <th>year</th>\n",
       "      <th>model</th>\n",
       "      <th>odometer</th>\n",
       "      <th>region</th>\n",
       "      <th>fuel</th>\n",
       "    </tr>\n",
       "  </thead>\n",
       "  <tbody>\n",
       "    <tr>\n",
       "      <th>287269</th>\n",
       "      <td>2017.0</td>\n",
       "      <td>tundra</td>\n",
       "      <td>36696.0</td>\n",
       "      <td>kalamazoo</td>\n",
       "      <td>gas</td>\n",
       "    </tr>\n",
       "    <tr>\n",
       "      <th>146145</th>\n",
       "      <td>2007.0</td>\n",
       "      <td>TOYOTA** COROLLA**</td>\n",
       "      <td>118445.0</td>\n",
       "      <td>hartford</td>\n",
       "      <td>gas</td>\n",
       "    </tr>\n",
       "    <tr>\n",
       "      <th>324250</th>\n",
       "      <td>2008.0</td>\n",
       "      <td>isuzu npr hd</td>\n",
       "      <td>299000.0</td>\n",
       "      <td>asheville</td>\n",
       "      <td>diesel</td>\n",
       "    </tr>\n",
       "    <tr>\n",
       "      <th>468457</th>\n",
       "      <td>1998.0</td>\n",
       "      <td>dakota</td>\n",
       "      <td>115200.0</td>\n",
       "      <td>knoxville</td>\n",
       "      <td>gas</td>\n",
       "    </tr>\n",
       "    <tr>\n",
       "      <th>438956</th>\n",
       "      <td>2012.0</td>\n",
       "      <td>enclave leather group</td>\n",
       "      <td>256220.0</td>\n",
       "      <td>lancaster</td>\n",
       "      <td>gas</td>\n",
       "    </tr>\n",
       "  </tbody>\n",
       "</table>\n",
       "</div>"
      ],
      "text/plain": [
       "          year                  model  odometer     region    fuel\n",
       "287269  2017.0                 tundra   36696.0  kalamazoo     gas\n",
       "146145  2007.0     TOYOTA** COROLLA**  118445.0   hartford     gas\n",
       "324250  2008.0           isuzu npr hd  299000.0  asheville  diesel\n",
       "468457  1998.0                 dakota  115200.0  knoxville     gas\n",
       "438956  2012.0  enclave leather group  256220.0  lancaster     gas"
      ]
     },
     "execution_count": 328,
     "metadata": {
      "tags": []
     },
     "output_type": "execute_result"
    }
   ],
   "source": [
    "X_train_n.head()"
   ]
  },
  {
   "cell_type": "markdown",
   "metadata": {
    "colab_type": "text",
    "id": "PiSUZC1IPTCA"
   },
   "source": [
    "We have divided our 5 variables into these three categories."
   ]
  },
  {
   "cell_type": "code",
   "execution_count": null,
   "metadata": {
    "colab": {},
    "colab_type": "code",
    "id": "4gNmYR6E6kum"
   },
   "outputs": [],
   "source": [
    "cat_features_n=[\"fuel\"]\n",
    "target_features_n=[\"model\",\"region\"]\n",
    "cont_features_n=[\"odometer\",\"year\"]"
   ]
  },
  {
   "cell_type": "code",
   "execution_count": null,
   "metadata": {
    "colab": {},
    "colab_type": "code",
    "id": "fAxBS8le6IXQ"
   },
   "outputs": [],
   "source": [
    "numeric_transformer_us = Pipeline(steps=[\n",
    "    ('scaler', StandardScaler())\n",
    "    ])\n",
    "\n",
    "categorical_transformer = Pipeline(steps=[\n",
    "    ('onehot', OneHotEncoder(handle_unknown='ignore'))])\n",
    "target_transformer = Pipeline(steps=[\n",
    "    ('target', TargetEncoder()), ('scaler', StandardScaler\n",
    "                                  ())])\n"
   ]
  },
  {
   "cell_type": "code",
   "execution_count": null,
   "metadata": {
    "colab": {},
    "colab_type": "code",
    "id": "JYzGfizW6jGD"
   },
   "outputs": [],
   "source": [
    "preprocessor_us = ColumnTransformer(transformers=[\n",
    "        ('num', numeric_transformer_us, cont_features_n),\n",
    "        ('cat', categorical_transformer, cat_features_n),\n",
    "\n",
    "        ('target', target_transformer, target_features_n)])"
   ]
  },
  {
   "cell_type": "code",
   "execution_count": null,
   "metadata": {
    "colab": {
     "base_uri": "https://localhost:8080/",
     "height": 34
    },
    "colab_type": "code",
    "id": "gsUJURpQ69n1",
    "outputId": "9029810f-8beb-4b57-bec9-911f004e4122"
   },
   "outputs": [
    {
     "name": "stdout",
     "output_type": "stream",
     "text": [
      "0.43508060938574655\n"
     ]
    }
   ],
   "source": [
    "pipe_lr=make_pipeline(preprocessor_us, LinearRegression())\n",
    "pipe_lr.fit(X_train_n, y_train_n)\n",
    "y_pred=pipe_lr.predict(X_test_n)\n",
    "print(pipe_lr.score(X_test_n,y_test_n))\n"
   ]
  },
  {
   "cell_type": "markdown",
   "metadata": {
    "colab_type": "text",
    "id": "TpJtoEQJPeNz"
   },
   "source": [
    "WIth this simple linear regression model, we get a R2 score which is not as good as the xgboost models we tried earlier."
   ]
  },
  {
   "cell_type": "code",
   "execution_count": null,
   "metadata": {
    "colab": {},
    "colab_type": "code",
    "id": "7dvkcZA9Bjcq"
   },
   "outputs": [],
   "source": [
    "cat_f=preprocessor_us.named_transformers_['cat']['onehot'].get_feature_names()\n",
    "# target_f=preprocessor_us.named_transformers_['target']['onehot'].get_feature_names()\n",
    "\n",
    "tot_features_n=cont_features_n+list(cat_f)+target_features_n"
   ]
  },
  {
   "cell_type": "code",
   "execution_count": null,
   "metadata": {
    "colab": {
     "base_uri": "https://localhost:8080/",
     "height": 609
    },
    "colab_type": "code",
    "id": "RnMUH-on7nCR",
    "outputId": "aa97a221-a5bc-4967-ce75-c5d6445a1a84"
   },
   "outputs": [
    {
     "data": {
      "text/plain": [
       "<matplotlib.axes._subplots.AxesSubplot at 0x7fd32e71b518>"
      ]
     },
     "execution_count": 334,
     "metadata": {
      "tags": []
     },
     "output_type": "execute_result"
    },
    {
     "data": {
      "image/png": "[encoded data removed]",
      "text/plain": [
       "<Figure size 720x720 with 1 Axes>"
      ]
     },
     "metadata": {
      "tags": []
     },
     "output_type": "display_data"
    }
   ],
   "source": [
    "imp=pd.Series(pipe_lr[1].coef_, tot_features_n)\n",
    "imp.nlargest(6).plot(kind='barh', figsize=(10,10))"
   ]
  },
  {
   "cell_type": "markdown",
   "metadata": {
    "colab_type": "text",
    "id": "FB__OcjaQJpL"
   },
   "source": [
    "We plot the feature coefficients of the variables of linear regression , model, fuel and year seem to dominate."
   ]
  },
  {
   "cell_type": "code",
   "execution_count": null,
   "metadata": {
    "colab": {
     "base_uri": "https://localhost:8080/",
     "height": 34
    },
    "colab_type": "code",
    "id": "7pjtcs2AEU28",
    "outputId": "bdd987d3-783a-4ff4-cacd-9de05997ce63"
   },
   "outputs": [
    {
     "name": "stdout",
     "output_type": "stream",
     "text": [
      "0.5900810823441056\n"
     ]
    }
   ],
   "source": [
    "pipe_dt=make_pipeline(preprocessor_us, DecisionTreeRegressor(max_depth=7))\n",
    "pipe_dt.fit(X_train_n, y_train_n)\n",
    "y_pred=pipe_dt.predict(X_test_n)\n",
    "print(pipe_dt.score(X_test_n,y_test_n))"
   ]
  },
  {
   "cell_type": "markdown",
   "metadata": {
    "colab_type": "text",
    "id": "-iPixOktQd-i"
   },
   "source": [
    "The decision tree regressor performs a bit better than the linear regression, but the decision tree will tend to overfit to the training data, so it may not generalize very well."
   ]
  },
  {
   "cell_type": "code",
   "execution_count": null,
   "metadata": {
    "colab": {},
    "colab_type": "code",
    "id": "ftUNDlbNHrqJ"
   },
   "outputs": [],
   "source": [
    "cat_f=preprocessor_us.named_transformers_['cat']['onehot'].get_feature_names()\n",
    "# target_f=preprocessor_us.named_transformers_['target']['onehot'].get_feature_names()\n",
    "\n",
    "tot_features_n=cont_features_n+list(cat_f)+target_features_n"
   ]
  },
  {
   "cell_type": "code",
   "execution_count": null,
   "metadata": {
    "colab": {
     "base_uri": "https://localhost:8080/",
     "height": 609
    },
    "colab_type": "code",
    "id": "j_3VaggpIkqU",
    "outputId": "7834bf51-61d2-4bb8-a1e1-0209f8beb3e6"
   },
   "outputs": [
    {
     "data": {
      "text/plain": [
       "<matplotlib.axes._subplots.AxesSubplot at 0x7fd33185df60>"
      ]
     },
     "execution_count": 339,
     "metadata": {
      "tags": []
     },
     "output_type": "execute_result"
    },
    {
     "data": {
      "image/png": "[encoded data removed]",
      "text/plain": [
       "<Figure size 720x720 with 1 Axes>"
      ]
     },
     "metadata": {
      "tags": []
     },
     "output_type": "display_data"
    }
   ],
   "source": [
    "imp=pd.Series(pipe_dt[1].feature_importances_, tot_features_n)\n",
    "imp.nlargest(6).plot(kind='barh', figsize=(10,10))"
   ]
  },
  {
   "cell_type": "markdown",
   "metadata": {
    "colab_type": "text",
    "id": "P11p96IDR3yc"
   },
   "source": [
    "Here also, we find that the year and model of the car are the most important features"
   ]
  },
  {
   "cell_type": "code",
   "execution_count": null,
   "metadata": {
    "colab": {},
    "colab_type": "code",
    "id": "6Dwjate6I6jZ"
   },
   "outputs": [],
   "source": [
    "new_df=preprocessor_us.fit_transform(X_train_n, y_train_n)"
   ]
  },
  {
   "cell_type": "code",
   "execution_count": null,
   "metadata": {
    "colab": {},
    "colab_type": "code",
    "id": "kXhy1Se4JVJL"
   },
   "outputs": [],
   "source": [
    "new_df=pd.DataFrame(new_df, columns=tot_features_n)"
   ]
  },
  {
   "cell_type": "code",
   "execution_count": null,
   "metadata": {
    "colab": {
     "base_uri": "https://localhost:8080/",
     "height": 195
    },
    "colab_type": "code",
    "id": "fZjkGsn4Jam0",
    "outputId": "fcee3f5d-a5cc-4bf4-9df9-cd4d93a4f6f7"
   },
   "outputs": [
    {
     "data": {
      "text/html": [
       "<div>\n",
       "<style scoped>\n",
       "    .dataframe tbody tr th:only-of-type {\n",
       "        vertical-align: middle;\n",
       "    }\n",
       "\n",
       "    .dataframe tbody tr th {\n",
       "        vertical-align: top;\n",
       "    }\n",
       "\n",
       "    .dataframe thead th {\n",
       "        text-align: right;\n",
       "    }\n",
       "</style>\n",
       "<table border=\"1\" class=\"dataframe\">\n",
       "  <thead>\n",
       "    <tr style=\"text-align: right;\">\n",
       "      <th></th>\n",
       "      <th>odometer</th>\n",
       "      <th>year</th>\n",
       "      <th>x0_NB</th>\n",
       "      <th>x0_diesel</th>\n",
       "      <th>x0_electric</th>\n",
       "      <th>x0_gas</th>\n",
       "      <th>x0_hybrid</th>\n",
       "      <th>x0_other</th>\n",
       "      <th>model</th>\n",
       "      <th>region</th>\n",
       "    </tr>\n",
       "  </thead>\n",
       "  <tbody>\n",
       "    <tr>\n",
       "      <th>0</th>\n",
       "      <td>-0.881349</td>\n",
       "      <td>0.886944</td>\n",
       "      <td>0.0</td>\n",
       "      <td>0.0</td>\n",
       "      <td>0.0</td>\n",
       "      <td>1.0</td>\n",
       "      <td>0.0</td>\n",
       "      <td>0.0</td>\n",
       "      <td>0.626784</td>\n",
       "      <td>0.055831</td>\n",
       "    </tr>\n",
       "    <tr>\n",
       "      <th>1</th>\n",
       "      <td>0.216996</td>\n",
       "      <td>-0.283780</td>\n",
       "      <td>0.0</td>\n",
       "      <td>0.0</td>\n",
       "      <td>0.0</td>\n",
       "      <td>1.0</td>\n",
       "      <td>0.0</td>\n",
       "      <td>0.0</td>\n",
       "      <td>-1.100276</td>\n",
       "      <td>-0.705892</td>\n",
       "    </tr>\n",
       "    <tr>\n",
       "      <th>2</th>\n",
       "      <td>2.642856</td>\n",
       "      <td>-0.166707</td>\n",
       "      <td>0.0</td>\n",
       "      <td>1.0</td>\n",
       "      <td>0.0</td>\n",
       "      <td>0.0</td>\n",
       "      <td>0.0</td>\n",
       "      <td>0.0</td>\n",
       "      <td>0.233871</td>\n",
       "      <td>0.041752</td>\n",
       "    </tr>\n",
       "    <tr>\n",
       "      <th>3</th>\n",
       "      <td>0.173397</td>\n",
       "      <td>-1.337431</td>\n",
       "      <td>0.0</td>\n",
       "      <td>0.0</td>\n",
       "      <td>0.0</td>\n",
       "      <td>1.0</td>\n",
       "      <td>0.0</td>\n",
       "      <td>0.0</td>\n",
       "      <td>-1.250899</td>\n",
       "      <td>-0.441284</td>\n",
       "    </tr>\n",
       "    <tr>\n",
       "      <th>4</th>\n",
       "      <td>2.068082</td>\n",
       "      <td>0.301582</td>\n",
       "      <td>0.0</td>\n",
       "      <td>0.0</td>\n",
       "      <td>0.0</td>\n",
       "      <td>1.0</td>\n",
       "      <td>0.0</td>\n",
       "      <td>0.0</td>\n",
       "      <td>0.038619</td>\n",
       "      <td>-0.364208</td>\n",
       "    </tr>\n",
       "  </tbody>\n",
       "</table>\n",
       "</div>"
      ],
      "text/plain": [
       "   odometer      year  x0_NB  ...  x0_other     model    region\n",
       "0 -0.881349  0.886944    0.0  ...       0.0  0.626784  0.055831\n",
       "1  0.216996 -0.283780    0.0  ...       0.0 -1.100276 -0.705892\n",
       "2  2.642856 -0.166707    0.0  ...       0.0  0.233871  0.041752\n",
       "3  0.173397 -1.337431    0.0  ...       0.0 -1.250899 -0.441284\n",
       "4  2.068082  0.301582    0.0  ...       0.0  0.038619 -0.364208\n",
       "\n",
       "[5 rows x 10 columns]"
      ]
     },
     "execution_count": 344,
     "metadata": {
      "tags": []
     },
     "output_type": "execute_result"
    }
   ],
   "source": [
    "new_df.head()"
   ]
  },
  {
   "cell_type": "code",
   "execution_count": null,
   "metadata": {
    "colab": {},
    "colab_type": "code",
    "id": "9PafS0CxJ32z"
   },
   "outputs": [],
   "source": [
    "\n",
    "pipe_dt2=DecisionTreeRegressor(max_leaf_nodes=9)\n",
    "pipe_dt2=pipe_dt2.fit(new_df, y_train_n)"
   ]
  },
  {
   "cell_type": "code",
   "execution_count": null,
   "metadata": {
    "colab": {},
    "colab_type": "code",
    "id": "vVUjjSstL9hj"
   },
   "outputs": [],
   "source": [
    "import sklearn.tree as tree\n",
    "import pydotplus\n",
    "from sklearn.externals.six import StringIO \n",
    "from IPython.display import Image\n",
    "import graphviz"
   ]
  },
  {
   "cell_type": "code",
   "execution_count": null,
   "metadata": {
    "colab": {
     "base_uri": "https://localhost:8080/",
     "height": 657
    },
    "colab_type": "code",
    "id": "Qp-k3X06MJnw",
    "outputId": "fa701356-3955-4627-c281-7fa89d101d9e"
   },
   "outputs": [
    {
     "data": {
      "image/svg+xml": [
       "<?xml version=\"1.0\" encoding=\"UTF-8\" standalone=\"no\"?>\n",
       "<!DOCTYPE svg PUBLIC \"-//W3C//DTD SVG 1.1//EN\"\n",
       " \"http://www.w3.org/Graphics/SVG/1.1/DTD/svg11.dtd\">\n",
       "<!-- Generated by graphviz version 2.40.1 (20161225.0304)\n",
       " -->\n",
       "<!-- Title: Tree Pages: 1 -->\n",
       "<svg width=\"1060pt\" height=\"477pt\"\n",
       " viewBox=\"0.00 0.00 1060.00 477.00\" xmlns=\"http://www.w3.org/2000/svg\" xmlns:xlink=\"http://www.w3.org/1999/xlink\">\n",
       "<g id=\"graph0\" class=\"graph\" transform=\"scale(1 1) rotate(0) translate(4 473)\">\n",
       "<title>Tree</title>\n",
       "<polygon fill=\"#ffffff\" stroke=\"transparent\" points=\"-4,4 -4,-473 1056,-473 1056,4 -4,4\"/>\n",
       "<!-- 0 -->\n",
       "<g id=\"node1\" class=\"node\">\n",
       "<title>0</title>\n",
       "<path fill=\"#fbeadf\" stroke=\"#000000\" d=\"M593,-469C593,-469 454,-469 454,-469 448,-469 442,-463 442,-457 442,-457 442,-413 442,-413 442,-407 448,-401 454,-401 454,-401 593,-401 593,-401 599,-401 605,-407 605,-413 605,-413 605,-457 605,-457 605,-463 599,-469 593,-469\"/>\n",
       "<text text-anchor=\"start\" x=\"483\" y=\"-453.8\" font-family=\"Helvetica,sans-Serif\" font-size=\"14.00\" fill=\"#000000\">year ≤ 0.477</text>\n",
       "<text text-anchor=\"start\" x=\"450\" y=\"-438.8\" font-family=\"Helvetica,sans-Serif\" font-size=\"14.00\" fill=\"#000000\">mse = 145308882.377</text>\n",
       "<text text-anchor=\"start\" x=\"467.5\" y=\"-423.8\" font-family=\"Helvetica,sans-Serif\" font-size=\"14.00\" fill=\"#000000\">samples = 30000</text>\n",
       "<text text-anchor=\"start\" x=\"463\" y=\"-408.8\" font-family=\"Helvetica,sans-Serif\" font-size=\"14.00\" fill=\"#000000\">value = 13933.857</text>\n",
       "</g>\n",
       "<!-- 1 -->\n",
       "<g id=\"node2\" class=\"node\">\n",
       "<title>1</title>\n",
       "<path fill=\"#fdf5f0\" stroke=\"#000000\" d=\"M497,-365C497,-365 366,-365 366,-365 360,-365 354,-359 354,-353 354,-353 354,-309 354,-309 354,-303 360,-297 366,-297 366,-297 497,-297 497,-297 503,-297 509,-303 509,-309 509,-309 509,-353 509,-353 509,-359 503,-365 497,-365\"/>\n",
       "<text text-anchor=\"start\" x=\"385.5\" y=\"-349.8\" font-family=\"Helvetica,sans-Serif\" font-size=\"14.00\" fill=\"#000000\">model ≤ 0.775</text>\n",
       "<text text-anchor=\"start\" x=\"362\" y=\"-334.8\" font-family=\"Helvetica,sans-Serif\" font-size=\"14.00\" fill=\"#000000\">mse = 76563114.271</text>\n",
       "<text text-anchor=\"start\" x=\"375.5\" y=\"-319.8\" font-family=\"Helvetica,sans-Serif\" font-size=\"14.00\" fill=\"#000000\">samples = 19601</text>\n",
       "<text text-anchor=\"start\" x=\"375\" y=\"-304.8\" font-family=\"Helvetica,sans-Serif\" font-size=\"14.00\" fill=\"#000000\">value = 9593.658</text>\n",
       "</g>\n",
       "<!-- 0&#45;&gt;1 -->\n",
       "<g id=\"edge1\" class=\"edge\">\n",
       "<title>0&#45;&gt;1</title>\n",
       "<path fill=\"none\" stroke=\"#000000\" d=\"M493.3758,-400.9465C485.4332,-391.968 476.7709,-382.1758 468.511,-372.8385\"/>\n",
       "<polygon fill=\"#000000\" stroke=\"#000000\" points=\"470.9392,-370.301 461.6919,-365.13 465.6962,-374.939 470.9392,-370.301\"/>\n",
       "<text text-anchor=\"middle\" x=\"460.1642\" y=\"-386.3833\" font-family=\"Helvetica,sans-Serif\" font-size=\"14.00\" fill=\"#000000\">True</text>\n",
       "</g>\n",
       "<!-- 2 -->\n",
       "<g id=\"node11\" class=\"node\">\n",
       "<title>2</title>\n",
       "<path fill=\"#f7d6bf\" stroke=\"#000000\" d=\"M680,-365C680,-365 541,-365 541,-365 535,-365 529,-359 529,-353 529,-353 529,-309 529,-309 529,-303 535,-297 541,-297 541,-297 680,-297 680,-297 686,-297 692,-303 692,-309 692,-309 692,-353 692,-353 692,-359 686,-365 680,-365\"/>\n",
       "<text text-anchor=\"start\" x=\"564.5\" y=\"-349.8\" font-family=\"Helvetica,sans-Serif\" font-size=\"14.00\" fill=\"#000000\">model ≤ 0.039</text>\n",
       "<text text-anchor=\"start\" x=\"537\" y=\"-334.8\" font-family=\"Helvetica,sans-Serif\" font-size=\"14.00\" fill=\"#000000\">mse = 172455272.173</text>\n",
       "<text text-anchor=\"start\" x=\"554.5\" y=\"-319.8\" font-family=\"Helvetica,sans-Serif\" font-size=\"14.00\" fill=\"#000000\">samples = 10399</text>\n",
       "<text text-anchor=\"start\" x=\"550\" y=\"-304.8\" font-family=\"Helvetica,sans-Serif\" font-size=\"14.00\" fill=\"#000000\">value = 22114.668</text>\n",
       "</g>\n",
       "<!-- 0&#45;&gt;2 -->\n",
       "<g id=\"edge10\" class=\"edge\">\n",
       "<title>0&#45;&gt;2</title>\n",
       "<path fill=\"none\" stroke=\"#000000\" d=\"M551.9871,-400.9465C559.4979,-391.968 567.6895,-382.1758 575.5005,-372.8385\"/>\n",
       "<polygon fill=\"#000000\" stroke=\"#000000\" points=\"578.2171,-375.0459 581.9489,-365.13 572.848,-370.5544 578.2171,-375.0459\"/>\n",
       "<text text-anchor=\"middle\" x=\"584.1653\" y=\"-386.3316\" font-family=\"Helvetica,sans-Serif\" font-size=\"14.00\" fill=\"#000000\">False</text>\n",
       "</g>\n",
       "<!-- 5 -->\n",
       "<g id=\"node3\" class=\"node\">\n",
       "<title>5</title>\n",
       "<path fill=\"#fef8f4\" stroke=\"#000000\" d=\"M316,-261C316,-261 185,-261 185,-261 179,-261 173,-255 173,-249 173,-249 173,-205 173,-205 173,-199 179,-193 185,-193 185,-193 316,-193 316,-193 322,-193 328,-199 328,-205 328,-205 328,-249 328,-249 328,-255 322,-261 316,-261\"/>\n",
       "<text text-anchor=\"start\" x=\"202\" y=\"-245.8\" font-family=\"Helvetica,sans-Serif\" font-size=\"14.00\" fill=\"#000000\">model ≤ &#45;0.387</text>\n",
       "<text text-anchor=\"start\" x=\"181\" y=\"-230.8\" font-family=\"Helvetica,sans-Serif\" font-size=\"14.00\" fill=\"#000000\">mse = 50420848.629</text>\n",
       "<text text-anchor=\"start\" x=\"194.5\" y=\"-215.8\" font-family=\"Helvetica,sans-Serif\" font-size=\"14.00\" fill=\"#000000\">samples = 17610</text>\n",
       "<text text-anchor=\"start\" x=\"194\" y=\"-200.8\" font-family=\"Helvetica,sans-Serif\" font-size=\"14.00\" fill=\"#000000\">value = 8324.295</text>\n",
       "</g>\n",
       "<!-- 1&#45;&gt;5 -->\n",
       "<g id=\"edge2\" class=\"edge\">\n",
       "<title>1&#45;&gt;5</title>\n",
       "<path fill=\"none\" stroke=\"#000000\" d=\"M372.2338,-296.9465C355.2014,-287.1599 336.4866,-276.4066 318.9483,-266.3294\"/>\n",
       "<polygon fill=\"#000000\" stroke=\"#000000\" points=\"320.3137,-263.0773 309.8993,-261.13 316.8262,-269.1468 320.3137,-263.0773\"/>\n",
       "</g>\n",
       "<!-- 6 -->\n",
       "<g id=\"node8\" class=\"node\">\n",
       "<title>6</title>\n",
       "<path fill=\"#f7dac4\" stroke=\"#000000\" d=\"M501,-261C501,-261 362,-261 362,-261 356,-261 350,-255 350,-249 350,-249 350,-205 350,-205 350,-199 356,-193 362,-193 362,-193 501,-193 501,-193 507,-193 513,-199 513,-205 513,-205 513,-249 513,-249 513,-255 507,-261 501,-261\"/>\n",
       "<text text-anchor=\"start\" x=\"385.5\" y=\"-245.8\" font-family=\"Helvetica,sans-Serif\" font-size=\"14.00\" fill=\"#000000\">model ≤ 3.792</text>\n",
       "<text text-anchor=\"start\" x=\"358\" y=\"-230.8\" font-family=\"Helvetica,sans-Serif\" font-size=\"14.00\" fill=\"#000000\">mse = 167483370.209</text>\n",
       "<text text-anchor=\"start\" x=\"379.5\" y=\"-215.8\" font-family=\"Helvetica,sans-Serif\" font-size=\"14.00\" fill=\"#000000\">samples = 1991</text>\n",
       "<text text-anchor=\"start\" x=\"371\" y=\"-200.8\" font-family=\"Helvetica,sans-Serif\" font-size=\"14.00\" fill=\"#000000\">value = 20820.921</text>\n",
       "</g>\n",
       "<!-- 1&#45;&gt;6 -->\n",
       "<g id=\"edge7\" class=\"edge\">\n",
       "<title>1&#45;&gt;6</title>\n",
       "<path fill=\"none\" stroke=\"#000000\" d=\"M431.5,-296.9465C431.5,-288.776 431.5,-279.9318 431.5,-271.3697\"/>\n",
       "<polygon fill=\"#000000\" stroke=\"#000000\" points=\"435.0001,-271.13 431.5,-261.13 428.0001,-271.13 435.0001,-271.13\"/>\n",
       "</g>\n",
       "<!-- 9 -->\n",
       "<g id=\"node4\" class=\"node\">\n",
       "<title>9</title>\n",
       "<path fill=\"#ffffff\" stroke=\"#000000\" d=\"M143,-149.5C143,-149.5 12,-149.5 12,-149.5 6,-149.5 0,-143.5 0,-137.5 0,-137.5 0,-108.5 0,-108.5 0,-102.5 6,-96.5 12,-96.5 12,-96.5 143,-96.5 143,-96.5 149,-96.5 155,-102.5 155,-108.5 155,-108.5 155,-137.5 155,-137.5 155,-143.5 149,-149.5 143,-149.5\"/>\n",
       "<text text-anchor=\"start\" x=\"8\" y=\"-134.3\" font-family=\"Helvetica,sans-Serif\" font-size=\"14.00\" fill=\"#000000\">mse = 12884684.622</text>\n",
       "<text text-anchor=\"start\" x=\"25.5\" y=\"-119.3\" font-family=\"Helvetica,sans-Serif\" font-size=\"14.00\" fill=\"#000000\">samples = 8322</text>\n",
       "<text text-anchor=\"start\" x=\"21\" y=\"-104.3\" font-family=\"Helvetica,sans-Serif\" font-size=\"14.00\" fill=\"#000000\">value = 5581.166</text>\n",
       "</g>\n",
       "<!-- 5&#45;&gt;9 -->\n",
       "<g id=\"edge3\" class=\"edge\">\n",
       "<title>5&#45;&gt;9</title>\n",
       "<path fill=\"none\" stroke=\"#000000\" d=\"M193.8533,-192.9465C173.4233,-180.6649 150.4609,-166.8609 130.3667,-154.7811\"/>\n",
       "<polygon fill=\"#000000\" stroke=\"#000000\" points=\"132.0257,-151.6948 121.6519,-149.5422 128.4191,-157.6942 132.0257,-151.6948\"/>\n",
       "</g>\n",
       "<!-- 10 -->\n",
       "<g id=\"node5\" class=\"node\">\n",
       "<title>10</title>\n",
       "<path fill=\"#fcf2eb\" stroke=\"#000000\" d=\"M316,-157C316,-157 185,-157 185,-157 179,-157 173,-151 173,-145 173,-145 173,-101 173,-101 173,-95 179,-89 185,-89 185,-89 316,-89 316,-89 322,-89 328,-95 328,-101 328,-101 328,-145 328,-145 328,-151 322,-157 316,-157\"/>\n",
       "<text text-anchor=\"start\" x=\"210\" y=\"-141.8\" font-family=\"Helvetica,sans-Serif\" font-size=\"14.00\" fill=\"#000000\">year ≤ 0.126</text>\n",
       "<text text-anchor=\"start\" x=\"181\" y=\"-126.8\" font-family=\"Helvetica,sans-Serif\" font-size=\"14.00\" fill=\"#000000\">mse = 71269988.602</text>\n",
       "<text text-anchor=\"start\" x=\"198.5\" y=\"-111.8\" font-family=\"Helvetica,sans-Serif\" font-size=\"14.00\" fill=\"#000000\">samples = 9288</text>\n",
       "<text text-anchor=\"start\" x=\"190\" y=\"-96.8\" font-family=\"Helvetica,sans-Serif\" font-size=\"14.00\" fill=\"#000000\">value = 10782.125</text>\n",
       "</g>\n",
       "<!-- 5&#45;&gt;10 -->\n",
       "<g id=\"edge4\" class=\"edge\">\n",
       "<title>5&#45;&gt;10</title>\n",
       "<path fill=\"none\" stroke=\"#000000\" d=\"M250.5,-192.9465C250.5,-184.776 250.5,-175.9318 250.5,-167.3697\"/>\n",
       "<polygon fill=\"#000000\" stroke=\"#000000\" points=\"254.0001,-167.13 250.5,-157.13 247.0001,-167.13 254.0001,-167.13\"/>\n",
       "</g>\n",
       "<!-- 11 -->\n",
       "<g id=\"node6\" class=\"node\">\n",
       "<title>11</title>\n",
       "<path fill=\"#fdf7f2\" stroke=\"#000000\" d=\"M229,-53C229,-53 98,-53 98,-53 92,-53 86,-47 86,-41 86,-41 86,-12 86,-12 86,-6 92,0 98,0 98,0 229,0 229,0 235,0 241,-6 241,-12 241,-12 241,-41 241,-41 241,-47 235,-53 229,-53\"/>\n",
       "<text text-anchor=\"start\" x=\"94\" y=\"-37.8\" font-family=\"Helvetica,sans-Serif\" font-size=\"14.00\" fill=\"#000000\">mse = 60335548.603</text>\n",
       "<text text-anchor=\"start\" x=\"111.5\" y=\"-22.8\" font-family=\"Helvetica,sans-Serif\" font-size=\"14.00\" fill=\"#000000\">samples = 6381</text>\n",
       "<text text-anchor=\"start\" x=\"107\" y=\"-7.8\" font-family=\"Helvetica,sans-Serif\" font-size=\"14.00\" fill=\"#000000\">value = 8864.741</text>\n",
       "</g>\n",
       "<!-- 10&#45;&gt;11 -->\n",
       "<g id=\"edge5\" class=\"edge\">\n",
       "<title>10&#45;&gt;11</title>\n",
       "<path fill=\"none\" stroke=\"#000000\" d=\"M219.8271,-88.9777C211.5715,-79.8207 202.6391,-69.9129 194.3728,-60.744\"/>\n",
       "<polygon fill=\"#000000\" stroke=\"#000000\" points=\"196.9108,-58.3321 187.6152,-53.2485 191.7117,-63.0193 196.9108,-58.3321\"/>\n",
       "</g>\n",
       "<!-- 12 -->\n",
       "<g id=\"node7\" class=\"node\">\n",
       "<title>12</title>\n",
       "<path fill=\"#fae8db\" stroke=\"#000000\" d=\"M402,-53C402,-53 271,-53 271,-53 265,-53 259,-47 259,-41 259,-41 259,-12 259,-12 259,-6 265,0 271,0 271,0 402,0 402,0 408,0 414,-6 414,-12 414,-12 414,-41 414,-41 414,-47 408,-53 402,-53\"/>\n",
       "<text text-anchor=\"start\" x=\"267\" y=\"-37.8\" font-family=\"Helvetica,sans-Serif\" font-size=\"14.00\" fill=\"#000000\">mse = 69488271.966</text>\n",
       "<text text-anchor=\"start\" x=\"284.5\" y=\"-22.8\" font-family=\"Helvetica,sans-Serif\" font-size=\"14.00\" fill=\"#000000\">samples = 2907</text>\n",
       "<text text-anchor=\"start\" x=\"280\" y=\"-7.8\" font-family=\"Helvetica,sans-Serif\" font-size=\"14.00\" fill=\"#000000\">value = 14990.87</text>\n",
       "</g>\n",
       "<!-- 10&#45;&gt;12 -->\n",
       "<g id=\"edge6\" class=\"edge\">\n",
       "<title>10&#45;&gt;12</title>\n",
       "<path fill=\"none\" stroke=\"#000000\" d=\"M280.8204,-88.9777C288.981,-79.8207 297.8108,-69.9129 305.9821,-60.744\"/>\n",
       "<polygon fill=\"#000000\" stroke=\"#000000\" points=\"308.6217,-63.0427 312.662,-53.2485 303.3958,-58.3854 308.6217,-63.0427\"/>\n",
       "</g>\n",
       "<!-- 13 -->\n",
       "<g id=\"node9\" class=\"node\">\n",
       "<title>13</title>\n",
       "<path fill=\"#f8dcc8\" stroke=\"#000000\" d=\"M497,-149.5C497,-149.5 358,-149.5 358,-149.5 352,-149.5 346,-143.5 346,-137.5 346,-137.5 346,-108.5 346,-108.5 346,-102.5 352,-96.5 358,-96.5 358,-96.5 497,-96.5 497,-96.5 503,-96.5 509,-102.5 509,-108.5 509,-108.5 509,-137.5 509,-137.5 509,-143.5 503,-149.5 497,-149.5\"/>\n",
       "<text text-anchor=\"start\" x=\"354\" y=\"-134.3\" font-family=\"Helvetica,sans-Serif\" font-size=\"14.00\" fill=\"#000000\">mse = 120163305.276</text>\n",
       "<text text-anchor=\"start\" x=\"375.5\" y=\"-119.3\" font-family=\"Helvetica,sans-Serif\" font-size=\"14.00\" fill=\"#000000\">samples = 1940</text>\n",
       "<text text-anchor=\"start\" x=\"367\" y=\"-104.3\" font-family=\"Helvetica,sans-Serif\" font-size=\"14.00\" fill=\"#000000\">value = 19873.676</text>\n",
       "</g>\n",
       "<!-- 6&#45;&gt;13 -->\n",
       "<g id=\"edge8\" class=\"edge\">\n",
       "<title>6&#45;&gt;13</title>\n",
       "<path fill=\"none\" stroke=\"#000000\" d=\"M430.1903,-192.9465C429.7793,-182.2621 429.3241,-170.4254 428.9067,-159.5742\"/>\n",
       "<polygon fill=\"#000000\" stroke=\"#000000\" points=\"432.4027,-159.4002 428.5209,-149.5422 425.4079,-159.6693 432.4027,-159.4002\"/>\n",
       "</g>\n",
       "<!-- 14 -->\n",
       "<g id=\"node10\" class=\"node\">\n",
       "<title>14</title>\n",
       "<path fill=\"#e58139\" stroke=\"#000000\" d=\"M678,-149.5C678,-149.5 539,-149.5 539,-149.5 533,-149.5 527,-143.5 527,-137.5 527,-137.5 527,-108.5 527,-108.5 527,-102.5 533,-96.5 539,-96.5 539,-96.5 678,-96.5 678,-96.5 684,-96.5 690,-102.5 690,-108.5 690,-108.5 690,-137.5 690,-137.5 690,-143.5 684,-149.5 678,-149.5\"/>\n",
       "<text text-anchor=\"start\" x=\"535\" y=\"-134.3\" font-family=\"Helvetica,sans-Serif\" font-size=\"14.00\" fill=\"#000000\">mse = 635033831.091</text>\n",
       "<text text-anchor=\"start\" x=\"564.5\" y=\"-119.3\" font-family=\"Helvetica,sans-Serif\" font-size=\"14.00\" fill=\"#000000\">samples = 51</text>\n",
       "<text text-anchor=\"start\" x=\"548\" y=\"-104.3\" font-family=\"Helvetica,sans-Serif\" font-size=\"14.00\" fill=\"#000000\">value = 56853.353</text>\n",
       "</g>\n",
       "<!-- 6&#45;&gt;14 -->\n",
       "<g id=\"edge9\" class=\"edge\">\n",
       "<title>6&#45;&gt;14</title>\n",
       "<path fill=\"none\" stroke=\"#000000\" d=\"M489.4564,-192.9465C510.4525,-180.6098 534.0629,-166.7371 554.6874,-154.6187\"/>\n",
       "<polygon fill=\"#000000\" stroke=\"#000000\" points=\"556.4785,-157.6258 563.3273,-149.5422 552.9323,-151.5905 556.4785,-157.6258\"/>\n",
       "</g>\n",
       "<!-- 3 -->\n",
       "<g id=\"node12\" class=\"node\">\n",
       "<title>3</title>\n",
       "<path fill=\"#fbe9dd\" stroke=\"#000000\" d=\"M676,-253.5C676,-253.5 545,-253.5 545,-253.5 539,-253.5 533,-247.5 533,-241.5 533,-241.5 533,-212.5 533,-212.5 533,-206.5 539,-200.5 545,-200.5 545,-200.5 676,-200.5 676,-200.5 682,-200.5 688,-206.5 688,-212.5 688,-212.5 688,-241.5 688,-241.5 688,-247.5 682,-253.5 676,-253.5\"/>\n",
       "<text text-anchor=\"start\" x=\"541\" y=\"-238.3\" font-family=\"Helvetica,sans-Serif\" font-size=\"14.00\" fill=\"#000000\">mse = 49400727.899</text>\n",
       "<text text-anchor=\"start\" x=\"558.5\" y=\"-223.3\" font-family=\"Helvetica,sans-Serif\" font-size=\"14.00\" fill=\"#000000\">samples = 4152</text>\n",
       "<text text-anchor=\"start\" x=\"554\" y=\"-208.3\" font-family=\"Helvetica,sans-Serif\" font-size=\"14.00\" fill=\"#000000\">value = 14382.84</text>\n",
       "</g>\n",
       "<!-- 2&#45;&gt;3 -->\n",
       "<g id=\"edge11\" class=\"edge\">\n",
       "<title>2&#45;&gt;3</title>\n",
       "<path fill=\"none\" stroke=\"#000000\" d=\"M610.5,-296.9465C610.5,-286.2621 610.5,-274.4254 610.5,-263.5742\"/>\n",
       "<polygon fill=\"#000000\" stroke=\"#000000\" points=\"614.0001,-263.5421 610.5,-253.5422 607.0001,-263.5422 614.0001,-263.5421\"/>\n",
       "</g>\n",
       "<!-- 4 -->\n",
       "<g id=\"node13\" class=\"node\">\n",
       "<title>4</title>\n",
       "<path fill=\"#f4caab\" stroke=\"#000000\" d=\"M859,-261C859,-261 720,-261 720,-261 714,-261 708,-255 708,-249 708,-249 708,-205 708,-205 708,-199 714,-193 720,-193 720,-193 859,-193 859,-193 865,-193 871,-199 871,-205 871,-205 871,-249 871,-249 871,-255 865,-261 859,-261\"/>\n",
       "<text text-anchor=\"start\" x=\"743.5\" y=\"-245.8\" font-family=\"Helvetica,sans-Serif\" font-size=\"14.00\" fill=\"#000000\">model ≤ 1.414</text>\n",
       "<text text-anchor=\"start\" x=\"716\" y=\"-230.8\" font-family=\"Helvetica,sans-Serif\" font-size=\"14.00\" fill=\"#000000\">mse = 188101189.683</text>\n",
       "<text text-anchor=\"start\" x=\"737.5\" y=\"-215.8\" font-family=\"Helvetica,sans-Serif\" font-size=\"14.00\" fill=\"#000000\">samples = 6247</text>\n",
       "<text text-anchor=\"start\" x=\"729\" y=\"-200.8\" font-family=\"Helvetica,sans-Serif\" font-size=\"14.00\" fill=\"#000000\">value = 27253.543</text>\n",
       "</g>\n",
       "<!-- 2&#45;&gt;4 -->\n",
       "<g id=\"edge12\" class=\"edge\">\n",
       "<title>2&#45;&gt;4</title>\n",
       "<path fill=\"none\" stroke=\"#000000\" d=\"M669.1113,-296.9465C685.9555,-287.1599 704.4636,-276.4066 721.808,-266.3294\"/>\n",
       "<polygon fill=\"#000000\" stroke=\"#000000\" points=\"723.8688,-269.18 730.757,-261.13 720.3522,-263.1274 723.8688,-269.18\"/>\n",
       "</g>\n",
       "<!-- 7 -->\n",
       "<g id=\"node14\" class=\"node\">\n",
       "<title>7</title>\n",
       "<path fill=\"#f5d1b6\" stroke=\"#000000\" d=\"M859,-157C859,-157 720,-157 720,-157 714,-157 708,-151 708,-145 708,-145 708,-101 708,-101 708,-95 714,-89 720,-89 720,-89 859,-89 859,-89 865,-89 871,-95 871,-101 871,-101 871,-145 871,-145 871,-151 865,-157 859,-157\"/>\n",
       "<text text-anchor=\"start\" x=\"740.5\" y=\"-141.8\" font-family=\"Helvetica,sans-Serif\" font-size=\"14.00\" fill=\"#000000\">x0_diesel ≤ 0.5</text>\n",
       "<text text-anchor=\"start\" x=\"716\" y=\"-126.8\" font-family=\"Helvetica,sans-Serif\" font-size=\"14.00\" fill=\"#000000\">mse = 162695872.295</text>\n",
       "<text text-anchor=\"start\" x=\"737.5\" y=\"-111.8\" font-family=\"Helvetica,sans-Serif\" font-size=\"14.00\" fill=\"#000000\">samples = 4807</text>\n",
       "<text text-anchor=\"start\" x=\"729\" y=\"-96.8\" font-family=\"Helvetica,sans-Serif\" font-size=\"14.00\" fill=\"#000000\">value = 24491.155</text>\n",
       "</g>\n",
       "<!-- 4&#45;&gt;7 -->\n",
       "<g id=\"edge13\" class=\"edge\">\n",
       "<title>4&#45;&gt;7</title>\n",
       "<path fill=\"none\" stroke=\"#000000\" d=\"M789.5,-192.9465C789.5,-184.776 789.5,-175.9318 789.5,-167.3697\"/>\n",
       "<polygon fill=\"#000000\" stroke=\"#000000\" points=\"793.0001,-167.13 789.5,-157.13 786.0001,-167.13 793.0001,-167.13\"/>\n",
       "</g>\n",
       "<!-- 8 -->\n",
       "<g id=\"node17\" class=\"node\">\n",
       "<title>8</title>\n",
       "<path fill=\"#efb388\" stroke=\"#000000\" d=\"M1040,-149.5C1040,-149.5 901,-149.5 901,-149.5 895,-149.5 889,-143.5 889,-137.5 889,-137.5 889,-108.5 889,-108.5 889,-102.5 895,-96.5 901,-96.5 901,-96.5 1040,-96.5 1040,-96.5 1046,-96.5 1052,-102.5 1052,-108.5 1052,-108.5 1052,-137.5 1052,-137.5 1052,-143.5 1046,-149.5 1040,-149.5\"/>\n",
       "<text text-anchor=\"start\" x=\"897\" y=\"-134.3\" font-family=\"Helvetica,sans-Serif\" font-size=\"14.00\" fill=\"#000000\">mse = 162402041.797</text>\n",
       "<text text-anchor=\"start\" x=\"918.5\" y=\"-119.3\" font-family=\"Helvetica,sans-Serif\" font-size=\"14.00\" fill=\"#000000\">samples = 1440</text>\n",
       "<text text-anchor=\"start\" x=\"910\" y=\"-104.3\" font-family=\"Helvetica,sans-Serif\" font-size=\"14.00\" fill=\"#000000\">value = 36474.931</text>\n",
       "</g>\n",
       "<!-- 4&#45;&gt;8 -->\n",
       "<g id=\"edge16\" class=\"edge\">\n",
       "<title>4&#45;&gt;8</title>\n",
       "<path fill=\"none\" stroke=\"#000000\" d=\"M848.7662,-192.9465C870.2368,-180.6098 894.3807,-166.7371 915.4713,-154.6187\"/>\n",
       "<polygon fill=\"#000000\" stroke=\"#000000\" points=\"917.3795,-157.5589 924.3064,-149.5422 913.8921,-151.4895 917.3795,-157.5589\"/>\n",
       "</g>\n",
       "<!-- 15 -->\n",
       "<g id=\"node15\" class=\"node\">\n",
       "<title>15</title>\n",
       "<path fill=\"#f6d3ba\" stroke=\"#000000\" d=\"M766,-53C766,-53 635,-53 635,-53 629,-53 623,-47 623,-41 623,-41 623,-12 623,-12 623,-6 629,0 635,0 635,0 766,0 766,0 772,0 778,-6 778,-12 778,-12 778,-41 778,-41 778,-47 772,-53 766,-53\"/>\n",
       "<text text-anchor=\"start\" x=\"631\" y=\"-37.8\" font-family=\"Helvetica,sans-Serif\" font-size=\"14.00\" fill=\"#000000\">mse = 142391845.25</text>\n",
       "<text text-anchor=\"start\" x=\"648.5\" y=\"-22.8\" font-family=\"Helvetica,sans-Serif\" font-size=\"14.00\" fill=\"#000000\">samples = 4483</text>\n",
       "<text text-anchor=\"start\" x=\"640\" y=\"-7.8\" font-family=\"Helvetica,sans-Serif\" font-size=\"14.00\" fill=\"#000000\">value = 23543.949</text>\n",
       "</g>\n",
       "<!-- 7&#45;&gt;15 -->\n",
       "<g id=\"edge14\" class=\"edge\">\n",
       "<title>7&#45;&gt;15</title>\n",
       "<path fill=\"none\" stroke=\"#000000\" d=\"M758.1219,-88.9777C749.6766,-79.8207 740.5389,-69.9129 732.0825,-60.744\"/>\n",
       "<polygon fill=\"#000000\" stroke=\"#000000\" points=\"734.5221,-58.2266 725.1696,-53.2485 729.3764,-62.9723 734.5221,-58.2266\"/>\n",
       "</g>\n",
       "<!-- 16 -->\n",
       "<g id=\"node16\" class=\"node\">\n",
       "<title>16</title>\n",
       "<path fill=\"#efb083\" stroke=\"#000000\" d=\"M947,-53C947,-53 808,-53 808,-53 802,-53 796,-47 796,-41 796,-41 796,-12 796,-12 796,-6 802,0 808,0 808,0 947,0 947,0 953,0 959,-6 959,-12 959,-12 959,-41 959,-41 959,-47 953,-53 947,-53\"/>\n",
       "<text text-anchor=\"start\" x=\"804\" y=\"-37.8\" font-family=\"Helvetica,sans-Serif\" font-size=\"14.00\" fill=\"#000000\">mse = 259451037.462</text>\n",
       "<text text-anchor=\"start\" x=\"829.5\" y=\"-22.8\" font-family=\"Helvetica,sans-Serif\" font-size=\"14.00\" fill=\"#000000\">samples = 324</text>\n",
       "<text text-anchor=\"start\" x=\"817\" y=\"-7.8\" font-family=\"Helvetica,sans-Serif\" font-size=\"14.00\" fill=\"#000000\">value = 37597.102</text>\n",
       "</g>\n",
       "<!-- 7&#45;&gt;16 -->\n",
       "<g id=\"edge15\" class=\"edge\">\n",
       "<title>7&#45;&gt;16</title>\n",
       "<path fill=\"none\" stroke=\"#000000\" d=\"M820.5255,-88.9777C828.8759,-79.8207 837.911,-69.9129 846.2724,-60.744\"/>\n",
       "<polygon fill=\"#000000\" stroke=\"#000000\" points=\"848.9556,-62.9959 853.1076,-53.2485 843.7833,-58.2791 848.9556,-62.9959\"/>\n",
       "</g>\n",
       "</g>\n",
       "</svg>\n"
      ],
      "text/plain": [
       "<graphviz.files.Source at 0x7fd3325eaa20>"
      ]
     },
     "execution_count": 353,
     "metadata": {
      "tags": []
     },
     "output_type": "execute_result"
    }
   ],
   "source": [
    "dt2=tree.export_graphviz(pipe_dt2, out_file=None, feature_names=tot_features_n, filled=True,\n",
    "                         rounded=True, special_characters=True)\n",
    "my_plot=graphviz.Source(dt2)\n",
    "my_plot"
   ]
  },
  {
   "cell_type": "markdown",
   "metadata": {
    "colab_type": "text",
    "id": "70GbFBobSWYv"
   },
   "source": [
    "#Conclusion\n",
    "For this dataset,we had to start by checking the distributions of the input features, this helped us remove some of the redundant variables. Then we had to perform missing value analysis of the columns and decide different ways to impute the missing values for continuous and categorical variables. \n",
    "We then try out various models and tune their hyper parameters using grid search. We select a smaller set of features using the feature importances and run the models again with the smaller subset. \n",
    "\n",
    "My main takeaway points for this assignment were the feature selection and the missing data analysis."
   ]
  }
 ],
 "metadata": {
  "colab": {
   "collapsed_sections": [],
   "name": "Copy of hw3_aml.ipynb",
   "provenance": []
  },
  "kernelspec": {
   "display_name": "Python 3",
   "language": "python",
   "name": "python3"
  },
  "language_info": {
   "codemirror_mode": {
    "name": "ipython",
    "version": 3
   },
   "file_extension": ".py",
   "mimetype": "text/x-python",
   "name": "python",
   "nbconvert_exporter": "python",
   "pygments_lexer": "ipython3",
   "version": "3.7.4"
  }
 },
 "nbformat": 4,
 "nbformat_minor": 1
}
